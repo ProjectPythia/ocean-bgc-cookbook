{
 "cells": [
  {
   "cell_type": "markdown",
   "id": "ae197c81-f0bf-4d15-a561-e3611ded5dc3",
   "metadata": {},
   "source": [
    "# Carbon fluxes"
   ]
  },
  {
   "cell_type": "code",
   "execution_count": null,
   "id": "9ac9a82f-c08e-4b96-8c05-6c6e984bb316",
   "metadata": {},
   "outputs": [],
   "source": [
    "%load_ext autoreload\n",
    "%autoreload 2"
   ]
  },
  {
   "cell_type": "code",
   "execution_count": null,
   "id": "db97e886-1d2d-4a67-b84c-4b21a94aac59",
   "metadata": {},
   "outputs": [],
   "source": [
    "import xarray as xr\n",
    "\n",
    "from dask.distributed import Client\n",
    "\n",
    "import catalog\n",
    "import util\n",
    "\n",
    "import matplotlib.pyplot as plt\n",
    "import cartopy\n",
    "import cartopy.crs as ccrs\n",
    "import pop_tools\n",
    "\n",
    "xr.set_options(keep_attrs=True)"
   ]
  },
  {
   "cell_type": "markdown",
   "id": "b4ad2a25-3e73-480b-bcff-5d82dc971c77",
   "metadata": {},
   "source": [
    "### Parameters"
   ]
  },
  {
   "cell_type": "code",
   "execution_count": null,
   "id": "97f7f7de-f226-447c-9507-f1b79161e994",
   "metadata": {
    "tags": [
     "parameters"
    ]
   },
   "outputs": [],
   "source": [
    "# Parameters\n",
    "casename = 'g.e22a06.G1850ECOIAF_JRA_PHYS_DEV.TL319_g17.scope_v1'\n",
    "component = 'pop'\n",
    "stream = 'h'\n",
    "\n",
    "cluster_scheduler_address = None"
   ]
  },
  {
   "cell_type": "code",
   "execution_count": null,
   "id": "010f414d-25df-4dfb-b0e9-d008a934b464",
   "metadata": {},
   "outputs": [],
   "source": [
    "assert component in ['pop']\n",
    "assert stream in ['h', 'h.ecosys.nday1']"
   ]
  },
  {
   "cell_type": "markdown",
   "id": "71d82f3c-5adf-4305-a760-109a26e1ec1c",
   "metadata": {},
   "source": [
    "### Connect to cluster"
   ]
  },
  {
   "cell_type": "code",
   "execution_count": null,
   "id": "fd01d4db-aa50-4c3d-9b97-4b164ce14379",
   "metadata": {},
   "outputs": [],
   "source": [
    "if cluster_scheduler_address is None:\n",
    "    cluster, client = util.get_ClusterClient()\n",
    "    cluster.scale(12)\n",
    "else:\n",
    "    client = Client(cluster_scheduler_address)\n",
    "client"
   ]
  },
  {
   "cell_type": "markdown",
   "id": "91932347-6925-4a9b-8ee7-e17947acd286",
   "metadata": {},
   "source": [
    "### Load the data"
   ]
  },
  {
   "cell_type": "code",
   "execution_count": null,
   "id": "dc7231b2-0a47-41a7-9def-f53660c38492",
   "metadata": {},
   "outputs": [],
   "source": [
    "dsets = catalog.to_dataset_dict(\n",
    "    case=casename,\n",
    "    component=component,\n",
    "    stream=stream,\n",
    ")\n",
    "dsets.keys()"
   ]
  },
  {
   "cell_type": "code",
   "execution_count": null,
   "id": "0b3365f8-04c3-4fc6-8339-83a39a119fd9",
   "metadata": {},
   "outputs": [],
   "source": [
    "ds_grid = pop_tools.get_grid('POP_gx1v7')\n",
    "lons = ds_grid.TLONG\n",
    "lats = ds_grid.TLAT\n",
    "depths = ds_grid.z_t * 0.01"
   ]
  },
  {
   "cell_type": "markdown",
   "id": "25f81a07-b21f-40ea-848a-b524ee78c280",
   "metadata": {},
   "source": [
    "### Compute long-term mean"
   ]
  },
  {
   "cell_type": "code",
   "execution_count": null,
   "id": "05915640-d591-45bc-bef3-51297b6f1327",
   "metadata": {},
   "outputs": [],
   "source": [
    "ds = dsets[f'{casename}.{component}.{stream}']"
   ]
  },
  {
   "cell_type": "code",
   "execution_count": null,
   "id": "69cc5b9d-8360-44ad-8509-7e13dad3a75b",
   "metadata": {},
   "outputs": [],
   "source": [
    "variables =['FG_CO2','photoC_TOT_zint','POC_FLUX_100m']\n",
    "keep_vars=['z_t','z_t_150m','dz','time_bound','TAREA','TLAT','TLONG'] + variables\n",
    "ds = ds.drop([v for v in ds.variables if v not in keep_vars])"
   ]
  },
  {
   "cell_type": "code",
   "execution_count": null,
   "id": "948b0706-e910-41ad-a88b-8106012e145b",
   "metadata": {},
   "outputs": [],
   "source": [
    "dt_wgt = ds.time_bound.diff('d2').squeeze()\n",
    "dt_wgt /= dt_wgt.sum()\n",
    "#dt_wgt"
   ]
  },
  {
   "cell_type": "code",
   "execution_count": null,
   "id": "40fa3690-1863-46ca-aa3c-e20b8cd5fa64",
   "metadata": {},
   "outputs": [],
   "source": [
    "ds = ds.weighted(dt_wgt).mean('time')"
   ]
  },
  {
   "cell_type": "markdown",
   "id": "57377285-831e-4b00-a506-091184774340",
   "metadata": {},
   "source": [
    "### Do some global integrals"
   ]
  },
  {
   "cell_type": "code",
   "execution_count": null,
   "id": "a3d378c2-3d41-471e-b3f0-b3bad046797e",
   "metadata": {},
   "outputs": [],
   "source": [
    "ds_glb = util.global_mean(ds, ds_grid, variables,normalize=False).compute()\n",
    "\n",
    "nmols_to_PgCyr = 1e-9 * 12. * 1e-15 * 365. * 86400.\n",
    "\n",
    "for v in variables:\n",
    "    ds_glb[v] = ds_glb[v] * nmols_to_PgCyr        \n",
    "    ds_glb[v].attrs['units'] = 'Pg C yr$^{-1}$'\n",
    "    \n",
    "ds_glb"
   ]
  },
  {
   "cell_type": "markdown",
   "id": "c791e98f-adee-4bbc-863f-98c59d024168",
   "metadata": {},
   "source": [
    "### Make some maps"
   ]
  },
  {
   "cell_type": "code",
   "execution_count": null,
   "id": "f11a3dd9-1aa3-435a-809d-5ecc6c47b1f5",
   "metadata": {},
   "outputs": [],
   "source": [
    "### convert from mmol/m3 cm/s to mmol/m2/d\n",
    "for var in variables:\n",
    "    ds[var] = ds[var] * 0.01 * 86400."
   ]
  },
  {
   "cell_type": "code",
   "execution_count": null,
   "id": "279b9a08-ef87-4b9f-99d2-2eda27879562",
   "metadata": {},
   "outputs": [],
   "source": [
    "fig = plt.figure(figsize=(8,12))\n",
    "\n",
    "ax = fig.add_subplot(3,1,1, projection=ccrs.Robinson(central_longitude=305.0))\n",
    "ax.set_title('a) Air-sea CO$_2$ flux', fontsize=12,loc='left')\n",
    "lon, lat, field = util.adjust_pop_grid(lons, lats,  ds.FG_CO2)\n",
    "pc=ax.pcolormesh(lon, lat, field, cmap='bwr',vmin=-5,vmax=5,transform=ccrs.PlateCarree())\n",
    "ax.coastlines('110m',linewidth=0.5)\n",
    "\n",
    "cbar1 = fig.colorbar(pc, ax=ax,extend='both',label='mmol m$^{-2}$ d$^{-1}$')\n",
    "\n",
    "\n",
    "ax = fig.add_subplot(3,1,2, projection=ccrs.Robinson(central_longitude=305.0))\n",
    "ax.set_title('b) NPP', fontsize=12,loc='left')\n",
    "lon, lat, field = util.adjust_pop_grid(lons, lats,  ds.photoC_TOT_zint)\n",
    "pc=ax.pcolormesh(lon, lat, field, cmap='jet',vmin=0,vmax=100,transform=ccrs.PlateCarree())\n",
    "ax.coastlines('110m',linewidth=0.5)\n",
    "\n",
    "cbar1 = fig.colorbar(pc, ax=ax,extend='max',label='mmol m$^{-2}$ d$^{-1}$')\n",
    "\n",
    "ax = fig.add_subplot(3,1,3, projection=ccrs.Robinson(central_longitude=305.0))\n",
    "ax.set_title('c) POC flux at 100m', fontsize=12,loc='left')\n",
    "lon, lat, field = util.adjust_pop_grid(lons, lats,  ds.POC_FLUX_100m)\n",
    "pc=ax.pcolormesh(lon, lat, field, cmap='jet',vmin=0,vmax=10,transform=ccrs.PlateCarree())\n",
    "ax.coastlines('110m',linewidth=0.5)\n",
    "\n",
    "cbar1 = fig.colorbar(pc, ax=ax,extend='max',label='mmol m$^{-2}$ d$^{-1}$');"
   ]
  },
  {
   "cell_type": "code",
   "execution_count": null,
   "id": "c9f49b5b-9321-499b-b224-c17fd6810168",
   "metadata": {},
   "outputs": [],
   "source": []
  },
  {
   "cell_type": "code",
   "execution_count": null,
   "id": "5386d7ac-f1a5-41e2-b526-2a47ed0b1af7",
   "metadata": {},
   "outputs": [],
   "source": []
  }
 ],
 "metadata": {
  "kernelspec": {
   "display_name": "Python 3 (ipykernel)",
   "language": "python",
   "name": "python3"
  },
  "language_info": {
   "codemirror_mode": {
    "name": "ipython",
    "version": 3
   },
   "file_extension": ".py",
   "mimetype": "text/x-python",
   "name": "python",
   "nbconvert_exporter": "python",
   "pygments_lexer": "ipython3",
   "version": "3.10.13"
  }
 },
 "nbformat": 4,
 "nbformat_minor": 5
}
