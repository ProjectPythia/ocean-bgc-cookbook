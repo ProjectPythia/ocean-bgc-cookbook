{
 "cells": [
  {
   "cell_type": "code",
   "execution_count": null,
   "metadata": {
    "tags": []
   },
   "outputs": [],
   "source": [
    "import numpy as np\n",
    "import math\n",
    "import xarray as xr\n",
    "import matplotlib\n",
    "import matplotlib.pyplot as plt\n",
    "%matplotlib inline\n",
    "from glob import glob\n",
    "import cartopy\n",
    "import cartopy.crs as ccrs\n",
    "import metpy.calc as mpcalc\n",
    "import warnings\n",
    "warnings.filterwarnings('ignore')\n",
    "from scipy import stats\n",
    "import pop_tools \n",
    "import matplotlib.path as mpath\n",
    "import dask\n",
    "import utils\n",
    "import pandas as pd\n",
    "import copernicus_marine_client as copernicus_marine\n",
    "\n",
    "import matplotlib.gridspec as gridspec\n",
    "import matplotlib.colors as colors"
   ]
  },
  {
   "cell_type": "markdown",
   "metadata": {},
   "source": [
    "# Including Glade CESM Data"
   ]
  },
  {
   "cell_type": "markdown",
   "metadata": {},
   "source": [
    "## To dos:\n",
    "- Pick a smaller timespan to subset on\n",
    "- Figure out cloud storage locations for CESM dataset and COPEPOD dataset, if unable to access another way\n",
    "- Add much more text describing motivation, some of the science"
   ]
  },
  {
   "cell_type": "markdown",
   "metadata": {
    "tags": []
   },
   "source": [
    "# Getting + processing CESM data"
   ]
  },
  {
   "cell_type": "code",
   "execution_count": null,
   "metadata": {},
   "outputs": [],
   "source": [
    "case = 'g.e22.GOMIPECOIAF_JRA-1p4-2018.TL319_g17.4p2z.002branch'\n",
    "path = '/glade/campaign/cesm/development/bgcwg/projects/CESM2-OMIP2-like-4p2z-run/'+case+'/ocn/proc/tseries/month_1'\n",
    "variables = ['diatChl', 'coccoChl','spChl','diazChl','mesozooC']\n",
    "coords = {'x':'TLONG','y':'TLAT'}\n",
    "keep_vars = variables + list(coords.values())+['dz','KMT','time_bound']\n",
    "path"
   ]
  },
  {
   "cell_type": "markdown",
   "metadata": {},
   "source": [
    "## Get monthly data and immediately convert it to annual"
   ]
  },
  {
   "cell_type": "code",
   "execution_count": null,
   "metadata": {},
   "outputs": [],
   "source": [
    "def preprocess(ds):\n",
    "    #ds=ds.isel(z_t=0)\n",
    "    ds=ds.isel(z_t_150m=0)\n",
    "    return ds"
   ]
  },
  {
   "cell_type": "code",
   "execution_count": null,
   "metadata": {},
   "outputs": [],
   "source": [
    "def preprocess2(ds):\n",
    "    #ds=ds.isel(z_t=0)\n",
    "    ds=ds.mean(dim='z_t_150m')\n",
    "    return ds"
   ]
  },
  {
   "cell_type": "markdown",
   "metadata": {},
   "source": [
    "## Add some text explaining what's happening here"
   ]
  },
  {
   "cell_type": "code",
   "execution_count": null,
   "metadata": {},
   "outputs": [],
   "source": [
    "%%time\n",
    "\n",
    "ds = xr.Dataset()\n",
    "\n",
    "\n",
    "for v in variables:  \n",
    "    print(v)\n",
    "    files = sorted(glob(f'{path}/{case}.pop.h.{v}.195801-202112.nc'))\n",
    "\n",
    "    if v=='mesozooC':\n",
    "        print('got mesozoo, making avg')\n",
    "        dsv=xr.open_mfdataset(files, data_vars=\"minimal\", coords='minimal', compat=\"override\", parallel=True, \n",
    "                              combine='nested', concat_dim=\"time\",\n",
    "                       drop_variables=[\"transport_components\", \"transport_regions\"], decode_times=True,preprocess=preprocess2)\n",
    "    else:\n",
    "        print('got a chl var, getting surf')\n",
    "        dsv=xr.open_mfdataset(files, data_vars=\"minimal\", coords='minimal', compat=\"override\", parallel=True, \n",
    "                              combine='nested', concat_dim=\"time\",\n",
    "                       drop_variables=[\"transport_components\", \"transport_regions\"], decode_times=True,preprocess=preprocess)\n",
    "\n",
    "    ### is this override setting correct?\n",
    "    ds = xr.merge((ds, dsv), compat='override')\n",
    "\n",
    "ds = ds.drop([v for v in ds.variables if v not in keep_vars]).squeeze()"
   ]
  },
  {
   "cell_type": "code",
   "execution_count": null,
   "metadata": {},
   "outputs": [],
   "source": [
    "ds[\"time\"] = ds.time_bound.compute().mean(dim=\"d2\")"
   ]
  },
  {
   "cell_type": "markdown",
   "metadata": {},
   "source": [
    "## Spin up some Dask to make the processing faster\n",
    "\n",
    "This probably needs to be removed for the cookbook"
   ]
  },
  {
   "cell_type": "code",
   "execution_count": null,
   "metadata": {},
   "outputs": [],
   "source": [
    "def get_ClusterClient():\n",
    "    import dask\n",
    "    from dask_jobqueue import PBSCluster\n",
    "    from dask.distributed import Client\n",
    "    cluster = PBSCluster(\n",
    "        cores=1,\n",
    "        memory='25GB',\n",
    "        processes=1,\n",
    "        queue='casper',\n",
    "        resource_spec='select=1:ncpus=1:mem=25GB',\n",
    "        project='NCGD0011',\n",
    "        walltime='01:00:00',\n",
    "        interface='ext',)\n",
    "\n",
    "    dask.config.set({\n",
    "        'distributed.dashboard.link':\n",
    "        'https://jupyterhub.hpc.ucar.edu/stable/user/{USER}/proxy/{port}/status'\n",
    "    })\n",
    "    client = Client(cluster)\n",
    "    return cluster, client"
   ]
  },
  {
   "cell_type": "code",
   "execution_count": null,
   "metadata": {},
   "outputs": [],
   "source": [
    "cluster, client = get_ClusterClient()\n",
    "cluster.scale(8) "
   ]
  },
  {
   "cell_type": "code",
   "execution_count": null,
   "metadata": {},
   "outputs": [],
   "source": [
    "client"
   ]
  },
  {
   "cell_type": "code",
   "execution_count": null,
   "metadata": {},
   "outputs": [],
   "source": [
    "ds_grid = pop_tools.get_grid('POP_gx1v7')\n",
    "\n",
    "area = ds_grid.TAREA\n",
    "lats = ds_grid.TLAT\n",
    "lons = ds_grid.TLONG"
   ]
  },
  {
   "cell_type": "markdown",
   "metadata": {},
   "source": [
    "## Processing the CESM output"
   ]
  },
  {
   "cell_type": "markdown",
   "metadata": {},
   "source": [
    "### Make annual means"
   ]
  },
  {
   "cell_type": "code",
   "execution_count": null,
   "metadata": {},
   "outputs": [],
   "source": [
    "ds_ann = ds.resample({'time':'A'}).mean(dim='time').compute()"
   ]
  },
  {
   "cell_type": "markdown",
   "metadata": {},
   "source": [
    "### Trim it to the same years as the hi res comparison: 1997 to 2021"
   ]
  },
  {
   "cell_type": "code",
   "execution_count": null,
   "metadata": {},
   "outputs": [],
   "source": [
    "ds_ann.time[39:64]"
   ]
  },
  {
   "cell_type": "code",
   "execution_count": null,
   "metadata": {},
   "outputs": [],
   "source": [
    "ds_ann = ds_ann.isel(time=slice(39,64))"
   ]
  },
  {
   "cell_type": "code",
   "execution_count": null,
   "metadata": {},
   "outputs": [],
   "source": [
    "ds = ds_ann.mean(dim='time')"
   ]
  },
  {
   "cell_type": "code",
   "execution_count": null,
   "metadata": {},
   "outputs": [],
   "source": [
    "ds"
   ]
  },
  {
   "cell_type": "markdown",
   "metadata": {},
   "source": [
    "### Adding all the sources of chlorophyll in CESM's biogeochemistry model"
   ]
  },
  {
   "cell_type": "code",
   "execution_count": null,
   "metadata": {},
   "outputs": [],
   "source": [
    "cesm_chl = ds.diatChl + ds.spChl + ds.coccoChl + ds.diazChl"
   ]
  },
  {
   "cell_type": "markdown",
   "metadata": {
    "tags": []
   },
   "source": [
    "# Getting GlobColour chlorophyll concentration satellite data"
   ]
  },
  {
   "cell_type": "code",
   "execution_count": null,
   "metadata": {
    "tags": []
   },
   "outputs": [],
   "source": [
    "### need to get a generic set of login credentials and provide a file to input those\n",
    "\n",
    "ds_sat = copernicus_marine.open_dataset( \n",
    "    dataset_id = 'c3s_obs-oc_glo_bgc-plankton_my_l3-multi-4km_P1D',\n",
    "    variables= ['CHL'],\n",
    "    start_datetime = \"2012-01-01\",\n",
    "    end_datetime = \"2012-12-31\",\n",
    ")\n",
    "ds_sat"
   ]
  },
  {
   "cell_type": "code",
   "execution_count": null,
   "metadata": {},
   "outputs": [],
   "source": [
    "ds_sat = ds_sat.mean(dim='time')"
   ]
  },
  {
   "cell_type": "markdown",
   "metadata": {},
   "source": [
    "# Getting COPEPOD data"
   ]
  },
  {
   "cell_type": "code",
   "execution_count": null,
   "metadata": {},
   "outputs": [],
   "source": [
    "url = 'https://www.st.nmfs.noaa.gov/copepod/biomass/copepod-2012__biomass-fields.zip'\n",
    "\n",
    "local_file = 'data/orig/copepod-2012__biomass-fields.zip'\n",
    "os.makedirs(os.path.dirname(local_file), exist_ok=True)\n",
    "if not os.path.exists('data/orig/copepod-2012__biomass-fields'):\n",
    "    urllib.request.urlretrieve(url, local_file)\n",
    "    subprocess.run(['unzip', '-d', 'data/orig', local_file])"
   ]
  },
  {
   "cell_type": "code",
   "execution_count": null,
   "metadata": {},
   "outputs": [],
   "source": [
    "def csv2nc(f):\n",
    "    \"\"\"Convert csv file to Xarray dataset\"\"\"\n",
    "    lon = xr.DataArray(np.arange(-180 + 0.125, 180., 0.25), dims=('lon'), name='lon')\n",
    "    lat = xr.DataArray(np.arange(-90 + 0.125, 90., 0.25), dims=('lat'), name='lat')\n",
    "\n",
    "    rename_dict = {\n",
    "        'Longitude': 'lon', \n",
    "        'Latitude': 'lat', \n",
    "        'Total Carbon Mass (mg-C/m3)': 'copepod_C',\n",
    "        'n': 'n_obs',\n",
    "    }\n",
    "    attrs = dict(\n",
    "        copepod_C=dict(\n",
    "            units='mg-C m$^{-3}$',\n",
    "            long_name='Total Carbon Mass',\n",
    "        )\n",
    "    )\n",
    "    \n",
    "    keep_vars = list(rename_dict.values())\n",
    "    \n",
    "    df = pd.read_csv(f).rename(rename_dict, axis=1)[keep_vars].set_index(['lon', 'lat'])\n",
    "    _, ds = xr.align(xr.Dataset(dict(lon=lon, lat=lat)), df.to_xarray(), join='outer')\n",
    "    \n",
    "    for v in attrs:\n",
    "        ds[v].attrs = attrs[v]    \n",
    "    \n",
    "    ds.attrs['file_in'] = f\n",
    "    return ds.transpose('lat', 'lon')"
   ]
  },
  {
   "cell_type": "code",
   "execution_count": null,
   "metadata": {},
   "outputs": [],
   "source": [
    "#file = '/glade/u/home/kristenk/work/copepod-biomass/data/POP_gx1v7/copepod-2012__cmass-m00-qtr.zarr'\n",
    "file = 'data/0_25x0_25/copepod-2012__cmass-m00-qtr.zarr'\n",
    "ds_copepod = xr.open_dataset(file, engine=\"zarr\")\n",
    "\n",
    "### explain this unit conversion - assuming grams to moles?\n",
    "ds_copepod['copepod_C']=ds_copepod.copepod_C/12.011"
   ]
  },
  {
   "cell_type": "code",
   "execution_count": null,
   "metadata": {},
   "outputs": [],
   "source": [
    "ds_copepod"
   ]
  },
  {
   "cell_type": "code",
   "execution_count": null,
   "metadata": {},
   "outputs": [],
   "source": [
    "### add some more labels to this plot, or another version of it to show both quick and detailed\n",
    "\n",
    "#ds_copepod['copepod_C'].plot()\n",
    "\n",
    "plt.pcolormesh(ds_copepod.lon, ds_copepod.lat, ds_copepod.copepod_C, cmap='Reds', vmin=0, vmax=2)"
   ]
  },
  {
   "cell_type": "markdown",
   "metadata": {},
   "source": [
    "# Make the chlorophyll and copepod maps"
   ]
  },
  {
   "cell_type": "code",
   "execution_count": null,
   "metadata": {},
   "outputs": [],
   "source": [
    "ds_grid_x1 = pop_tools.get_grid('POP_gx1v7')\n",
    "lons_x1=ds_grid_x1.TLONG\n",
    "lats_x1=ds_grid_x1.TLAT"
   ]
  },
  {
   "cell_type": "code",
   "execution_count": null,
   "metadata": {},
   "outputs": [],
   "source": [
    "fig = plt.figure(figsize=(10, 8))\n",
    "gs = gridspec.GridSpec(nrows=2, ncols=2, width_ratios=(1, 0.04))\n",
    "\n",
    "prj = ccrs.Robinson(central_longitude=305.0)\n",
    "\n",
    "ax_chl_sat = plt.subplot(gs[0, 0], projection=prj)\n",
    "ax_meso_cope = plt.subplot(gs[1, 0], projection=prj)\n",
    "\n",
    "ax_chl_sat.set_title('a) GlobColour chlorophyll', fontsize=12)\n",
    "pc_chl_sat=ax_chl_sat.pcolormesh(ds_sat.longitude, ds_sat.latitude, ds_sat.CHL, \n",
    "                     cmap='Greens',norm=colors.LogNorm(vmin=0.1, vmax=3),\n",
    "                     transform=ccrs.PlateCarree())\n",
    "ax_chl_sat.coastlines('110m',linewidth=0.75)\n",
    "\n",
    "\n",
    "ax_meso_cope.set_title('b) COPEPOD dataset', fontsize=12)\n",
    "pc_meso_cope=ax_meso_cope.pcolormesh(ds_copepod.lon, ds_copepod.lat, ds_copepod.copepod_C, cmap='Reds',vmin=0,vmax=2,transform=ccrs.PlateCarree())\n",
    "ax_meso_cope.coastlines('110m',linewidth=0.5)\n",
    "\n",
    "\n",
    "cax_chl = plt.subplot(gs[0, 1])\n",
    "cax_meso = plt.subplot(gs[1, 1])\n",
    "\n",
    "cb_chl = plt.colorbar(pc_chl_sat, cax=cax_chl,extend='max', \n",
    "                      label='Chlorophyll at surface (mg m$^{-3}$)')\n",
    "cb_meso = plt.colorbar(pc_meso_cope, cax=cax_meso,extend='max', label='top 150m/200m mean (mmol m$^{-3}$)')\n",
    "\n",
    "\n",
    "### why is land getting a nonzero value? fix through mask or otherwise\n",
    "\n",
    "#fig.savefig('/glade/work/kristenk/figs/chl_copepod_comparison_x1.png', bbox_inches='tight', dpi=300, format='png');"
   ]
  },
  {
   "cell_type": "code",
   "execution_count": null,
   "metadata": {},
   "outputs": [],
   "source": [
    "fig = plt.figure(figsize=(16, 8))\n",
    "gs = gridspec.GridSpec(nrows=2, ncols=3, width_ratios=(1, 1, 0.04))\n",
    "\n",
    "prj = ccrs.Robinson(central_longitude=305.0)\n",
    "\n",
    "ax_chl_sat = plt.subplot(gs[0, 0], projection=prj)\n",
    "ax_chl_cesm = plt.subplot(gs[0, 1], projection=prj)\n",
    "ax_meso_cope = plt.subplot(gs[1, 0], projection=prj)\n",
    "ax_meso_cesm = plt.subplot(gs[1, 1], projection=prj)\n",
    "\n",
    "ax_chl_sat.set_title('a) GlobColour chlorophyll', fontsize=12)\n",
    "pc_chl_sat=ax_chl_sat.pcolormesh(ds_sat.longitude, ds_sat.latitude, ds_sat.CHL, \n",
    "                     cmap='Greens',norm=colors.LogNorm(vmin=0.1, vmax=3),\n",
    "                     transform=ccrs.PlateCarree())\n",
    "ax_chl_sat.coastlines('110m',linewidth=0.75)\n",
    "\n",
    "ax_chl_cesm.set_title('b) CESM chlorophyll', fontsize=12)\n",
    "lon, lat, field = utils.adjust_pop_grid(lons, lats,  cesm_chl)\n",
    "ax_chl_cesm.coastlines('110m',linewidth=0.75)\n",
    "pc_chl_cesm=ax_chl_cesm.pcolormesh(lon, lat, field, cmap='Greens',\n",
    "                 norm=colors.LogNorm(vmin=0.1, vmax=3),transform=ccrs.PlateCarree())\n",
    "\n",
    "\n",
    "\n",
    "\n",
    "ax_meso_cope.set_title('c) COPEPOD dataset', fontsize=12)\n",
    "pc_meso_cope=ax_meso_cope.pcolormesh(ds_copepod.lon, ds_copepod.lat, ds_copepod.copepod_C, cmap='Reds',vmin=0,vmax=2,transform=ccrs.PlateCarree())\n",
    "ax_meso_cope.coastlines('110m',linewidth=0.5)\n",
    "\n",
    "ax_meso_cesm.set_title('d) CESM mesozooplankton', fontsize=12)\n",
    "lon, lat, field = utils.adjust_pop_grid(lons, lats, ds.mesozooC)\n",
    "pc_meso_cesm=ax_meso_cesm.pcolormesh(lon, lat, field, cmap='Reds',vmin=0,vmax=2,transform=ccrs.PlateCarree())\n",
    "ax_meso_cesm.coastlines('110m',linewidth=0.5)\n",
    "\n",
    "cax_chl = plt.subplot(gs[0, 2])\n",
    "cax_meso = plt.subplot(gs[1, 2])\n",
    "\n",
    "cb_chl = plt.colorbar(pc_chl_cesm, cax=cax_chl,extend='max', \n",
    "                      label='Chlorophyll at surface (mg m$^{-3}$)')\n",
    "cb_meso = plt.colorbar(pc_meso_cesm, cax=cax_meso,extend='max', label='top 150m/200m mean (mmol m$^{-3}$)')\n",
    "\n",
    "\n",
    "### why is land getting a nonzero value? fix through mask or otherwise\n",
    "\n",
    "#fig.savefig('/glade/work/kristenk/figs/chl_copepod_comparison_x1.png', bbox_inches='tight', dpi=300, format='png');"
   ]
  },
  {
   "cell_type": "code",
   "execution_count": null,
   "metadata": {},
   "outputs": [],
   "source": [
    "cluster.close()"
   ]
  }
 ],
 "metadata": {
    "kernelspec": {
        "display_name": "Python 3 (ipykernel)",
        "language": "python",
        "name": "python3"
  },
  "language_info": {
   "codemirror_mode": {
    "name": "ipython",
    "version": 3
   },
   "file_extension": ".py",
   "mimetype": "text/x-python",
   "name": "python",
   "nbconvert_exporter": "python",
   "pygments_lexer": "ipython3",
   "version": "3.11.7"
  }
 },
 "nbformat": 4,
 "nbformat_minor": 4
}
