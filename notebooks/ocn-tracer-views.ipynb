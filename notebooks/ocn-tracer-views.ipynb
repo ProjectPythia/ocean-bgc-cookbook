{
 "cells": [
  {
   "cell_type": "markdown",
   "id": "b32e55d3-d037-40b9-96ac-b2ff03536e23",
   "metadata": {},
   "source": [
    "# Quick look at a variable\n",
    "Edit this later!"
   ]
  },
  {
   "cell_type": "code",
   "execution_count": null,
   "id": "e13795c3-000f-465c-b07b-e3bb31415aef",
   "metadata": {},
   "outputs": [],
   "source": [
    "%load_ext autoreload\n",
    "%autoreload 2"
   ]
  },
  {
   "cell_type": "code",
   "execution_count": null,
   "id": "e8199a6d-1b51-453e-a34c-45ed5f88c59f",
   "metadata": {},
   "outputs": [],
   "source": [
    "import xarray as xr\n",
    "\n",
    "from dask.distributed import Client\n",
    "import glob\n",
    "import catalog\n",
    "import util\n",
    "import matplotlib.pyplot as plt\n",
    "import cartopy\n",
    "import cartopy.crs as ccrs\n",
    "import pop_tools\n",
    "\n",
    "xr.set_options(keep_attrs=True)"
   ]
  },
  {
   "cell_type": "markdown",
   "id": "8e5fd23a-c09c-4fff-8d7b-d2881051ec05",
   "metadata": {},
   "source": [
    "## Parameters"
   ]
  },
  {
   "cell_type": "code",
   "execution_count": null,
   "id": "7aba216b-6257-44cb-b711-41178010c5e9",
   "metadata": {
    "tags": [
     "parameters"
    ]
   },
   "outputs": [],
   "source": [
    "variable_id = 'TEMP'"
   ]
  },
  {
   "cell_type": "markdown",
   "id": "c16bafad-005f-498f-b087-d8808166d618",
   "metadata": {},
   "source": [
    "### Connect to cluster"
   ]
  },
  {
   "cell_type": "code",
   "execution_count": null,
   "id": "586384b0-ec2e-4751-aeb0-5e930119a2ca",
   "metadata": {},
   "outputs": [],
   "source": [
    "cluster, client = util.get_ClusterClient()\n",
    "cluster.scale(12)"
   ]
  },
  {
   "cell_type": "markdown",
   "id": "f0bb8152-4d90-489c-bfdb-636e41b82c00",
   "metadata": {},
   "source": [
    "## Load the data"
   ]
  },
  {
   "cell_type": "code",
   "execution_count": null,
   "id": "a4931e2f-fa4e-4cf7-a4e8-199401ea0ed3",
   "metadata": {},
   "outputs": [],
   "source": [
    "case = 'g.e22.GOMIPECOIAF_JRA-1p4-2018.TL319_g17.4p2z.002branch'\n",
    "path = '/glade/campaign/cesm/development/bgcwg/projects/CESM2-OMIP2-like-4p2z-run/'+case+'/ocn/proc/tseries/month_1'\n",
    "coords = {'x':'TLONG','y':'TLAT'}\n",
    "path"
   ]
  },
  {
   "cell_type": "code",
   "execution_count": null,
   "id": "075a5fce-0bed-4631-a12c-8bbced5edeb5",
   "metadata": {},
   "outputs": [],
   "source": [
    "files = glob.glob(f'{path}/{case}.pop.h.*.195801-202112.nc')\n",
    "ds=xr.open_mfdataset(files, data_vars=\"minimal\", coords='minimal', compat=\"override\", parallel=True,\n",
    "                       drop_variables=[\"transport_components\", \"transport_regions\", 'moc_components'], decode_times=True)\n",
    "ds"
   ]
  },
  {
   "cell_type": "code",
   "execution_count": null,
   "id": "7abc7911-cfb2-40d7-bf8e-5b909bc8319d",
   "metadata": {},
   "outputs": [],
   "source": [
    "# dt_wgt = ds.time_bound.diff('d2').squeeze()\n",
    "# dt_wgt /= dt_wgt.sum()\n",
    "# dt_wgt"
   ]
  },
  {
   "cell_type": "code",
   "execution_count": null,
   "id": "044ce3e1-394d-471a-a8e6-5e99ce72f087",
   "metadata": {},
   "outputs": [],
   "source": [
    "# ds[variable_id].weighted(dt_wgt).mean('time').isel(z_t=0).plot()\n",
    "ds[variable_id].mean('time').isel(z_t=0).plot()"
   ]
  },
  {
   "cell_type": "code",
   "execution_count": null,
   "id": "85e11808-00c1-459f-90a7-767de2540c24",
   "metadata": {},
   "outputs": [],
   "source": [
    "ds_grid = pop_tools.get_grid('POP_gx1v7')\n",
    "lons = ds_grid.TLONG\n",
    "lats = ds_grid.TLAT\n",
    "depths = ds_grid.z_t * 0.01"
   ]
  },
  {
   "cell_type": "markdown",
   "id": "1f31f792-bad2-43c3-af22-390699ed19ff",
   "metadata": {},
   "source": [
    "# FIX LABELS + COLOR ON THIS PLOT"
   ]
  },
  {
   "cell_type": "code",
   "execution_count": null,
   "id": "bff8e04c-c929-4159-8c04-208cad7285d6",
   "metadata": {},
   "outputs": [],
   "source": [
    "fig = plt.figure(figsize=(8,6))\n",
    "\n",
    "ax = fig.add_subplot(1,1,1, projection=ccrs.Robinson(central_longitude=305.0))\n",
    "land = cartopy.feature.NaturalEarthFeature('physical', 'land', scale='110m', edgecolor='k', facecolor='white', linewidth=0.5)\n",
    "ax.add_feature(land)\n",
    "ax.set_title('CESM surface ' + variable_id, fontsize=10)\n",
    "lon, lat, field = util.adjust_pop_grid(lons, lats, ds[variable_id].mean('time').isel(z_t=0))\n",
    "pc1=ax.pcolormesh(lon, lat,field, vmin=0, vmax=20, cmap='Reds',\n",
    "                 transform=ccrs.PlateCarree())\n",
    "cbar1 = fig.colorbar(pc1, ax=ax,extend='max',label=ds[variable_id].units)"
   ]
  }
 ],
 "metadata": {
  "kernelspec": {
   "display_name": "Python 3 (ipykernel)",
   "language": "python",
   "name": "python3"
  },
  "language_info": {
   "codemirror_mode": {
    "name": "ipython",
    "version": 3
   },
   "file_extension": ".py",
   "mimetype": "text/x-python",
   "name": "python",
   "nbconvert_exporter": "python",
   "pygments_lexer": "ipython3",
   "version": "3.10.13"
  }
 },
 "nbformat": 4,
 "nbformat_minor": 5
}
