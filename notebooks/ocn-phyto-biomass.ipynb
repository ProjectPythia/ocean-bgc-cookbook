{
 "cells": [
  {
   "cell_type": "markdown",
   "id": "b32e55d3-d037-40b9-96ac-b2ff03536e23",
   "metadata": {},
   "source": [
    "# Phytoplankton biomass"
   ]
  },
  {
   "cell_type": "code",
   "execution_count": null,
   "id": "e13795c3-000f-465c-b07b-e3bb31415aef",
   "metadata": {},
   "outputs": [],
   "source": [
    "%load_ext autoreload\n",
    "%autoreload 2"
   ]
  },
  {
   "cell_type": "code",
   "execution_count": null,
   "id": "e8199a6d-1b51-453e-a34c-45ed5f88c59f",
   "metadata": {},
   "outputs": [],
   "source": [
    "import xarray as xr\n",
    "\n",
    "from dask.distributed import Client\n",
    "\n",
    "import catalog\n",
    "import util\n",
    "\n",
    "xr.set_options(keep_attrs=True)"
   ]
  },
  {
   "cell_type": "code",
   "execution_count": null,
   "id": "4f00b7e9-4573-4ca5-9b40-11d924935d7f",
   "metadata": {},
   "outputs": [],
   "source": [
    "import matplotlib.pyplot as plt\n",
    "import cartopy\n",
    "import cartopy.crs as ccrs\n",
    "import pop_tools"
   ]
  },
  {
   "cell_type": "code",
   "execution_count": null,
   "id": "0850149e-56d4-4f28-88bd-2639e11ad20a",
   "metadata": {},
   "outputs": [],
   "source": [
    "ds_grid = pop_tools.get_grid('POP_gx1v7')\n",
    "lons=ds_grid.TLONG\n",
    "lats=ds_grid.TLAT"
   ]
  },
  {
   "cell_type": "markdown",
   "id": "8e5fd23a-c09c-4fff-8d7b-d2881051ec05",
   "metadata": {},
   "source": [
    "### Parameters"
   ]
  },
  {
   "cell_type": "code",
   "execution_count": null,
   "id": "7aba216b-6257-44cb-b711-41178010c5e9",
   "metadata": {
    "tags": [
     "parameters"
    ]
   },
   "outputs": [],
   "source": [
    "casename = 'g.e22a06.G1850ECOIAF_JRA_PHYS_DEV.TL319_g17.scope_v1'\n",
    "component = 'pop'\n",
    "stream = 'h'\n",
    "\n",
    "cluster_scheduler_address = None"
   ]
  },
  {
   "cell_type": "code",
   "execution_count": null,
   "id": "b29c2ce8-1aea-4c88-a488-aef634305748",
   "metadata": {},
   "outputs": [],
   "source": [
    "assert component in ['pop']\n",
    "assert stream in ['h', 'h.ecosys.nday1']"
   ]
  },
  {
   "cell_type": "markdown",
   "id": "0bc82532-c3b7-4378-b6b9-416ccd553c1b",
   "metadata": {},
   "source": [
    "### Connect to cluster"
   ]
  },
  {
   "cell_type": "code",
   "execution_count": null,
   "id": "c549c0ec-0721-4986-be5f-6c7c9e632fc1",
   "metadata": {},
   "outputs": [],
   "source": [
    "if cluster_scheduler_address is None:\n",
    "    cluster, client = util.get_ClusterClient()\n",
    "    cluster.scale(12)\n",
    "else:\n",
    "    client = Client(cluster_scheduler_address)\n",
    "client"
   ]
  },
  {
   "cell_type": "markdown",
   "id": "976ffa95-263e-4d11-bda3-0637f9d28212",
   "metadata": {},
   "source": [
    "### Load the data"
   ]
  },
  {
   "cell_type": "code",
   "execution_count": null,
   "id": "4e7e974e-99a7-42a2-8925-90e23a848edc",
   "metadata": {},
   "outputs": [],
   "source": [
    "dsets = catalog.to_dataset_dict(\n",
    "    case=casename,\n",
    "    component=component,\n",
    "    stream=stream,\n",
    ")\n",
    "dsets.keys()"
   ]
  },
  {
   "cell_type": "markdown",
   "id": "0bc1e235-6804-4bb9-bb90-bd3fcf2db1bd",
   "metadata": {},
   "source": [
    "## Compute long-term mean and plot"
   ]
  },
  {
   "cell_type": "code",
   "execution_count": null,
   "id": "71171c48-c130-4d74-9ce2-3beda2d453e2",
   "metadata": {},
   "outputs": [],
   "source": [
    "ds = dsets[f'{casename}.{component}.{stream}']"
   ]
  },
  {
   "cell_type": "markdown",
   "id": "b5d851b8-ddae-4407-8aee-1f2f01bb5780",
   "metadata": {},
   "source": [
    "### Variable list"
   ]
  },
  {
   "cell_type": "code",
   "execution_count": null,
   "id": "ea5e9150-4e80-45a2-a5b6-a8b6a474cf72",
   "metadata": {},
   "outputs": [],
   "source": [
    "variables =['diatC', 'coccoC','spC','diazC']"
   ]
  },
  {
   "cell_type": "code",
   "execution_count": null,
   "id": "a63a74ea-ac56-4034-aeaa-f648909fe59a",
   "metadata": {},
   "outputs": [],
   "source": [
    "keep_vars=['z_t','z_t_150m','dz','time_bound','TAREA','TLAT','TLONG'] + variables\n",
    "ds = ds.drop([v for v in ds.variables if v not in keep_vars])"
   ]
  },
  {
   "cell_type": "code",
   "execution_count": null,
   "id": "4321e1ec-03e1-45d6-bb0b-16fdcaa17ca3",
   "metadata": {},
   "outputs": [],
   "source": [
    "ds.coccoC.isel(time=0,z_t_150m=0).plot()"
   ]
  },
  {
   "cell_type": "code",
   "execution_count": null,
   "id": "c14e30d2-8d29-4bdc-a530-b6d07afe525f",
   "metadata": {},
   "outputs": [],
   "source": [
    "ds.coccoC.isel(time=6,z_t_150m=0).plot()"
   ]
  },
  {
   "cell_type": "code",
   "execution_count": null,
   "id": "be279650-3245-45b7-accb-57588be91dc1",
   "metadata": {},
   "outputs": [],
   "source": [
    "ds"
   ]
  },
  {
   "cell_type": "code",
   "execution_count": null,
   "id": "7abc7911-cfb2-40d7-bf8e-5b909bc8319d",
   "metadata": {},
   "outputs": [],
   "source": [
    "dt_wgt = ds.time_bound.diff('d2').squeeze()\n",
    "dt_wgt /= dt_wgt.sum()\n",
    "dt_wgt"
   ]
  },
  {
   "cell_type": "code",
   "execution_count": null,
   "id": "bb40f367-0a19-4719-a091-e8f7fd0abaaf",
   "metadata": {},
   "outputs": [],
   "source": [
    "ds = ds.weighted(dt_wgt).mean('time')"
   ]
  },
  {
   "cell_type": "code",
   "execution_count": null,
   "id": "044ce3e1-394d-471a-a8e6-5e99ce72f087",
   "metadata": {},
   "outputs": [],
   "source": [
    "ds['spC'].isel(z_t_150m=0).plot()"
   ]
  },
  {
   "cell_type": "markdown",
   "id": "a9e75c73-8bcf-459f-b017-736de91d88b3",
   "metadata": {},
   "source": [
    "### Phytoplankton biomass at the surface"
   ]
  },
  {
   "cell_type": "code",
   "execution_count": null,
   "id": "bff8e04c-c929-4159-8c04-208cad7285d6",
   "metadata": {},
   "outputs": [],
   "source": [
    "###### \n",
    "fig = plt.figure(figsize=(8,10))\n",
    "\n",
    "ax = fig.add_subplot(4,1,1, projection=ccrs.Robinson(central_longitude=305.0))\n",
    "ax.set_title('spC at surface', fontsize=12)\n",
    "lon, lat, field = util.adjust_pop_grid(lons, lats,  ds.spC.isel(z_t_150m=0))\n",
    "pc=ax.pcolormesh(lon, lat, field, cmap='jet',vmin=0,vmax=2,transform=ccrs.PlateCarree())\n",
    "cbar1 = fig.colorbar(pc, ax=ax,extend='max',label='spC (mmol m$^{-3}$)')\n",
    "\n",
    "\n",
    "ax = fig.add_subplot(4,1,2, projection=ccrs.Robinson(central_longitude=305.0))\n",
    "ax.set_title('diatC at surface', fontsize=12)\n",
    "lon, lat, field = util.adjust_pop_grid(lons, lats,  ds.diatC.isel(z_t_150m=0))\n",
    "pc=ax.pcolormesh(lon, lat, field, cmap='jet',vmin=0,vmax=4,transform=ccrs.PlateCarree())\n",
    "cbar1 = fig.colorbar(pc, ax=ax,extend='max',label='diatC (mmol m$^{-3}$)')\n",
    "\n",
    "\n",
    "ax = fig.add_subplot(4,1,3, projection=ccrs.Robinson(central_longitude=305.0))\n",
    "ax.set_title('coccoC at surface', fontsize=12)\n",
    "lon, lat, field = util.adjust_pop_grid(lons, lats,  ds.coccoC.isel(z_t_150m=0))\n",
    "pc=ax.pcolormesh(lon, lat, field, cmap='jet',vmin=0,vmax=2,transform=ccrs.PlateCarree())\n",
    "cbar1 = fig.colorbar(pc, ax=ax,extend='max',label='coccoC (mmol m$^{-3}$)')\n",
    "\n",
    "ax = fig.add_subplot(4,1,4, projection=ccrs.Robinson(central_longitude=305.0))\n",
    "ax.set_title('diazC at surface', fontsize=12)\n",
    "lon, lat, field = util.adjust_pop_grid(lons, lats,  ds.diazC.isel(z_t_150m=0))\n",
    "pc=ax.pcolormesh(lon, lat, field, cmap='jet',vmin=0,vmax=1,transform=ccrs.PlateCarree())\n",
    "cbar1 = fig.colorbar(pc, ax=ax,extend='max',label='diazC (mmol m$^{-3}$)')"
   ]
  },
  {
   "cell_type": "markdown",
   "id": "360fe6d4-d367-4dae-8e0b-20e06b5df51c",
   "metadata": {},
   "source": [
    "### Phytoplankton biomass at 100m"
   ]
  },
  {
   "cell_type": "code",
   "execution_count": null,
   "id": "b53c2678-afcf-4b42-b4bc-08f63163194c",
   "metadata": {},
   "outputs": [],
   "source": [
    "###### \n",
    "fig = plt.figure(figsize=(8,10))\n",
    "\n",
    "\n",
    "ax = fig.add_subplot(4,1,1, projection=ccrs.Robinson(central_longitude=305.0))\n",
    "ax.set_title('spC at 100m', fontsize=12)\n",
    "lon, lat, field = util.adjust_pop_grid(lons, lats,  ds.spC.isel(z_t_150m=9))\n",
    "pc=ax.pcolormesh(lon, lat, field, cmap='jet',vmin=0,vmax=0.4,transform=ccrs.PlateCarree())\n",
    "cbar1 = fig.colorbar(pc, ax=ax,extend='max',label='spC (mmol m$^{-3}$)')\n",
    "\n",
    "ax = fig.add_subplot(4,1,2, projection=ccrs.Robinson(central_longitude=305.0))\n",
    "ax.set_title('diatC at 100m', fontsize=12)\n",
    "lon, lat, field = util.adjust_pop_grid(lons, lats,  ds.diatC.isel(z_t_150m=9))\n",
    "pc=ax.pcolormesh(lon, lat, field, cmap='jet',vmin=0,vmax=0.4,transform=ccrs.PlateCarree())\n",
    "cbar1 = fig.colorbar(pc, ax=ax,extend='max',label='diatC (mmol m$^{-3}$)')\n",
    "\n",
    "ax = fig.add_subplot(4,1,3, projection=ccrs.Robinson(central_longitude=305.0))\n",
    "ax.set_title('coccoC at 100m', fontsize=12)\n",
    "lon, lat, field = util.adjust_pop_grid(lons, lats,  ds.coccoC.isel(z_t_150m=9))\n",
    "pc=ax.pcolormesh(lon, lat, field, cmap='jet',vmin=0,vmax=0.2,transform=ccrs.PlateCarree())\n",
    "cbar1 = fig.colorbar(pc, ax=ax,extend='max',label='coccoC (mmol m$^{-3}$)')\n",
    "\n",
    "ax = fig.add_subplot(4,1,4, projection=ccrs.Robinson(central_longitude=305.0))\n",
    "ax.set_title('diazC at 100m', fontsize=12)\n",
    "lon, lat, field = util.adjust_pop_grid(lons, lats,  ds.diazC.isel(z_t_150m=9))\n",
    "pc=ax.pcolormesh(lon, lat, field, cmap='jet',vmin=0,vmax=0.1,transform=ccrs.PlateCarree())\n",
    "\n",
    "cbar1 = fig.colorbar(pc, ax=ax,extend='max',label='diazC (mmol m$^{-3}$)')"
   ]
  },
  {
   "cell_type": "code",
   "execution_count": null,
   "id": "2221e15d-98fa-4a60-a984-b44569e87f6a",
   "metadata": {},
   "outputs": [],
   "source": []
  }
 ],
 "metadata": {
  "kernelspec": {
   "display_name": "Python [conda env:miniconda-cesm-exp]",
   "language": "python",
   "name": "conda-env-miniconda-cesm-exp-py"
  },
  "language_info": {
   "codemirror_mode": {
    "name": "ipython",
    "version": 3
   },
   "file_extension": ".py",
   "mimetype": "text/x-python",
   "name": "python",
   "nbconvert_exporter": "python",
   "pygments_lexer": "ipython3",
   "version": "3.7.12"
  }
 },
 "nbformat": 4,
 "nbformat_minor": 5
}
