{
 "cells": [
  {
   "cell_type": "markdown",
   "id": "dca900b4-b5ef-479d-847c-2c43bcf8e497",
   "metadata": {},
   "source": [
    "# How to read in CESM timeseries output"
   ]
  },
  {
   "cell_type": "markdown",
   "id": "9f5b5b61-6eff-4bc1-8499-6be5bbbfed05",
   "metadata": {},
   "source": [
    "This is just one way that a CESM output dataset can look - some are in the form of history files instead (elaborate further)."
   ]
  },
  {
   "cell_type": "code",
   "execution_count": null,
   "id": "f7604cb4-59ec-4068-adeb-b79aadb50db7",
   "metadata": {},
   "outputs": [],
   "source": [
    "import xarray as xr\n",
    "import dask\n",
    "import glob"
   ]
  },
  {
   "cell_type": "markdown",
   "id": "a87ffdd6-fd87-448c-8602-4c533fc26805",
   "metadata": {},
   "source": [
    "## Specifying data location"
   ]
  },
  {
   "cell_type": "code",
   "execution_count": null,
   "id": "4e0a375e-c3db-4ef8-8951-11831a37f086",
   "metadata": {},
   "outputs": [],
   "source": [
    "case = 'g.e22.GOMIPECOIAF_JRA-1p4-2018.TL319_g17.4p2z.002branch'\n",
    "path = '/glade/campaign/cesm/development/bgcwg/projects/CESM2-OMIP2-like-4p2z-run/'+case+'/ocn/proc/tseries/month_1'\n",
    "coords = {'x':'TLONG','y':'TLAT'}\n",
    "path"
   ]
  },
  {
   "cell_type": "markdown",
   "id": "69df2c27-18d0-47d5-86da-e231e39ef789",
   "metadata": {},
   "source": [
    "## Loading our data into xarray\n",
    "We use xarray's `open_mfdataset()` function to load the files making up this run of CESM into an xarray Dataset, dropping a few variables whose coordinates don't fit nicely. (Elaborate some more on the kwarg choices; I'm not really sure why these ones work)"
   ]
  },
  {
   "cell_type": "code",
   "execution_count": null,
   "id": "8f3e9b18-8a51-48b3-bf3c-824641624a69",
   "metadata": {},
   "outputs": [],
   "source": [
    "files = glob.glob(f'{path}/{case}.pop.h.*.195801-202112.nc')\n",
    "ds=xr.open_mfdataset(files, data_vars=\"minimal\", coords='minimal', compat=\"override\", parallel=True,\n",
    "                       drop_variables=[\"transport_components\", \"transport_regions\", 'moc_components'], decode_times=True)\n"
   ]
  },
  {
   "cell_type": "code",
   "execution_count": null,
   "id": "c9de1801-7067-44ba-95ed-f57848be383d",
   "metadata": {},
   "outputs": [],
   "source": [
    "ds"
   ]
  },
  {
   "cell_type": "markdown",
   "id": "4f2e226f-12e4-4b9b-af70-8434b959ae66",
   "metadata": {},
   "source": [
    "Looks good!"
   ]
  }
 ],
 "metadata": {
  "kernelspec": {
   "display_name": "Python 3 (ipykernel)",
   "language": "python",
   "name": "mom6_solutions"
  },
  "language_info": {
   "codemirror_mode": {
    "name": "ipython",
    "version": 3
   },
   "file_extension": ".py",
   "mimetype": "text/x-python",
   "name": "python",
   "nbconvert_exporter": "python",
   "pygments_lexer": "ipython3",
   "version": "3.11.7"
  }
 },
 "nbformat": 4,
 "nbformat_minor": 5
}
