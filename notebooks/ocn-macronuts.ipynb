{
 "cells": [
  {
   "cell_type": "markdown",
   "id": "b32e55d3-d037-40b9-96ac-b2ff03536e23",
   "metadata": {},
   "source": [
    "# Ocean macronutrients"
   ]
  },
  {
   "cell_type": "markdown",
   "id": "f88be6b2-5c8d-4075-ae36-1100c6a28c41",
   "metadata": {},
   "source": [
    "---"
   ]
  },
  {
   "cell_type": "markdown",
   "id": "a56a6f4e-c560-4c56-b6f9-eae960d3bd85",
   "metadata": {
    "editable": true,
    "slideshow": {
     "slide_type": ""
    },
    "tags": []
   },
   "source": [
    "## Overview\n",
    "The availability of several macronutrients controls production in most of the ocean: nitrate, phosphate, and silicate. Here we take a look at maps and depth profiles of these nutrients, and compare them to an observational dataset.\n",
    "\n",
    "1. General setup\n",
    "2. Subsetting\n",
    "3. Transforming from monthly to annual data\n",
    "4. Compare to World Ocean Atlas data\n",
    "5. Make depth profiles\n"
   ]
  },
  {
   "cell_type": "markdown",
   "id": "d2686c63-2f0b-44a6-ae49-cce6643f756d",
   "metadata": {},
   "source": [
    "## Prerequisites\n",
    "\n",
    "| Concepts | Importance | Notes |\n",
    "| --- | --- | --- |\n",
    "| [Dask Cookbook](https://projectpythia.org/dask-cookbook/README.html) | Helpful | |\n",
    "| [Intro to Xarray](https://foundations.projectpythia.org/core/xarray.html) | Helpful | |\n",
    "| [Matplotlib](https://foundations.projectpythia.org/core/matplotlib.html) | Necessary | |\n",
    "| [Intro to Cartopy](https://foundations.projectpythia.org/core/cartopy/cartopy.html) | Necessary | |\n",
    "\n",
    "\n",
    "- **Time to learn**: 30 min\n"
   ]
  },
  {
   "cell_type": "markdown",
   "id": "453de20e-ab63-4d82-9b60-1ad21cd4a85b",
   "metadata": {},
   "source": [
    "---"
   ]
  },
  {
   "cell_type": "markdown",
   "id": "15afbc5a-c31f-4692-aeb5-94313ccb45ca",
   "metadata": {},
   "source": [
    "## Imports"
   ]
  },
  {
   "cell_type": "code",
   "execution_count": null,
   "id": "e8199a6d-1b51-453e-a34c-45ed5f88c59f",
   "metadata": {},
   "outputs": [],
   "source": [
    "import xarray as xr\n",
    "import glob\n",
    "import numpy as np\n",
    "import matplotlib.pyplot as plt\n",
    "import cartopy\n",
    "import cartopy.crs as ccrs\n",
    "import pop_tools\n",
    "from dask.distributed import LocalCluster\n",
    "import s3fs\n",
    "import netCDF4"
   ]
  },
  {
   "cell_type": "markdown",
   "id": "5874ddb0-3632-44d9-979d-f27a88e58361",
   "metadata": {},
   "source": [
    "## General setup (see intro notebooks for explanations)"
   ]
  },
  {
   "cell_type": "markdown",
   "id": "0bc82532-c3b7-4378-b6b9-416ccd553c1b",
   "metadata": {},
   "source": [
    "### Connect to cluster"
   ]
  },
  {
   "cell_type": "code",
   "execution_count": null,
   "id": "c549c0ec-0721-4986-be5f-6c7c9e632fc1",
   "metadata": {},
   "outputs": [],
   "source": [
    "cluster = LocalCluster()\n",
    "client = cluster.get_client()"
   ]
  },
  {
   "cell_type": "code",
   "execution_count": null,
   "id": "86ac6653-eb4a-4f7c-b2fb-d5afab1d34a9",
   "metadata": {},
   "outputs": [],
   "source": [
    "cluster.scale(20)"
   ]
  },
  {
   "cell_type": "code",
   "execution_count": null,
   "id": "20c17f05-f163-47f4-bba1-b90533a406f5",
   "metadata": {},
   "outputs": [],
   "source": [
    "client"
   ]
  },
  {
   "cell_type": "markdown",
   "id": "bc803792-f9df-4f19-a26f-844dcbe48378",
   "metadata": {},
   "source": [
    "### Bring in POP grid utilities"
   ]
  },
  {
   "cell_type": "code",
   "execution_count": null,
   "id": "0850149e-56d4-4f28-88bd-2639e11ad20a",
   "metadata": {},
   "outputs": [],
   "source": [
    "ds_grid = pop_tools.get_grid('POP_gx1v7')\n",
    "lons = ds_grid.TLONG\n",
    "lats = ds_grid.TLAT\n",
    "depths = ds_grid.z_t * 0.01"
   ]
  },
  {
   "cell_type": "code",
   "execution_count": null,
   "id": "5d56f6ba-7bdb-43bd-b8ad-badbf5a112b1",
   "metadata": {},
   "outputs": [],
   "source": [
    "def adjust_pop_grid(tlon,tlat,field):\n",
    "    nj = tlon.shape[0]\n",
    "    ni = tlon.shape[1]\n",
    "    xL = int(ni/2 - 1)\n",
    "    xR = int(xL + ni)\n",
    "\n",
    "    tlon = np.where(np.greater_equal(tlon,min(tlon[:,0])),tlon-360.,tlon)\n",
    "    lon  = np.concatenate((tlon,tlon+360.),1)\n",
    "    lon = lon[:,xL:xR]\n",
    "\n",
    "    if ni == 320:\n",
    "        lon[367:-3,0] = lon[367:-3,0]+360.\n",
    "    lon = lon - 360.\n",
    "    lon = np.hstack((lon,lon[:,0:1]+360.))\n",
    "    if ni == 320:\n",
    "        lon[367:,-1] = lon[367:,-1] - 360.\n",
    "\n",
    "    # Trick cartopy into doing the right thing:\n",
    "    # it gets confused when the cyclic coords are identical\n",
    "    lon[:,0] = lon[:,0]-1e-8\n",
    "    \n",
    "    # Periodicity\n",
    "    lat  = np.concatenate((tlat,tlat),1)\n",
    "    lat = lat[:,xL:xR]\n",
    "    lat = np.hstack((lat,lat[:,0:1]))\n",
    "\n",
    "    field = np.ma.concatenate((field,field),1)\n",
    "    field = field[:,xL:xR]\n",
    "    field = np.ma.hstack((field,field[:,0:1]))\n",
    "    return lon,lat,field"
   ]
  },
  {
   "cell_type": "markdown",
   "id": "976ffa95-263e-4d11-bda3-0637f9d28212",
   "metadata": {},
   "source": [
    "### Load the data"
   ]
  },
  {
   "cell_type": "code",
   "execution_count": null,
   "id": "0f0674e5-b859-49cc-93fc-2f6224c90460",
   "metadata": {},
   "outputs": [],
   "source": [
    "jetstream_url = 'https://js2.jetstream-cloud.org:8001/'\n",
    "\n",
    "s3 = s3fs.S3FileSystem(anon=True, client_kwargs=dict(endpoint_url=jetstream_url))\n",
    "\n",
    "# Generate a list of all files in the bucket\n",
    "s3path = 's3://pythia/ocean-bgc/cesm/g.e22.GOMIPECOIAF_JRA-1p4-2018.TL319_g17.4p2z.002branch/ocn/proc/tseries/month_1/*'\n",
    "remote_files = s3.glob(s3path)\n",
    "\n",
    "# Open all files from bucket\n",
    "fileset = [s3.open(file) for file in remote_files]\n",
    "\n",
    "# Open with xarray\n",
    "ds = xr.open_mfdataset(fileset, data_vars=\"minimal\", coords='minimal', compat=\"override\", parallel=True,\n",
    "                       drop_variables=[\"transport_components\", \"transport_regions\", 'moc_components'], decode_times=True)\n",
    "\n",
    "ds"
   ]
  },
  {
   "cell_type": "markdown",
   "id": "b5d851b8-ddae-4407-8aee-1f2f01bb5780",
   "metadata": {},
   "source": [
    "## Subsetting\n",
    "Make our dataset smaller so it has just a couple of macronutrient variables we're interested in."
   ]
  },
  {
   "cell_type": "code",
   "execution_count": null,
   "id": "ea5e9150-4e80-45a2-a5b6-a8b6a474cf72",
   "metadata": {},
   "outputs": [],
   "source": [
    "variables =['PO4','NO3','SiO3']"
   ]
  },
  {
   "cell_type": "code",
   "execution_count": null,
   "id": "a63a74ea-ac56-4034-aeaa-f648909fe59a",
   "metadata": {},
   "outputs": [],
   "source": [
    "keep_vars=['z_t','z_t_150m','dz','time_bound','time','TAREA','TLAT','TLONG'] + variables\n",
    "ds = ds.drop_vars([v for v in ds.variables if v not in keep_vars])"
   ]
  },
  {
   "cell_type": "markdown",
   "id": "f6bd219c-40ae-4bec-a775-795485709575",
   "metadata": {},
   "source": [
    "Let's take a quick look at nitrate to make sure that things look okay..."
   ]
  },
  {
   "cell_type": "code",
   "execution_count": null,
   "id": "4321e1ec-03e1-45d6-bb0b-16fdcaa17ca3",
   "metadata": {},
   "outputs": [],
   "source": [
    "ds.NO3.isel(time=0,z_t=0).plot(cmap=\"viridis\")"
   ]
  },
  {
   "cell_type": "markdown",
   "id": "d234bb15-36d7-419f-a417-6d5bb716f441",
   "metadata": {},
   "source": [
    "## Transforming from monthly to annual data\n",
    "We can't just use xarray's regular `mean()` function because months have different numbers of days in them, so we have to weight by that to ensure the annual mean is accurate. See this [ESDS blog post](https://ncar.github.io/esds/posts/2021/yearly-averages-xarray/) for a more detailed explanation with examples!"
   ]
  },
  {
   "cell_type": "code",
   "execution_count": null,
   "id": "a62bd4fd-6d5c-4ed4-93c8-4636252d5db3",
   "metadata": {},
   "outputs": [],
   "source": [
    "def year_mean(ds):\n",
    "    \"\"\"\n",
    "    Properly convert monthly data to annual means, taking into account month lengths.\n",
    "    Source: https://ncar.github.io/esds/posts/2021/yearly-averages-xarray/\n",
    "    \"\"\"\n",
    "    \n",
    "    # Make a DataArray with the number of days in each month, size = len(time)\n",
    "    month_length = ds.time.dt.days_in_month\n",
    "\n",
    "    # Calculate the weights by grouping by 'time.season'\n",
    "    weights = (\n",
    "        month_length.groupby(\"time.year\") / month_length.groupby(\"time.year\").sum()\n",
    "    )\n",
    "\n",
    "    # Test that the sum of the weights for each season is 1.0\n",
    "    np.testing.assert_allclose(weights.groupby(\"time.year\").sum().values, np.ones((len(ds.groupby(\"time.year\")), )))\n",
    "\n",
    "    # Calculate the weighted average\n",
    "    return (ds * weights).groupby(\"time.year\").sum(dim=\"time\")"
   ]
  },
  {
   "cell_type": "raw",
   "id": "21b76c34-1205-4c05-8480-8c4303ce0947",
   "metadata": {},
   "source": [
    "ds_annual = year_mean(ds)\n",
    "ds_annual"
   ]
  },
  {
   "cell_type": "raw",
   "id": "63b605f1-3171-45fe-a2a0-83df48c5d308",
   "metadata": {},
   "source": [
    "Note that our time coordinate is now called `year` instead, and has only years now. We can select specific years to plot:"
   ]
  },
  {
   "cell_type": "raw",
   "id": "4e9186e0-f42f-4906-96fd-c72c6579884d",
   "metadata": {},
   "source": [
    "ds_annual['NO3'].sel(year=2010).isel(z_t=0).plot()"
   ]
  },
  {
   "cell_type": "raw",
   "id": "4d5135be-7e07-45f5-86bf-022db9ab48ee",
   "metadata": {},
   "source": [
    "### Let's make a nicer-looking map"
   ]
  },
  {
   "cell_type": "raw",
   "id": "3de10a7a-3036-429b-b79f-cd14c80d83bb",
   "metadata": {},
   "source": [
    "fig = plt.figure(figsize=(8,6))\n",
    "\n",
    "ax = fig.add_subplot(1,1,1, projection=ccrs.Robinson(central_longitude=305.0))\n",
    "land = cartopy.feature.NaturalEarthFeature('physical', 'land', scale='110m', edgecolor='k', facecolor='white', linewidth=0.5)\n",
    "ax.add_feature(land)\n",
    "\n",
    "ax.set_title('CESM surface NO$_3$', fontsize=10)\n",
    "lon, lat, field = adjust_pop_grid(lons, lats, ds_annual.NO3.sel(year=2010).isel(z_t=0))\n",
    "pc1=ax.pcolormesh(lon, lat,field, vmin=0, vmax=20, cmap='Oranges',\n",
    "                 transform=ccrs.PlateCarree())\n",
    "\n",
    "cbar1 = fig.colorbar(pc1, ax=ax,extend='max',label='NO$_3$ (mmol m$^{-3}$)')"
   ]
  },
  {
   "cell_type": "raw",
   "id": "21b6b012-cc2f-43e2-9aa7-10558d9c83b7",
   "metadata": {},
   "source": [
    "## Compare long-term mean to World Ocean Atlas 2018\n",
    "\n",
    "- About the [World Ocean Atlas](https://www.ncei.noaa.gov/products/world-ocean-atlas)\n",
    "- [Data access to WOA18](https://www.ncei.noaa.gov/access/world-ocean-atlas-2018/)\n",
    "\n",
    "We've already regridded the WOA data to be on the same grid as the CESM data, so we don't need to worry about that step. However, if you wanted to compare to a dataset that's on a different grid, you'd need to go through the regridding process, which is beyond the scope of this cookbook.\n",
    "\n",
    "This dataset has also already had a time mean taken, so there's no time coordinate.\n",
    "\n",
    "*You might notice that three are three coordinates: `z_t`, `z_w`, and `z_w_bot`. Each of these are different versions of the same vertical coordinate - `z_t` represents the midpoint of a depth layer, `z_w` the top, and `z_w_bot` the bottom. We use `z_t` in this demonstration.*"
   ]
  },
  {
   "cell_type": "raw",
   "id": "6301b55e-bdfb-4587-bdc0-9a4250469386",
   "metadata": {},
   "source": [
    "woa_file_path = 's3://pythia/ocean-bgc/obs/WOA2018_POPgrid.nc'\n",
    "\n",
    "woa_file = s3.open(woa_file_path)\n",
    "\n",
    "ds_woa = xr.load_dataset(woa_file, decode_times=False, decode_coords=False)\n",
    "ds_woa['z_t'] = ds.z_t\n",
    "ds_woa"
   ]
  },
  {
   "cell_type": "raw",
   "id": "f4c321db-9498-4e47-856c-a195cd957a13",
   "metadata": {},
   "source": [
    "ds_mean = ds_annual.mean(\"year\").compute()"
   ]
  },
  {
   "cell_type": "raw",
   "id": "c270fb67-a0dc-4422-aa2b-c087262cdf80",
   "metadata": {},
   "source": [
    "NO3_diff = ds_mean.NO3 - ds_woa.NO3\n",
    "PO4_diff = ds_mean.PO4 - ds_woa.PO4\n",
    "SiO3_diff = ds_mean.SiO3 - ds_woa.SiO3"
   ]
  },
  {
   "cell_type": "raw",
   "id": "80ae3f57-db24-43ed-a276-57d99743426a",
   "metadata": {},
   "source": [
    "### Surface comparison\n",
    "We choose to set up a dictionary with some parameters for each plot we want to make, to cut down on repetition in the actual plotting code block. This could be condensed even further, but there's a tradeoff between conciseness and readability! We specify the variables we want to plot (in this case different nutrients) and things like the colormaps and normalization. In addition to plotting each nutrient from the modeled data and observations, we also plot the bias, which is the difference between the two datasets. This helps us see how the model differs from observations.\n"
   ]
  },
  {
   "cell_type": "raw",
   "id": "6d73c7e6-d114-4877-add9-954c9003e555",
   "metadata": {},
   "source": [
    "ds_dict_surf = {'CESMNO3': {'title': 'CESM surface NO$_3$',\n",
    "                       'label': 'NO$_3$ (mmol m$^{-3}$)',\n",
    "                       'cmap': 'Greens',\n",
    "                       'vmin': 0, 'vmax': 20,\n",
    "                       'ds': ds_mean.NO3},\n",
    "           'WOANO3':  {'title': 'WOA surface NO$_3$',\n",
    "                       'label': 'NO$_3$ (mmol m$^{-3}$)',\n",
    "                       'cmap': 'Greens',\n",
    "                       'vmin': 0, 'vmax': 20,\n",
    "                       'ds': ds_woa.NO3},\n",
    "           'DIFFNO3': {'title': 'Surface NO$_3$ model bias',\n",
    "                       'label': 'NO$_3$ bias (mmol m$^{-3}$)',\n",
    "                       'cmap': 'bwr',\n",
    "                       'vmin': -10, 'vmax': 10,\n",
    "                       'ds': ds_mean.NO3 - ds_woa.NO3},\n",
    "           'CESMPO4': {'title': 'CESM surface PO$_4$',\n",
    "                       'label': 'PO$_4$ (mmol m$^{-3}$)',\n",
    "                       'cmap': 'Oranges',\n",
    "                       'vmin': 0, 'vmax': 2,\n",
    "                       'ds': ds_mean.PO4},\n",
    "           'WOAPO4':  {'title': 'WOA surface PO$_4$',\n",
    "                       'label': 'PO$_4$ (mmol m$^{-3}$)',\n",
    "                       'cmap': 'Oranges',\n",
    "                       'vmin': 0, 'vmax': 2,\n",
    "                       'ds': ds_woa.PO4},\n",
    "           'DIFFPO4': {'title': 'Surface PO$_4$ model bias',\n",
    "                       'label': 'PO$_4$ bias (mmol m$^{-3}$)',\n",
    "                       'cmap': 'bwr',\n",
    "                       'vmin': -1, 'vmax': 1,\n",
    "                       'ds': ds_mean.PO4 - ds_woa.PO4},\n",
    "           'CESMSiO3': {'title': 'CESM surface SiO$_3$',\n",
    "                       'label': 'SiO$_3$ (mmol m$^{-3}$)',\n",
    "                       'cmap': 'Blues',\n",
    "                       'vmin': 0, 'vmax': 30,\n",
    "                       'ds': ds_mean.SiO3},\n",
    "           'WOASiO3':  {'title': 'WOA surface SiO$_3$',\n",
    "                       'label': 'SiO$_3$ (mmol m$^{-3}$)',\n",
    "                       'cmap': 'Blues',\n",
    "                       'vmin': 0, 'vmax': 30,\n",
    "                       'ds': ds_woa.SiO3},\n",
    "           'DIFFSiO3': {'title': 'Surface SiO$_3$ model bias',\n",
    "                       'label': 'SiO$_3$ bias (mmol m$^{-3}$)',\n",
    "                       'cmap': 'bwr',\n",
    "                       'vmin': -15, 'vmax': 15,\n",
    "                       'ds': ds_mean.SiO3 - ds_woa.SiO3}\n",
    "          }\n",
    "                        "
   ]
  },
  {
   "cell_type": "raw",
   "id": "c7f315eb-b00e-46e1-900d-ec897d7b10f7",
   "metadata": {},
   "source": [
    "Here we pull from the above dictionary to actually make the plots."
   ]
  },
  {
   "cell_type": "raw",
   "id": "d5f515d7-9ab5-4c55-bdca-bc3885e7269f",
   "metadata": {},
   "source": [
    "fig = plt.figure(figsize=(18,10))\n",
    "\n",
    "\n",
    "plot_count = 1\n",
    "for key, item in ds_dict_surf.items():\n",
    "    ax = fig.add_subplot(3,3,plot_count, projection=ccrs.Robinson(central_longitude=305.0))\n",
    "    land = cartopy.feature.NaturalEarthFeature('physical', 'land', scale='110m', edgecolor='k', facecolor='white', linewidth=0.5)\n",
    "    ax.add_feature(land)\n",
    "    ax.set_title(item['title'], fontsize=10)\n",
    "    lon, lat, field = adjust_pop_grid(lons, lats, item['ds'].isel(z_t=0))\n",
    "    pc=ax.pcolormesh(lon, lat,field, vmin=item['vmin'], vmax=item['vmax'], cmap=item['cmap'],\n",
    "                     transform=ccrs.PlateCarree())\n",
    "    cbar1 = fig.colorbar(pc, ax=ax,label=item['label'])\n",
    "\n",
    "    plot_count += 1\n",
    "    "
   ]
  },
  {
   "cell_type": "raw",
   "id": "e24ad4f6-f703-40be-85df-7b33f4d0a760",
   "metadata": {},
   "source": [
    "### Comparison at 100m"
   ]
  },
  {
   "cell_type": "raw",
   "id": "73cc42f7-ddb8-4ded-b3b8-0f01616c62f6",
   "metadata": {},
   "source": [
    "Similar to above, but at a depth of 100m rather than at the surface."
   ]
  },
  {
   "cell_type": "raw",
   "id": "cd28703f-82c9-4c76-af79-4f1469a3b4f5",
   "metadata": {},
   "source": [
    "ds_dict_100m = {'CESMNO3': {'title': 'CESM 100m NO$_3$',\n",
    "                       'label': 'NO$_3$ (mmol m$^{-3}$)',\n",
    "                       'cmap': 'Greens',\n",
    "                       'vmin': 0, 'vmax': 20,\n",
    "                       'ds': ds_mean.NO3},\n",
    "           'WOANO3':  {'title': 'WOA 100m NO$_3$',\n",
    "                       'label': 'NO$_3$ (mmol m$^{-3}$)',\n",
    "                       'cmap': 'Greens',\n",
    "                       'vmin': 0, 'vmax': 20,\n",
    "                       'ds': ds_woa.NO3},\n",
    "           'DIFFNO3': {'title': '100m NO$_3$ model bias',\n",
    "                       'label': 'NO$_3$ bias (mmol m$^{-3}$)',\n",
    "                       'cmap': 'bwr',\n",
    "                       'vmin': -10, 'vmax': 10,\n",
    "                       'ds': ds_mean.NO3 - ds_woa.NO3},\n",
    "           'CESMPO4': {'title': 'CESM 100m PO$_4$',\n",
    "                       'label': 'PO$_4$ (mmol m$^{-3}$)',\n",
    "                       'cmap': 'Oranges',\n",
    "                       'vmin': 0, 'vmax': 2,\n",
    "                       'ds': ds_mean.PO4},\n",
    "           'WOAPO4':  {'title': 'WOA 100m PO$_4$',\n",
    "                       'label': 'PO$_4$ (mmol m$^{-3}$)',\n",
    "                       'cmap': 'Oranges',\n",
    "                       'vmin': 0, 'vmax': 2,\n",
    "                       'ds': ds_woa.PO4},\n",
    "           'DIFFPO4': {'title': '100m PO$_4$ model bias',\n",
    "                       'label': 'PO$_4$ bias (mmol m$^{-3}$)',\n",
    "                       'cmap': 'bwr',\n",
    "                       'vmin': -1, 'vmax': 1,\n",
    "                       'ds': ds_mean.PO4 - ds_woa.PO4},\n",
    "           'CESMSiO3': {'title': 'CESM 100m SiO$_3$',\n",
    "                       'label': 'SiO$_3$ (mmol m$^{-3}$)',\n",
    "                       'cmap': 'Blues',\n",
    "                       'vmin': 0, 'vmax': 30,\n",
    "                       'ds': ds_mean.SiO3},\n",
    "           'WOASiO3':  {'title': 'WOA 100m SiO$_3$',\n",
    "                       'label': 'SiO$_3$ (mmol m$^{-3}$)',\n",
    "                       'cmap': 'Blues',\n",
    "                       'vmin': 0, 'vmax': 30,\n",
    "                       'ds': ds_woa.SiO3},\n",
    "           'DIFFSiO3': {'title': '100m SiO$_3$ model bias',\n",
    "                       'label': 'SiO$_3$ bias (mmol m$^{-3}$)',\n",
    "                       'cmap': 'bwr',\n",
    "                       'vmin': -15, 'vmax': 15,\n",
    "                       'ds': ds_mean.SiO3 - ds_woa.SiO3}\n",
    "          }\n",
    "                        "
   ]
  },
  {
   "cell_type": "raw",
   "id": "ed52d30f-9b42-4583-890e-a1dc15b4efb2",
   "metadata": {},
   "source": [
    "fig = plt.figure(figsize=(18,10))\n",
    "\n",
    "\n",
    "plot_count = 1\n",
    "for key, item in ds_dict_100m.items():\n",
    "    ax = fig.add_subplot(3,3,plot_count, projection=ccrs.Robinson(central_longitude=305.0))\n",
    "    land = cartopy.feature.NaturalEarthFeature('physical', 'land', scale='110m', edgecolor='k', facecolor='white', linewidth=0.5)\n",
    "    ax.add_feature(land)\n",
    "    ax.set_title(item['title'], fontsize=10)\n",
    "    lon, lat, field = adjust_pop_grid(lons, lats, item['ds'].isel(z_t=10))\n",
    "    pc=ax.pcolormesh(lon, lat,field, vmin=item['vmin'], vmax=item['vmax'], cmap=item['cmap'],\n",
    "                     transform=ccrs.PlateCarree())\n",
    "    cbar1 = fig.colorbar(pc, ax=ax,label=item['label'])\n",
    "\n",
    "    plot_count += 1"
   ]
  },
  {
   "cell_type": "raw",
   "id": "287cbdd6-82b9-4b22-b79c-ec98e723d06f",
   "metadata": {},
   "source": [
    "## Global mean macronutrient profiles"
   ]
  },
  {
   "cell_type": "raw",
   "id": "e16ab1e8-0f9c-4bd1-897b-3d046b4bcb1a",
   "metadata": {},
   "source": [
    " Let's write a function to take a global mean of the variables we're interested in, so that we can look at some depth profiles rather than maps. Also remember that we already took a mean over the whole time range (and the WOA dataset already had this mean taken), so this is a mean in time as well. Like the above maps, we also plot a bias panel to directly compare the difference between the datasets."
   ]
  },
  {
   "cell_type": "raw",
   "id": "fa908ee6-3f4a-4352-b977-93fe95527233",
   "metadata": {},
   "source": [
    "def global_mean(ds, ds_grid, compute_vars, include_ms=False):\n",
    "    \"\"\"\n",
    "    Compute the global mean on a POP dataset. \n",
    "    Return computed quantity in conventional units.\n",
    "    \"\"\"\n",
    "    dso = xr.Dataset({v: ds_grid[v] for v in ['z_t']})\n",
    "    \n",
    "    for var in compute_vars:\n",
    "        \n",
    "        area_depth = np.full([384,320,60],np.nan)\n",
    "        var_profile = np.full([60],np.nan)\n",
    "\n",
    "        for z in np.arange(0,60,1):\n",
    "            \n",
    "            if include_ms: # marginal seas\n",
    "                area_depth[:,:,z] = ds_grid.TAREA.where(ds_grid.KMT > 0).where(ds[var].isel(z_t=z) > 0)\n",
    "            \n",
    "            else: \n",
    "                area_depth[:,:,z] = ds_grid.TAREA.where(ds_grid.REGION_MASK > 0).where(ds[var].isel(z_t=z) > 0)  \n",
    "            \n",
    "        area_depth = xr.DataArray(area_depth,dims=('nlat','nlon','z_t'))\n",
    "            \n",
    "        for z in np.arange(0,60,1):\n",
    "            \n",
    "            var_profile[z] = (ds[var].isel(z_t=z) * area_depth.isel(z_t=z)).sum(dim=('nlon','nlat')) / area_depth.isel(z_t=z).sum(dim=('nlon','nlat'))\n",
    "    \n",
    "        dso[var] = var_profile\n",
    "                \n",
    "    return dso"
   ]
  },
  {
   "cell_type": "raw",
   "id": "a7540610-7135-4c7f-807e-6bead0f2547d",
   "metadata": {},
   "source": [
    "ds_glb = global_mean(ds_mean, ds_grid, ['NO3','PO4','SiO3']).compute()"
   ]
  },
  {
   "cell_type": "raw",
   "id": "11726462-0ff0-48fa-ba30-a5a33b5cc28a",
   "metadata": {},
   "source": [
    "ds_glb_woa = global_mean(ds_woa, ds_grid, ['NO3','PO4','SiO3']).compute()"
   ]
  },
  {
   "cell_type": "raw",
   "id": "5ec97a98-8ed6-4ff2-9f43-9ebca68834d3",
   "metadata": {},
   "source": [
    "Rather than setting up a dictionary of parameters, here we choose to make the plots inline since there aren't as many."
   ]
  },
  {
   "cell_type": "raw",
   "id": "08533f63-af14-4e65-aca5-d7278cb7eb4f",
   "metadata": {},
   "source": [
    "fig = plt.figure(figsize=(6,10))\n",
    "\n",
    "plt.suptitle('Global mean macronutrient profiles', fontsize=14)\n",
    "\n",
    "### Row 1  - NO3\n",
    "\n",
    "ax = fig.add_subplot(3,2,1)\n",
    "ax.set_title('Global mean NO$_3$')\n",
    "ax.plot(ds_glb_woa['NO3'].values, depths, label='WOA', linewidth=3, color='lightgreen')\n",
    "ax.plot(ds_glb['NO3'].values, depths, label='CESM', linewidth=3, color='green')\n",
    "ax.legend()\n",
    "ax.set(ylabel='depth (m)',xlabel='NO$_3$ (mmol m$^{-3}$)')\n",
    "plt.gca().invert_yaxis()\n",
    "\n",
    "# Bias plot\n",
    "\n",
    "ax = fig.add_subplot(3,2,2)\n",
    "ax.plot(ds_glb['NO3'].values - ds_glb_woa['NO3'].values, depths, label='bias', linewidth=3, color='black')\n",
    "ax.legend()\n",
    "ax.set(ylabel='depth (m)',xlabel='NO$_3$ bias (mmol m$^{-3}$)')\n",
    "ax.axvline(x=0,color='black',linestyle='--',linewidth=0.5)\n",
    "plt.gca().invert_yaxis()\n",
    "\n",
    "### Row 2  - PO4\n",
    "\n",
    "ax = fig.add_subplot(3,2,3)\n",
    "ax.set_title('Global mean PO$_4$')\n",
    "ax.plot(ds_glb_woa['PO4'].values, depths, label='WOA', linewidth=3, color='peachpuff')\n",
    "ax.plot(ds_glb['PO4'].values, depths, label='CESM', linewidth=3, color='orange')\n",
    "ax.legend()\n",
    "ax.set(ylabel='depth (m)',xlabel='PO$_4$ (mmol m$^{-3}$)')\n",
    "plt.gca().invert_yaxis()\n",
    "\n",
    "# Bias plot\n",
    "\n",
    "ax = fig.add_subplot(3,2,4)\n",
    "ax.plot(ds_glb['PO4'].values - ds_glb_woa['PO4'].values, depths, label='bias', linewidth=3, color='black')\n",
    "ax.legend()\n",
    "ax.set(ylabel='depth (m)',xlabel='PO$_4$ bias (mmol m$^{-3}$)')\n",
    "ax.axvline(x=0,color='black',linestyle='--',linewidth=0.5)\n",
    "plt.gca().invert_yaxis()\n",
    "\n",
    "### Row 3  - SiO3\n",
    "\n",
    "ax = fig.add_subplot(3,2,5)\n",
    "ax.set_title('Global mean SiO$_3$')\n",
    "ax.plot(ds_glb_woa['SiO3'].values, depths, label='WOA', linewidth=3, color='lightblue')\n",
    "ax.plot(ds_glb['SiO3'].values, depths, label='CESM', linewidth=3, color='blue')\n",
    "ax.legend()\n",
    "ax.set(ylabel='depth (m)',xlabel='SiO$_3$ (mmol m$^{-3}$)')\n",
    "plt.gca().invert_yaxis()\n",
    "\n",
    "# Bias plot\n",
    "\n",
    "ax = fig.add_subplot(3,2,6)\n",
    "ax.plot(ds_glb['SiO3'].values - ds_glb_woa['SiO3'].values, depths, label='bias', linewidth=3, color='black')\n",
    "ax.legend()\n",
    "ax.set(ylabel='depth (m)',xlabel='SiO$_3$ bias (mmol m$^{-3}$)')\n",
    "ax.axvline(x=0,color='black',linestyle='--',linewidth=0.5)\n",
    "plt.gca().invert_yaxis()\n",
    "\n",
    "fig.tight_layout()\n",
    "\n"
   ]
  },
  {
   "cell_type": "raw",
   "id": "fe4bf978-0bf6-4ce9-9d3b-6534ced341d9",
   "metadata": {},
   "source": [
    "And close the Dask cluster we spun up at the beginning."
   ]
  },
  {
   "cell_type": "raw",
   "id": "3503dd15-89bf-4a8f-86f1-958d32dd70c1",
   "metadata": {},
   "source": [
    "cluster.close()"
   ]
  },
  {
   "cell_type": "raw",
   "id": "b4db0ee7-b64b-434b-92bd-7295ebb12c4c",
   "metadata": {},
   "source": [
    "---"
   ]
  },
  {
   "cell_type": "raw",
   "id": "b27f59b1-8edf-4748-9fbc-90d4291f0802",
   "metadata": {},
   "source": [
    "## Summary\n",
    "You've learned how to plot and evaluate the distribution of some key ocean nutrients in CESM output."
   ]
  },
  {
   "cell_type": "raw",
   "id": "2db28b89-d481-421e-8bc4-80e028e374d9",
   "metadata": {},
   "source": [
    "## Resources and references\n",
    "\n",
    "- [Converting from monthly to annual data](https://ncar.github.io/esds/posts/2021/yearly-averages-xarray/)\n",
    "- [About World Ocean Atlas data](https://www.ncei.noaa.gov/products/world-ocean-atlas)\n",
    "- [World Ocean Atlas data location](https://www.ncei.noaa.gov/access/world-ocean-atlas-2018/)"
   ]
  }
 ],
 "metadata": {
  "kernelspec": {
   "display_name": "",
   "name": ""
  },
  "language_info": {
   "name": "python"
  }
 },
 "nbformat": 4,
 "nbformat_minor": 5
}
