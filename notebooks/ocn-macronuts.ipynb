{
 "cells": [
  {
   "cell_type": "markdown",
   "id": "b32e55d3-d037-40b9-96ac-b2ff03536e23",
   "metadata": {},
   "source": [
    "# Ocean macronutrients"
   ]
  },
  {
   "cell_type": "code",
   "execution_count": null,
   "id": "e13795c3-000f-465c-b07b-e3bb31415aef",
   "metadata": {},
   "outputs": [],
   "source": [
    "%load_ext autoreload\n",
    "%autoreload 2"
   ]
  },
  {
   "cell_type": "code",
   "execution_count": null,
   "id": "e8199a6d-1b51-453e-a34c-45ed5f88c59f",
   "metadata": {},
   "outputs": [],
   "source": [
    "import xarray as xr\n",
    "import glob\n",
    "from dask.distributed import Client\n",
    "import numpy as np\n",
    "\n",
    "import catalog\n",
    "import util\n",
    "\n",
    "xr.set_options(keep_attrs=True)"
   ]
  },
  {
   "cell_type": "code",
   "execution_count": null,
   "id": "4f00b7e9-4573-4ca5-9b40-11d924935d7f",
   "metadata": {},
   "outputs": [],
   "source": [
    "import matplotlib.pyplot as plt\n",
    "import cartopy\n",
    "import cartopy.crs as ccrs\n",
    "import pop_tools"
   ]
  },
  {
   "cell_type": "code",
   "execution_count": null,
   "id": "0850149e-56d4-4f28-88bd-2639e11ad20a",
   "metadata": {},
   "outputs": [],
   "source": [
    "ds_grid = pop_tools.get_grid('POP_gx1v7')\n",
    "lons = ds_grid.TLONG\n",
    "lats = ds_grid.TLAT\n",
    "depths = ds_grid.z_t * 0.01"
   ]
  },
  {
   "cell_type": "markdown",
   "id": "0bc82532-c3b7-4378-b6b9-416ccd553c1b",
   "metadata": {},
   "source": [
    "### Connect to cluster"
   ]
  },
  {
   "cell_type": "code",
   "execution_count": null,
   "id": "c549c0ec-0721-4986-be5f-6c7c9e632fc1",
   "metadata": {},
   "outputs": [],
   "source": [
    "cluster, client = util.get_ClusterClient()\n",
    "cluster.scale(12)"
   ]
  },
  {
   "cell_type": "markdown",
   "id": "976ffa95-263e-4d11-bda3-0637f9d28212",
   "metadata": {},
   "source": [
    "## Load the data"
   ]
  },
  {
   "cell_type": "code",
   "execution_count": null,
   "id": "8a3ad40e-cf48-4484-b350-421e90dae6f2",
   "metadata": {},
   "outputs": [],
   "source": [
    "case = 'g.e22.GOMIPECOIAF_JRA-1p4-2018.TL319_g17.4p2z.002branch'\n",
    "path = '/glade/campaign/cesm/development/bgcwg/projects/CESM2-OMIP2-like-4p2z-run/'+case+'/ocn/proc/tseries/month_1'\n",
    "coords = {'x':'TLONG','y':'TLAT'}\n",
    "path"
   ]
  },
  {
   "cell_type": "code",
   "execution_count": null,
   "id": "0f0674e5-b859-49cc-93fc-2f6224c90460",
   "metadata": {},
   "outputs": [],
   "source": [
    "files = glob.glob(f'{path}/{case}.pop.h.*.195801-202112.nc')\n",
    "ds=xr.open_mfdataset(files, data_vars=\"minimal\", coords='minimal', compat=\"override\", parallel=True,\n",
    "                       drop_variables=[\"transport_components\", \"transport_regions\", 'moc_components'], decode_times=True)\n",
    "ds"
   ]
  },
  {
   "cell_type": "markdown",
   "id": "b5d851b8-ddae-4407-8aee-1f2f01bb5780",
   "metadata": {},
   "source": [
    "### Variable list\n",
    "Make our dataset smaller so it just has the variables we're interested in"
   ]
  },
  {
   "cell_type": "code",
   "execution_count": null,
   "id": "ea5e9150-4e80-45a2-a5b6-a8b6a474cf72",
   "metadata": {},
   "outputs": [],
   "source": [
    "variables =['PO4','NO3','SiO3']"
   ]
  },
  {
   "cell_type": "code",
   "execution_count": null,
   "id": "a63a74ea-ac56-4034-aeaa-f648909fe59a",
   "metadata": {},
   "outputs": [],
   "source": [
    "keep_vars=['z_t','z_t_150m','dz','time_bound','time','TAREA','TLAT','TLONG'] + variables\n",
    "ds = ds.drop([v for v in ds.variables if v not in keep_vars])"
   ]
  },
  {
   "cell_type": "code",
   "execution_count": null,
   "id": "4321e1ec-03e1-45d6-bb0b-16fdcaa17ca3",
   "metadata": {},
   "outputs": [],
   "source": [
    "ds.NO3.isel(time=0,z_t=0).plot()"
   ]
  },
  {
   "cell_type": "code",
   "execution_count": null,
   "id": "a62bd4fd-6d5c-4ed4-93c8-4636252d5db3",
   "metadata": {},
   "outputs": [],
   "source": [
    "def year_mean(ds):\n",
    "    # Make a DataArray with the number of days in each month, size = len(time)\n",
    "    month_length = ds.time.dt.days_in_month\n",
    "\n",
    "    # Calculate the weights by grouping by 'time.season'\n",
    "    weights = (\n",
    "        month_length.groupby(\"time.year\") / month_length.groupby(\"time.year\").sum()\n",
    "    )\n",
    "\n",
    "    # Test that the sum of the weights for each season is 1.0\n",
    "    np.testing.assert_allclose(weights.groupby(\"time.year\").sum().values, np.ones((len(ds.groupby(\"time.year\")), )))\n",
    "\n",
    "    # Calculate the weighted average\n",
    "    return (ds * weights).groupby(\"time.year\").sum(dim=\"time\")"
   ]
  },
  {
   "cell_type": "code",
   "execution_count": null,
   "id": "02d46a8a-7de9-4ed9-a672-f692856a799e",
   "metadata": {},
   "outputs": [],
   "source": [
    "ds_test = year_mean(ds)\n",
    "ds_test"
   ]
  },
  {
   "cell_type": "code",
   "execution_count": null,
   "id": "bb40f367-0a19-4719-a091-e8f7fd0abaaf",
   "metadata": {},
   "outputs": [],
   "source": [
    "ds = ds_test.mean('year')"
   ]
  },
  {
   "cell_type": "code",
   "execution_count": null,
   "id": "044ce3e1-394d-471a-a8e6-5e99ce72f087",
   "metadata": {},
   "outputs": [],
   "source": [
    "ds['NO3'].isel(z_t=0).plot()"
   ]
  },
  {
   "cell_type": "markdown",
   "id": "79c5d1a6-8987-4d23-82ef-e4e9b0e35227",
   "metadata": {},
   "source": [
    "## Let's make a nicer-looking map"
   ]
  },
  {
   "cell_type": "code",
   "execution_count": null,
   "id": "85d669d3-24e7-4626-b862-20123b0f9816",
   "metadata": {},
   "outputs": [],
   "source": [
    "fig = plt.figure(figsize=(8,6))\n",
    "\n",
    "ax = fig.add_subplot(1,1,1, projection=ccrs.Robinson(central_longitude=305.0))\n",
    "land = cartopy.feature.NaturalEarthFeature('physical', 'land', scale='110m', edgecolor='k', facecolor='white', linewidth=0.5)\n",
    "ax.add_feature(land)\n",
    "ax.set_title('CESM surface NO$_3$', fontsize=10)\n",
    "lon, lat, field = util.adjust_pop_grid(lons, lats, ds.NO3.isel(z_t=0))\n",
    "pc1=ax.pcolormesh(lon, lat,field, vmin=0, vmax=20, cmap='Oranges',\n",
    "                 transform=ccrs.PlateCarree())\n",
    "cbar1 = fig.colorbar(pc1, ax=ax,extend='max',label='NO$_3$ (mmol m$^{-3}$)')"
   ]
  },
  {
   "cell_type": "markdown",
   "id": "b741fef7-406c-4186-bf26-479c03ca8fae",
   "metadata": {},
   "source": [
    "## Compare long-term mean to World Ocean Atlas 2018\n",
    "\n",
    "- About the [World Ocean Atlas](https://www.ncei.noaa.gov/products/world-ocean-atlas)\n",
    "- [Data access to WOA18](https://www.ncei.noaa.gov/access/world-ocean-atlas-2018/)\n",
    "\n",
    "We've already regridded this data to be on the same grid as the CESM POP data, so we don't need to worry about that step. However, if you wanted to compare to a model that's on a different grid, you'd need to go through the regridding process, which is beyond the scope of this cookbook."
   ]
  },
  {
   "cell_type": "code",
   "execution_count": null,
   "id": "f7d11915-3fe0-4037-8cba-cce3929cb7c9",
   "metadata": {},
   "outputs": [],
   "source": [
    "file = '/glade/work/kristenk/WOA_data/regrid_POP/WOA2018_POPgrid.nc' \n",
    "ds_woa = xr.load_dataset(file, decode_times=False, decode_coords=False)\n",
    "ds_woa['z_t'] = ds.z_t"
   ]
  },
  {
   "cell_type": "code",
   "execution_count": null,
   "id": "36254386-83a7-4e53-a221-9316b54e762c",
   "metadata": {},
   "outputs": [],
   "source": [
    "NO3_diff = ds.NO3 - ds_woa.NO3\n",
    "PO4_diff = ds.PO4 - ds_woa.PO4\n",
    "SiO3_diff = ds.SiO3 - ds_woa.SiO3"
   ]
  },
  {
   "cell_type": "markdown",
   "id": "71607513-6627-4425-b360-8e83a3038e0a",
   "metadata": {},
   "source": [
    "### Surface comparison"
   ]
  },
  {
   "cell_type": "code",
   "execution_count": null,
   "id": "a7d1051a-c2be-4e42-835b-b3634e7bf10e",
   "metadata": {},
   "outputs": [],
   "source": [
    "fig = plt.figure(figsize=(18,10))\n",
    "\n",
    "####################NO3\n",
    "#COLUMN 1  - NO3\n",
    "#---- CESM panel\n",
    "ax = fig.add_subplot(3,3,1, projection=ccrs.Robinson(central_longitude=305.0))\n",
    "land = cartopy.feature.NaturalEarthFeature('physical', 'land', scale='110m', edgecolor='k', facecolor='white', linewidth=0.5)\n",
    "ax.add_feature(land)\n",
    "ax.set_title('CESM surface NO$_3$', fontsize=10)\n",
    "lon, lat, field = util.adjust_pop_grid(lons, lats, ds.NO3.isel(z_t=0))\n",
    "pc1=ax.pcolormesh(lon, lat,field, vmin=0, vmax=20, cmap='Oranges',\n",
    "                 transform=ccrs.PlateCarree())\n",
    "cbar1 = fig.colorbar(pc1, ax=ax,extend='max',label='NO$_3$ (mmol m$^{-3}$)')\n",
    "\n",
    "#---- OBS panel\n",
    "ax = fig.add_subplot(3,3,4, projection=ccrs.Robinson(central_longitude=305.0))\n",
    "land = cartopy.feature.NaturalEarthFeature('physical', 'land', scale='110m', edgecolor='k', facecolor='white', linewidth=0.5)\n",
    "ax.add_feature(land)\n",
    "ax.set_title('WOA surface NO$_3$', fontsize=10)\n",
    "lon, lat, field = util.adjust_pop_grid(lons, lats,  ds_woa.NO3.isel(z_t=0))\n",
    "pc2=ax.pcolormesh(lon, lat, field, vmin=0, vmax=20, cmap='Oranges',\n",
    "                 transform=ccrs.PlateCarree())\n",
    "cbar1 = fig.colorbar(pc2, ax=ax,extend='max',label='NO$_3$ (mmol m$^{-3}$)')\n",
    "\n",
    "#---- DIFF panel\n",
    "ax = fig.add_subplot(3,3,7, projection=ccrs.Robinson(central_longitude=305.0))\n",
    "land = cartopy.feature.NaturalEarthFeature('physical', 'land', scale='110m', edgecolor='k', facecolor='white', linewidth=0.5)\n",
    "ax.add_feature(land)\n",
    "ax.set_title('Surface NO$_3$ model bias', fontsize=10)\n",
    "lon, lat, field = util.adjust_pop_grid(lons, lats,  NO3_diff.isel(z_t=0))\n",
    "pc3=ax.pcolormesh(lon, lat, field, vmin=-10, vmax=10, cmap='bwr',\n",
    "                 transform=ccrs.PlateCarree())\n",
    "cbar1 = fig.colorbar(pc3, ax=ax,extend='both',label='NO$_3$ bias (mmol m$^{-3}$)')\n",
    "\n",
    "\n",
    "\n",
    "####################PO4\n",
    "#---- CESM panel\n",
    "ax = fig.add_subplot(3,3,2, projection=ccrs.Robinson(central_longitude=305.0))\n",
    "land = cartopy.feature.NaturalEarthFeature('physical', 'land', scale='110m', edgecolor='k', facecolor='white', linewidth=0.5)\n",
    "ax.add_feature(land)\n",
    "ax.set_title('CESM surface PO$_4$', fontsize=10)\n",
    "lon, lat, field = util.adjust_pop_grid(lons, lats, ds.PO4.isel(z_t=0))\n",
    "pc1=ax.pcolormesh(lon, lat,field, vmin=0, vmax=2, cmap='Oranges',\n",
    "                 transform=ccrs.PlateCarree())\n",
    "cbar1 = fig.colorbar(pc1, ax=ax,extend='max',label='PO$_4$ (mmol m$^{-3}$)')\n",
    "\n",
    "#---- OBS panel\n",
    "ax = fig.add_subplot(3,3,5, projection=ccrs.Robinson(central_longitude=305.0))\n",
    "land = cartopy.feature.NaturalEarthFeature('physical', 'land', scale='110m', edgecolor='k', facecolor='white', linewidth=0.5)\n",
    "ax.add_feature(land)\n",
    "ax.set_title('WOA surface PO$_4$', fontsize=10)\n",
    "lon, lat, field = util.adjust_pop_grid(lons, lats,  ds_woa.PO4.isel(z_t=0))\n",
    "pc2=ax.pcolormesh(lon, lat,field, vmin=0, vmax=2, cmap='Oranges',\n",
    "                 transform=ccrs.PlateCarree())\n",
    "cbar1 = fig.colorbar(pc2, ax=ax,extend='max',label='PO$_4$ (mmol m$^{-3}$)')\n",
    "\n",
    "#---- DIFF panel\n",
    "ax = fig.add_subplot(3,3,8, projection=ccrs.Robinson(central_longitude=305.0))\n",
    "land = cartopy.feature.NaturalEarthFeature('physical', 'land', scale='110m', edgecolor='k', facecolor='white', linewidth=0.5)\n",
    "ax.add_feature(land)\n",
    "ax.set_title('Surface PO$_4$ bias', fontsize=10)\n",
    "lon, lat, field = util.adjust_pop_grid(lons, lats,  PO4_diff.isel(z_t=0))\n",
    "pc3=ax.pcolormesh(lon, lat,field, vmin=-1, vmax=1, cmap='bwr',\n",
    "                 transform=ccrs.PlateCarree())\n",
    "cbar1 = fig.colorbar(pc3, ax=ax,extend='both',label='PO$_4$ bias (mmol m$^{-3}$)')\n",
    "\n",
    "\n",
    "\n",
    "####################SiO3\n",
    "#---- CESM panel\n",
    "ax = fig.add_subplot(3,3,3, projection=ccrs.Robinson(central_longitude=305.0))\n",
    "land = cartopy.feature.NaturalEarthFeature('physical', 'land', scale='110m', edgecolor='k', facecolor='white', linewidth=0.5)\n",
    "ax.add_feature(land)\n",
    "ax.set_title('CESM surface SiO$_3$', fontsize=10)\n",
    "lon, lat, field = util.adjust_pop_grid(lons, lats, ds.SiO3.isel(z_t=0))\n",
    "pc1=ax.pcolormesh(lon, lat, field, \n",
    "                  vmin=0, vmax=30, \n",
    "                  cmap='Oranges',\n",
    "                 transform=ccrs.PlateCarree())\n",
    "cbar1 = fig.colorbar(pc1, ax=ax,extend='max',label='SiO$_3$ (mmol m$^{-3}$)')\n",
    "\n",
    "#---- OBS panel\n",
    "ax = fig.add_subplot(3,3,6, projection=ccrs.Robinson(central_longitude=305.0))\n",
    "land = cartopy.feature.NaturalEarthFeature('physical', 'land', scale='110m', edgecolor='k', facecolor='white', linewidth=0.5)\n",
    "ax.add_feature(land)\n",
    "ax.set_title('WOA surface SiO$_3$', fontsize=10)\n",
    "lon, lat, field = util.adjust_pop_grid(lons, lats,  ds_woa.SiO3.isel(z_t=0))\n",
    "pc2=ax.pcolormesh(lon, lat,field, \n",
    "                  vmin=0, vmax=30, \n",
    "                  cmap='Oranges',\n",
    "                 transform=ccrs.PlateCarree())\n",
    "cbar1 = fig.colorbar(pc2, ax=ax,extend='max',label='SiO$_3$ (mmol m$^{-3}$)')\n",
    "\n",
    "#---- DIFF panel\n",
    "ax = fig.add_subplot(3,3,9, projection=ccrs.Robinson(central_longitude=305.0))\n",
    "land = cartopy.feature.NaturalEarthFeature('physical', 'land', scale='110m', edgecolor='k', facecolor='white', linewidth=0.5)\n",
    "ax.add_feature(land)\n",
    "ax.set_title('Surface SiO$_3$ bias', fontsize=10)\n",
    "lon, lat, field = util.adjust_pop_grid(lons, lats,  SiO3_diff.isel(z_t=0))\n",
    "pc3=ax.pcolormesh(lon, lat, field, \n",
    "                  vmin=-15, vmax=15, \n",
    "                  cmap='bwr',\n",
    "                 transform=ccrs.PlateCarree())\n",
    "cbar1 = fig.colorbar(pc3, ax=ax,extend='both',label='SiO$_3$ bias (mmol m$^{-3}$)');"
   ]
  },
  {
   "cell_type": "markdown",
   "id": "2103fda4-e9a9-4ae9-bb3d-37dc728dc99b",
   "metadata": {},
   "source": [
    "### Comparison at 100m"
   ]
  },
  {
   "cell_type": "code",
   "execution_count": null,
   "id": "3fb98857-38fb-4a95-bfd6-8dffb8121ded",
   "metadata": {},
   "outputs": [],
   "source": [
    "fig = plt.figure(figsize=(18,10))\n",
    "\n",
    "####################NO3\n",
    "#COLUMN 1  - NO3\n",
    "#---- CESM panel\n",
    "ax = fig.add_subplot(3,3,1, projection=ccrs.Robinson(central_longitude=305.0))\n",
    "land = cartopy.feature.NaturalEarthFeature('physical', 'land', scale='110m', edgecolor='k', facecolor='white', linewidth=0.5)\n",
    "ax.add_feature(land)\n",
    "ax.set_title('CESM 100m NO$_3$', fontsize=10)\n",
    "lon, lat, field = util.adjust_pop_grid(lons, lats, ds.NO3.isel(z_t=10))\n",
    "pc1=ax.pcolormesh(lon, lat,field, vmin=0, vmax=20, cmap='Oranges',\n",
    "                 transform=ccrs.PlateCarree())\n",
    "cbar1 = fig.colorbar(pc1, ax=ax,extend='max',label='NO$_3$ (mmol m$^{-3}$)')\n",
    "\n",
    "#---- OBS panel\n",
    "ax = fig.add_subplot(3,3,4, projection=ccrs.Robinson(central_longitude=305.0))\n",
    "land = cartopy.feature.NaturalEarthFeature('physical', 'land', scale='110m', edgecolor='k', facecolor='white', linewidth=0.5)\n",
    "ax.add_feature(land)\n",
    "ax.set_title('WOA 100m NO$_3$', fontsize=10)\n",
    "lon, lat, field = util.adjust_pop_grid(lons, lats,  ds_woa.NO3.isel(z_t=10))\n",
    "pc2=ax.pcolormesh(lon, lat, field, vmin=0, vmax=20, cmap='Oranges',\n",
    "                 transform=ccrs.PlateCarree())\n",
    "cbar1 = fig.colorbar(pc2, ax=ax,extend='max',label='NO$_3$ (mmol m$^{-3}$)')\n",
    "\n",
    "#---- DIFF panel\n",
    "ax = fig.add_subplot(3,3,7, projection=ccrs.Robinson(central_longitude=305.0))\n",
    "land = cartopy.feature.NaturalEarthFeature('physical', 'land', scale='110m', edgecolor='k', facecolor='white', linewidth=0.5)\n",
    "ax.add_feature(land)\n",
    "ax.set_title('100m NO$_3$ model bias', fontsize=10)\n",
    "lon, lat, field = util.adjust_pop_grid(lons, lats,  NO3_diff.isel(z_t=10))\n",
    "pc3=ax.pcolormesh(lon, lat, field, vmin=-10, vmax=10, cmap='bwr',\n",
    "                 transform=ccrs.PlateCarree())\n",
    "cbar1 = fig.colorbar(pc3, ax=ax,extend='both',label='NO$_3$ bias (mmol m$^{-3}$)')\n",
    "\n",
    "\n",
    "\n",
    "####################PO4\n",
    "#---- CESM panel\n",
    "ax = fig.add_subplot(3,3,2, projection=ccrs.Robinson(central_longitude=305.0))\n",
    "land = cartopy.feature.NaturalEarthFeature('physical', 'land', scale='110m', edgecolor='k', facecolor='white', linewidth=0.5)\n",
    "ax.add_feature(land)\n",
    "ax.set_title('CESM 100m PO$_4$', fontsize=10)\n",
    "lon, lat, field = util.adjust_pop_grid(lons, lats, ds.PO4.isel(z_t=10))\n",
    "pc1=ax.pcolormesh(lon, lat,field, vmin=0, vmax=2, cmap='Oranges',\n",
    "                 transform=ccrs.PlateCarree())\n",
    "cbar1 = fig.colorbar(pc1, ax=ax,extend='max',label='PO$_4$ (mmol m$^{-3}$)')\n",
    "\n",
    "#---- OBS panel\n",
    "ax = fig.add_subplot(3,3,5, projection=ccrs.Robinson(central_longitude=305.0))\n",
    "land = cartopy.feature.NaturalEarthFeature('physical', 'land', scale='110m', edgecolor='k', facecolor='white', linewidth=0.5)\n",
    "ax.add_feature(land)\n",
    "ax.set_title('WOA 100m PO$_4$', fontsize=10)\n",
    "lon, lat, field = util.adjust_pop_grid(lons, lats,  ds_woa.PO4.isel(z_t=10))\n",
    "pc2=ax.pcolormesh(lon, lat,field, vmin=0, vmax=2, cmap='Oranges',\n",
    "                 transform=ccrs.PlateCarree())\n",
    "cbar1 = fig.colorbar(pc2, ax=ax,extend='max',label='PO$_4$ (mmol m$^{-3}$)')\n",
    "\n",
    "#---- DIFF panel\n",
    "ax = fig.add_subplot(3,3,8, projection=ccrs.Robinson(central_longitude=305.0))\n",
    "land = cartopy.feature.NaturalEarthFeature('physical', 'land', scale='110m', edgecolor='k', facecolor='white', linewidth=0.5)\n",
    "ax.add_feature(land)\n",
    "ax.set_title('100m PO$_4$ bias', fontsize=10)\n",
    "lon, lat, field = util.adjust_pop_grid(lons, lats,  PO4_diff.isel(z_t=10))\n",
    "pc3=ax.pcolormesh(lon, lat,field, vmin=-1, vmax=1, cmap='bwr',\n",
    "                 transform=ccrs.PlateCarree())\n",
    "cbar1 = fig.colorbar(pc3, ax=ax,extend='both',label='PO$_4$ bias (mmol m$^{-3}$)')\n",
    "\n",
    "\n",
    "\n",
    "####################SiO3\n",
    "#---- CESM panel\n",
    "ax = fig.add_subplot(3,3,3, projection=ccrs.Robinson(central_longitude=305.0))\n",
    "land = cartopy.feature.NaturalEarthFeature('physical', 'land', scale='110m', edgecolor='k', facecolor='white', linewidth=0.5)\n",
    "ax.add_feature(land)\n",
    "ax.set_title('CESM 100m SiO$_3$', fontsize=10)\n",
    "lon, lat, field = util.adjust_pop_grid(lons, lats, ds.SiO3.isel(z_t=10))\n",
    "pc1=ax.pcolormesh(lon, lat, field, \n",
    "                  vmin=0, vmax=30, \n",
    "                  cmap='Oranges',\n",
    "                 transform=ccrs.PlateCarree())\n",
    "cbar1 = fig.colorbar(pc1, ax=ax,extend='max',label='SiO$_3$ (mmol m$^{-3}$)')\n",
    "\n",
    "#---- OBS panel\n",
    "ax = fig.add_subplot(3,3,6, projection=ccrs.Robinson(central_longitude=305.0))\n",
    "land = cartopy.feature.NaturalEarthFeature('physical', 'land', scale='110m', edgecolor='k', facecolor='white', linewidth=0.5)\n",
    "ax.add_feature(land)\n",
    "ax.set_title('WOA 100m SiO$_3$', fontsize=10)\n",
    "lon, lat, field = util.adjust_pop_grid(lons, lats,  ds_woa.SiO3.isel(z_t=10))\n",
    "pc2=ax.pcolormesh(lon, lat,field, \n",
    "                  vmin=0, vmax=30, \n",
    "                  cmap='Oranges',\n",
    "                 transform=ccrs.PlateCarree())\n",
    "cbar1 = fig.colorbar(pc2, ax=ax,extend='max',label='SiO$_3$ (mmol m$^{-3}$)')\n",
    "\n",
    "#---- DIFF panel\n",
    "ax = fig.add_subplot(3,3,9, projection=ccrs.Robinson(central_longitude=305.0))\n",
    "land = cartopy.feature.NaturalEarthFeature('physical', 'land', scale='110m', edgecolor='k', facecolor='white', linewidth=0.5)\n",
    "ax.add_feature(land)\n",
    "ax.set_title('100m SiO$_3$ bias', fontsize=10)\n",
    "lon, lat, field = util.adjust_pop_grid(lons, lats,  SiO3_diff.isel(z_t=10))\n",
    "pc3=ax.pcolormesh(lon, lat, field, \n",
    "                  vmin=-15, vmax=15, \n",
    "                  cmap='bwr',\n",
    "                 transform=ccrs.PlateCarree())\n",
    "cbar1 = fig.colorbar(pc3, ax=ax,extend='both',label='SiO$_3$ bias (mmol m$^{-3}$)');"
   ]
  },
  {
   "cell_type": "markdown",
   "id": "63d10d8b-09c6-41b4-97d4-2913b1d9872e",
   "metadata": {},
   "source": [
    "## Global mean macronutrient profiles"
   ]
  },
  {
   "cell_type": "code",
   "execution_count": null,
   "id": "04bf0b7e-d2d1-4ec3-b630-63496058754e",
   "metadata": {},
   "outputs": [],
   "source": [
    "ds_glb = util.global_mean(ds, ds_grid, ['NO3','PO4','SiO3']).compute()"
   ]
  },
  {
   "cell_type": "code",
   "execution_count": null,
   "id": "f53e0d97-d55a-471f-aaa0-54fa36350a2a",
   "metadata": {},
   "outputs": [],
   "source": [
    "ds_glb_woa = util.global_mean(ds_woa, ds_grid, ['NO3','PO4','SiO3']).compute()"
   ]
  },
  {
   "cell_type": "code",
   "execution_count": null,
   "id": "69c80aff-2e77-4566-a570-fc4034411e96",
   "metadata": {},
   "outputs": [],
   "source": [
    "fig = plt.figure(figsize=(15,10))\n",
    "\n",
    "plt.suptitle('Global mean macronutrient profiles', fontsize=14)\n",
    "\n",
    "\n",
    "#COLUMN 1  - NO3\n",
    "\n",
    "ax = fig.add_subplot(2,3,1)\n",
    "ax.set_title('Global mean NO$_3$')\n",
    "ax.plot(ds_glb['NO3'].values, depths, label='CESM', linewidth=3)\n",
    "ax.plot(ds_glb_woa['NO3'].values, depths, label='WOA', linewidth=3)\n",
    "ax.legend()\n",
    "ax.set(ylabel='depth (m)',xlabel='NO$_3$ (mmol m$^{-3}$)')\n",
    "plt.gca().invert_yaxis()\n",
    "\n",
    "#COLUMN 2  - PO4\n",
    "\n",
    "ax = fig.add_subplot(2,3,2)\n",
    "ax.set_title('Global mean PO$_4$')\n",
    "ax.plot(ds_glb['PO4'].values, depths, label='CESM', linewidth=3)\n",
    "ax.plot(ds_glb_woa['PO4'].values, depths, label='WOA', linewidth=3)\n",
    "ax.legend()\n",
    "ax.set(ylabel='depth (m)',xlabel='PO$_4$ (mmol m$^{-3}$)')\n",
    "plt.gca().invert_yaxis()\n",
    "\n",
    "#COLUMN 3  - SiO3\n",
    "\n",
    "ax = fig.add_subplot(2,3,3)\n",
    "ax.set_title('Global mean SiO$_3$')\n",
    "ax.plot(ds_glb['SiO3'].values, depths, label='CESM', linewidth=3)\n",
    "ax.plot(ds_glb_woa['SiO3'].values, depths, label='WOA', linewidth=3)\n",
    "ax.legend()\n",
    "ax.set(ylabel='depth (m)',xlabel='SiO$_3$ (mmol m$^{-3}$)')\n",
    "plt.gca().invert_yaxis()\n",
    "\n",
    "\n",
    "#COLUMN 1  - NO3 diff\n",
    "\n",
    "ax = fig.add_subplot(2,3,4)\n",
    "ax.plot(ds_glb['NO3'].values - ds_glb_woa['NO3'].values, depths, label='bias', linewidth=3, color='green')\n",
    "ax.legend()\n",
    "ax.set(ylabel='depth (m)',xlabel='NO$_3$ bias (mmol m$^{-3}$)')\n",
    "ax.axvline(x=0,color='black',linestyle='--',linewidth=0.5)\n",
    "plt.gca().invert_yaxis()\n",
    "\n",
    "#COLUMN 2  - PO4 diff\n",
    "\n",
    "ax = fig.add_subplot(2,3,5)\n",
    "ax.plot(ds_glb['PO4'].values - ds_glb_woa['PO4'].values, depths, label='bias', linewidth=3, color='green')\n",
    "ax.legend()\n",
    "ax.set(ylabel='depth (m)',xlabel='PO$_4$ bias (mmol m$^{-3}$)')\n",
    "ax.axvline(x=0,color='black',linestyle='--',linewidth=0.5)\n",
    "plt.gca().invert_yaxis()\n",
    "\n",
    "#COLUMN 3  - SiO3 diff\n",
    "\n",
    "ax = fig.add_subplot(2,3,6)\n",
    "ax.plot(ds_glb['SiO3'].values - ds_glb_woa['SiO3'].values, depths, label='bias', linewidth=3, color='green')\n",
    "ax.legend()\n",
    "ax.set(ylabel='depth (m)',xlabel='SiO$_3$ bias (mmol m$^{-3}$)')\n",
    "ax.axvline(x=0,color='black',linestyle='--',linewidth=0.5)\n",
    "plt.gca().invert_yaxis()\n",
    "\n"
   ]
  }
 ],
 "metadata": {
  "kernelspec": {
   "display_name": "Python 3 (ipykernel)",
   "language": "python",
   "name": "python3"
  },
  "language_info": {
   "codemirror_mode": {
    "name": "ipython",
    "version": 3
   },
   "file_extension": ".py",
   "mimetype": "text/x-python",
   "name": "python",
   "nbconvert_exporter": "python",
   "pygments_lexer": "ipython3",
   "version": "3.10.13"
  }
 },
 "nbformat": 4,
 "nbformat_minor": 5
}
