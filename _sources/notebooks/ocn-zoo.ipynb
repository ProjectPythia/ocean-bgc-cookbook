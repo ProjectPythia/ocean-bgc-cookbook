{
 "cells": [
  {
   "cell_type": "markdown",
   "id": "b32e55d3-d037-40b9-96ac-b2ff03536e23",
   "metadata": {},
   "source": [
    "# Zooplankton biomass"
   ]
  },
  {
   "cell_type": "code",
   "execution_count": null,
   "id": "e13795c3-000f-465c-b07b-e3bb31415aef",
   "metadata": {},
   "outputs": [],
   "source": [
    "%load_ext autoreload\n",
    "%autoreload 2"
   ]
  },
  {
   "cell_type": "code",
   "execution_count": null,
   "id": "e8199a6d-1b51-453e-a34c-45ed5f88c59f",
   "metadata": {},
   "outputs": [],
   "source": [
    "import xarray as xr\n",
    "\n",
    "from dask.distributed import Client\n",
    "import numpy as np\n",
    "import catalog\n",
    "import util\n",
    "import pandas as pd\n",
    "xr.set_options(keep_attrs=True)\n",
    "import matplotlib.pyplot as plt\n",
    "import cartopy\n",
    "import cartopy.crs as ccrs\n",
    "import pop_tools"
   ]
  },
  {
   "cell_type": "code",
   "execution_count": null,
   "id": "0850149e-56d4-4f28-88bd-2639e11ad20a",
   "metadata": {},
   "outputs": [],
   "source": [
    "ds_grid = pop_tools.get_grid('POP_gx1v7')\n",
    "lons=ds_grid.TLONG\n",
    "lats=ds_grid.TLAT"
   ]
  },
  {
   "cell_type": "markdown",
   "id": "8e5fd23a-c09c-4fff-8d7b-d2881051ec05",
   "metadata": {},
   "source": [
    "### Parameters"
   ]
  },
  {
   "cell_type": "code",
   "execution_count": null,
   "id": "7aba216b-6257-44cb-b711-41178010c5e9",
   "metadata": {},
   "outputs": [],
   "source": [
    "casename = 'g.e22a06.G1850ECOIAF_JRA_PHYS_DEV.TL319_g17.scope_v1'\n",
    "component = 'pop'\n",
    "stream = 'h'\n",
    "\n",
    "cluster_scheduler_address = None"
   ]
  },
  {
   "cell_type": "code",
   "execution_count": null,
   "id": "b29c2ce8-1aea-4c88-a488-aef634305748",
   "metadata": {},
   "outputs": [],
   "source": [
    "assert component in ['pop']\n",
    "assert stream in ['h', 'h.ecosys.nday1']"
   ]
  },
  {
   "cell_type": "markdown",
   "id": "0bc82532-c3b7-4378-b6b9-416ccd553c1b",
   "metadata": {},
   "source": [
    "### Connect to cluster"
   ]
  },
  {
   "cell_type": "code",
   "execution_count": null,
   "id": "c549c0ec-0721-4986-be5f-6c7c9e632fc1",
   "metadata": {},
   "outputs": [],
   "source": [
    "if cluster_scheduler_address is None:\n",
    "    cluster, client = util.get_ClusterClient()\n",
    "    cluster.scale(12)\n",
    "else:\n",
    "    client = Client(cluster_scheduler_address)\n",
    "client"
   ]
  },
  {
   "cell_type": "markdown",
   "id": "976ffa95-263e-4d11-bda3-0637f9d28212",
   "metadata": {},
   "source": [
    "### Load the data"
   ]
  },
  {
   "cell_type": "code",
   "execution_count": null,
   "id": "4e7e974e-99a7-42a2-8925-90e23a848edc",
   "metadata": {},
   "outputs": [],
   "source": [
    "dsets = catalog.to_dataset_dict(\n",
    "    case=casename,\n",
    "    component=component,\n",
    "    stream=stream,\n",
    ")\n",
    "dsets.keys()"
   ]
  },
  {
   "cell_type": "code",
   "execution_count": null,
   "id": "71171c48-c130-4d74-9ce2-3beda2d453e2",
   "metadata": {},
   "outputs": [],
   "source": [
    "ds = dsets[f'{casename}.{component}.{stream}']"
   ]
  },
  {
   "cell_type": "markdown",
   "id": "b5d851b8-ddae-4407-8aee-1f2f01bb5780",
   "metadata": {},
   "source": [
    "### Variable list"
   ]
  },
  {
   "cell_type": "code",
   "execution_count": null,
   "id": "ea5e9150-4e80-45a2-a5b6-a8b6a474cf72",
   "metadata": {},
   "outputs": [],
   "source": [
    "variables =['mesozooC', 'microzooC']"
   ]
  },
  {
   "cell_type": "code",
   "execution_count": null,
   "id": "a63a74ea-ac56-4034-aeaa-f648909fe59a",
   "metadata": {},
   "outputs": [],
   "source": [
    "keep_vars=['z_t','z_t_150m','dz','time_bound','time','TAREA','TLAT','TLONG'] + variables\n",
    "ds = ds.drop([v for v in ds.variables if v not in keep_vars])"
   ]
  },
  {
   "cell_type": "markdown",
   "id": "4c501c8a-4f23-45e3-a750-233dfd62a565",
   "metadata": {},
   "source": [
    "### Make a monthly climatology dataset"
   ]
  },
  {
   "cell_type": "code",
   "execution_count": null,
   "id": "7f93024f-a793-474e-8493-92c690b956a1",
   "metadata": {},
   "outputs": [],
   "source": [
    "time = pd.date_range(start=\"2009-01-01\", end=\"2019-01-01\",freq=\"M\")"
   ]
  },
  {
   "cell_type": "code",
   "execution_count": null,
   "id": "a37665ea-375a-478d-8b29-25dab48d235a",
   "metadata": {},
   "outputs": [],
   "source": [
    "mon_ds = ds.copy()\n",
    "mon_ds['time'] = time\n",
    "mon_ds = ds.groupby('time.month').mean('time')"
   ]
  },
  {
   "cell_type": "markdown",
   "id": "0bc1e235-6804-4bb9-bb90-bd3fcf2db1bd",
   "metadata": {},
   "source": [
    "### Compute long-term mean"
   ]
  },
  {
   "cell_type": "code",
   "execution_count": null,
   "id": "bb40f367-0a19-4719-a091-e8f7fd0abaaf",
   "metadata": {},
   "outputs": [],
   "source": [
    "ds = ds.mean(dim='time')"
   ]
  },
  {
   "cell_type": "markdown",
   "id": "d18b05d1-034e-4671-b7c1-055dfb4c7828",
   "metadata": {},
   "source": [
    "### Plot mesozooplankton and microzooplankton biomass at the surface"
   ]
  },
  {
   "cell_type": "code",
   "execution_count": null,
   "id": "bff8e04c-c929-4159-8c04-208cad7285d6",
   "metadata": {},
   "outputs": [],
   "source": [
    "###### \n",
    "fig = plt.figure(figsize=(8,5))\n",
    "\n",
    "ax = fig.add_subplot(2,1,1, projection=ccrs.Robinson(central_longitude=305.0))\n",
    "ax.set_title('microzooC at surface', fontsize=12)\n",
    "lon, lat, field = util.adjust_pop_grid(lons, lats,  ds.microzooC.isel(z_t_150m=0))\n",
    "pc=ax.pcolormesh(lon, lat, field, cmap='jet',vmin=0,vmax=2,transform=ccrs.PlateCarree())\n",
    "cbar1 = fig.colorbar(pc, ax=ax,extend='max',label='microzooC (mmol m$^{-3}$)')\n",
    "\n",
    "\n",
    "ax = fig.add_subplot(2,1,2, projection=ccrs.Robinson(central_longitude=305.0))\n",
    "ax.set_title('mesozooC at surface', fontsize=12)\n",
    "lon, lat, field = util.adjust_pop_grid(lons, lats,  ds.mesozooC.isel(z_t_150m=0))\n",
    "pc=ax.pcolormesh(lon, lat, field, cmap='jet',vmin=0,vmax=4,transform=ccrs.PlateCarree())\n",
    "cbar1 = fig.colorbar(pc, ax=ax,extend='max',label='mesozooC (mmol m$^{-3}$)')"
   ]
  },
  {
   "cell_type": "markdown",
   "id": "745e6a54-9175-48c4-8a9b-f52c2345b593",
   "metadata": {},
   "source": [
    "### Compare mesozooplankton biomass to COPEPOD database\n",
    "\n",
    "[Moriarty & O'Brien, 2013](https://essd.copernicus.org/articles/5/45/2013/essd-5-45-2013.pdf)"
   ]
  },
  {
   "cell_type": "code",
   "execution_count": null,
   "id": "a01fc12c-830e-48ba-9225-8e819adb9c70",
   "metadata": {},
   "outputs": [],
   "source": [
    "file = '/glade/u/home/kristenk/work/copepod-biomass/data/POP_gx1v7/copepod-2012__cmass-m00-qtr.zarr'\n",
    "ds_copepod = xr.open_zarr(file, consolidated=False)\n",
    "ds_copepod['copepod_C']=ds_copepod.copepod_C/12.011"
   ]
  },
  {
   "cell_type": "code",
   "execution_count": null,
   "id": "8f2f80dd-b738-437c-8ff7-1c6dc7423b74",
   "metadata": {},
   "outputs": [],
   "source": [
    "fig = plt.figure(figsize=(12,3))\n",
    "\n",
    "ax = fig.add_subplot(1,2,1, projection=ccrs.Robinson(central_longitude=305.0))\n",
    "ax.set_title('COPEPOD dataset', fontsize=12)\n",
    "lon, lat, field = util.adjust_pop_grid(lons, lats, ds_copepod.copepod_C)\n",
    "pc=ax.pcolormesh(lon, lat, field, cmap='Reds',vmin=0,vmax=2,transform=ccrs.PlateCarree())\n",
    "ax.coastlines('110m',linewidth=0.5)\n",
    "\n",
    "ax = fig.add_subplot(1,2,2, projection=ccrs.Robinson(central_longitude=305.0))\n",
    "ax.set_title('CESM ${\\it Mesozooplankton}$ biomass', fontsize=12)\n",
    "lon, lat, field = util.adjust_pop_grid(lons, lats, ds.mesozooC.mean(dim='z_t_150m'))\n",
    "pc=ax.pcolormesh(lon, lat, field, cmap='Reds',vmin=0,vmax=2,transform=ccrs.PlateCarree())\n",
    "ax.coastlines('110m',linewidth=0.5)\n",
    "\n",
    "fig.subplots_adjust(right=0.8)\n",
    "cbar_ax = fig.add_axes([0.85, 0.15, 0.02, 0.7])\n",
    "fig.colorbar(pc, cax=cbar_ax,extend='max', label='top 150m/200m mean (mmol m$^{-3}$)');"
   ]
  },
  {
   "cell_type": "markdown",
   "id": "5085ee6d-457c-46dd-9beb-5b8f08d46473",
   "metadata": {},
   "source": [
    "### Compare to observation-based GLMM of global mesozooplankton biomass climatology \n",
    "[Heneghan et al., 2020](https://www.sciencedirect.com/science/article/abs/pii/S0304380020303355)\n",
    "\n",
    "[Petrik et al., submitted to Global Biogeochemical Cycles](https://www.essoar.org/doi/abs/10.1002/essoar.10510705.1)"
   ]
  },
  {
   "cell_type": "code",
   "execution_count": null,
   "id": "7774b4fe-4da2-437a-9441-9c50d4d8a7fa",
   "metadata": {},
   "outputs": [],
   "source": [
    "file = '/glade/u/home/kristenk/work/copepod-biomass/obsglmm_zmeso_vint_200m_monthly_climatology.nc'\n",
    "ds_copepod_clim = xr.open_dataset(file)\n",
    "ds_copepod_clim.zmeso200.attrs['units'] = 'mgC m-2'\n",
    "\n",
    "months = ['Jan','Feb','Mar','Apr','May','Jun','Jul','Aug','Sep','Oct','Nov','Dec']"
   ]
  },
  {
   "cell_type": "code",
   "execution_count": null,
   "id": "94bda07d-0f2d-4940-9e7a-3fecb1d9aefe",
   "metadata": {},
   "outputs": [],
   "source": [
    "### depth integrate and convert model to mol/m2\n",
    "mon_ds['mesozooC_zint'] = ((mon_ds.mesozooC) * 10.).sum(dim='z_t_150m') #in mmol/m2\n",
    "mon_ds['mesozooC_zint'] = mon_ds['mesozooC_zint'] * 12.011 #convert to mgC/m2\n",
    "mon_ds['mesozooC_zint'].attrs['units'] = 'mgC m-2'"
   ]
  },
  {
   "cell_type": "code",
   "execution_count": null,
   "id": "b53c2678-afcf-4b42-b4bc-08f63163194c",
   "metadata": {},
   "outputs": [],
   "source": [
    "fig = plt.figure(figsize=(5,18))\n",
    "\n",
    "for row in np.arange(1,13):\n",
    "    \n",
    "    ts=row-1\n",
    "    \n",
    "    plot = row*2 - 1\n",
    "    ax = fig.add_subplot(12,2,plot, projection=ccrs.Robinson(central_longitude=305.0))\n",
    "    ax.set_title(months[ts]+' obs', fontsize=12)\n",
    "    pc=ax.pcolormesh(ds_copepod_clim.Lon, ds_copepod_clim.Lat, ds_copepod_clim.zmeso200.isel(month=ts), \n",
    "                     cmap='Reds',vmin=0,vmax=4000,transform=ccrs.PlateCarree())\n",
    "    ax.coastlines('110m',linewidth=0.5)\n",
    "    \n",
    "    plot = row*2\n",
    "    ax = fig.add_subplot(12,2,plot, projection=ccrs.Robinson(central_longitude=305.0))\n",
    "    ax.set_title(months[ts]+' CESM', fontsize=12)\n",
    "    tmp = mon_ds.mesozooC_zint.isel(month=ts)\n",
    "    lon, lat, field = util.adjust_pop_grid(lons, lats,  tmp)\n",
    "    pc=ax.pcolormesh(lon, lat, field, cmap='Reds',vmin=0,vmax=4000,transform=ccrs.PlateCarree())\n",
    "    ax.coastlines('110m',linewidth=0.5)\n",
    "\n",
    "cbar_ax = fig.add_axes([0.92, 0.15, 0.03, 0.7])\n",
    "fig.colorbar(pc, cax=cbar_ax,extend='max', label='Depth-integrated copepod biomass (mg m$^{-2}$)');"
   ]
  },
  {
   "cell_type": "markdown",
   "id": "0cc8dc4e-76c8-4d00-849e-a1824628fbfa",
   "metadata": {},
   "source": [
    "### **TO DO** \n",
    "• Additional comparisons to make (Colleen's suggestions): look at the seasonal cycle in different regions and also the relationship between zooplankton biomass and chlorophyll. \n",
    "\n",
    "• Add production fields\n",
    "\n",
    "• z-ratio comparison\n",
    "\n",
    "• Comparisons to MAREDAT"
   ]
  },
  {
   "cell_type": "code",
   "execution_count": null,
   "id": "63d3d1ef-54fb-447f-a552-340c86580db7",
   "metadata": {},
   "outputs": [],
   "source": []
  }
 ],
 "metadata": {
  "language_info": {
   "name": "python"
  }
 },
 "nbformat": 4,
 "nbformat_minor": 5
}
