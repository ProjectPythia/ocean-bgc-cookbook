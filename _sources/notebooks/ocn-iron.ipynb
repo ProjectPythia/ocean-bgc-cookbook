{
 "cells": [
  {
   "cell_type": "markdown",
   "id": "b32e55d3-d037-40b9-96ac-b2ff03536e23",
   "metadata": {},
   "source": [
    "# Ocean iron concentration"
   ]
  },
  {
   "cell_type": "code",
   "execution_count": 2,
   "id": "0f30282e-2b0e-47d7-8702-baa7a7e071cb",
   "metadata": {},
   "outputs": [
    {
     "ename": "ImportError",
     "evalue": "The ESMFMKFILE environment variable is not available.",
     "output_type": "error",
     "traceback": [
      "\u001b[0;31m---------------------------------------------------------------------------\u001b[0m",
      "\u001b[0;31mKeyError\u001b[0m                                  Traceback (most recent call last)",
      "File \u001b[0;32m/glade/work/eromashkova/miniconda3/envs/ocean-bgc-cookbook-dev/lib/python3.11/site-packages/esmpy/interface/loadESMF.py:26\u001b[0m\n\u001b[1;32m     25\u001b[0m \u001b[38;5;28;01mtry\u001b[39;00m:\n\u001b[0;32m---> 26\u001b[0m     esmfmk \u001b[38;5;241m=\u001b[39m \u001b[43mos\u001b[49m\u001b[38;5;241;43m.\u001b[39;49m\u001b[43menviron\u001b[49m\u001b[43m[\u001b[49m\u001b[38;5;124;43m\"\u001b[39;49m\u001b[38;5;124;43mESMFMKFILE\u001b[39;49m\u001b[38;5;124;43m\"\u001b[39;49m\u001b[43m]\u001b[49m\n\u001b[1;32m     27\u001b[0m \u001b[38;5;28;01mexcept\u001b[39;00m:\n",
      "File \u001b[0;32m<frozen os>:679\u001b[0m, in \u001b[0;36m__getitem__\u001b[0;34m(self, key)\u001b[0m\n",
      "\u001b[0;31mKeyError\u001b[0m: 'ESMFMKFILE'",
      "\nDuring handling of the above exception, another exception occurred:\n",
      "\u001b[0;31mImportError\u001b[0m                               Traceback (most recent call last)",
      "Cell \u001b[0;32mIn[2], line 1\u001b[0m\n\u001b[0;32m----> 1\u001b[0m \u001b[38;5;28;01mimport\u001b[39;00m \u001b[38;5;21;01mesmpy\u001b[39;00m\n\u001b[1;32m      2\u001b[0m \u001b[38;5;28;01mimport\u001b[39;00m \u001b[38;5;21;01mxesmf\u001b[39;00m \u001b[38;5;28;01mas\u001b[39;00m \u001b[38;5;21;01mxe\u001b[39;00m\n\u001b[1;32m      3\u001b[0m \u001b[38;5;28;01mimport\u001b[39;00m \u001b[38;5;21;01mxarray\u001b[39;00m \u001b[38;5;28;01mas\u001b[39;00m \u001b[38;5;21;01mxr\u001b[39;00m\n",
      "File \u001b[0;32m/glade/work/eromashkova/miniconda3/envs/ocean-bgc-cookbook-dev/lib/python3.11/site-packages/esmpy/__init__.py:112\u001b[0m\n\u001b[1;32m    108\u001b[0m __obsoletes__ \u001b[38;5;241m=\u001b[39m msg[\u001b[38;5;124m\"\u001b[39m\u001b[38;5;124mobsoletes\u001b[39m\u001b[38;5;124m\"\u001b[39m]\n\u001b[1;32m    110\u001b[0m \u001b[38;5;66;03m#### IMPORT LIBRARIES #########################################################\u001b[39;00m\n\u001b[0;32m--> 112\u001b[0m \u001b[38;5;28;01mfrom\u001b[39;00m \u001b[38;5;21;01mesmpy\u001b[39;00m\u001b[38;5;21;01m.\u001b[39;00m\u001b[38;5;21;01mapi\u001b[39;00m\u001b[38;5;21;01m.\u001b[39;00m\u001b[38;5;21;01mesmpymanager\u001b[39;00m \u001b[38;5;28;01mimport\u001b[39;00m \u001b[38;5;241m*\u001b[39m\n\u001b[1;32m    113\u001b[0m \u001b[38;5;28;01mfrom\u001b[39;00m \u001b[38;5;21;01mesmpy\u001b[39;00m\u001b[38;5;21;01m.\u001b[39;00m\u001b[38;5;21;01mapi\u001b[39;00m\u001b[38;5;21;01m.\u001b[39;00m\u001b[38;5;21;01mgrid\u001b[39;00m \u001b[38;5;28;01mimport\u001b[39;00m \u001b[38;5;241m*\u001b[39m\n\u001b[1;32m    114\u001b[0m \u001b[38;5;28;01mfrom\u001b[39;00m \u001b[38;5;21;01mesmpy\u001b[39;00m\u001b[38;5;21;01m.\u001b[39;00m\u001b[38;5;21;01mapi\u001b[39;00m\u001b[38;5;21;01m.\u001b[39;00m\u001b[38;5;21;01mmesh\u001b[39;00m \u001b[38;5;28;01mimport\u001b[39;00m \u001b[38;5;241m*\u001b[39m\n",
      "File \u001b[0;32m/glade/work/eromashkova/miniconda3/envs/ocean-bgc-cookbook-dev/lib/python3.11/site-packages/esmpy/api/esmpymanager.py:9\u001b[0m\n\u001b[1;32m      3\u001b[0m \u001b[38;5;124;03m\"\"\"\u001b[39;00m\n\u001b[1;32m      4\u001b[0m \u001b[38;5;124;03mThe ESMPyManager API\u001b[39;00m\n\u001b[1;32m      5\u001b[0m \u001b[38;5;124;03m\"\"\"\u001b[39;00m\n\u001b[1;32m      7\u001b[0m \u001b[38;5;66;03m#### IMPORT LIBRARIES #########################################################\u001b[39;00m\n\u001b[0;32m----> 9\u001b[0m \u001b[38;5;28;01mfrom\u001b[39;00m \u001b[38;5;21;01mesmpy\u001b[39;00m\u001b[38;5;21;01m.\u001b[39;00m\u001b[38;5;21;01minterface\u001b[39;00m\u001b[38;5;21;01m.\u001b[39;00m\u001b[38;5;21;01mcbindings\u001b[39;00m \u001b[38;5;28;01mimport\u001b[39;00m \u001b[38;5;241m*\u001b[39m\n\u001b[1;32m     11\u001b[0m \u001b[38;5;28;01mfrom\u001b[39;00m \u001b[38;5;21;01mesmpy\u001b[39;00m\u001b[38;5;21;01m.\u001b[39;00m\u001b[38;5;21;01mapi\u001b[39;00m\u001b[38;5;21;01m.\u001b[39;00m\u001b[38;5;21;01mconstants\u001b[39;00m \u001b[38;5;28;01mimport\u001b[39;00m \u001b[38;5;241m*\u001b[39m\n\u001b[1;32m     12\u001b[0m \u001b[38;5;28;01mfrom\u001b[39;00m \u001b[38;5;21;01mesmpy\u001b[39;00m\u001b[38;5;21;01m.\u001b[39;00m\u001b[38;5;21;01mutil\u001b[39;00m\u001b[38;5;21;01m.\u001b[39;00m\u001b[38;5;21;01mexceptions\u001b[39;00m \u001b[38;5;28;01mimport\u001b[39;00m \u001b[38;5;241m*\u001b[39m\n",
      "File \u001b[0;32m/glade/work/eromashkova/miniconda3/envs/ocean-bgc-cookbook-dev/lib/python3.11/site-packages/esmpy/interface/cbindings.py:13\u001b[0m\n\u001b[1;32m     11\u001b[0m \u001b[38;5;28;01mimport\u001b[39;00m \u001b[38;5;21;01mesmpy\u001b[39;00m\u001b[38;5;21;01m.\u001b[39;00m\u001b[38;5;21;01mapi\u001b[39;00m\u001b[38;5;21;01m.\u001b[39;00m\u001b[38;5;21;01mconstants\u001b[39;00m \u001b[38;5;28;01mas\u001b[39;00m \u001b[38;5;21;01mconstants\u001b[39;00m\n\u001b[1;32m     12\u001b[0m \u001b[38;5;28;01mfrom\u001b[39;00m \u001b[38;5;21;01mesmpy\u001b[39;00m\u001b[38;5;21;01m.\u001b[39;00m\u001b[38;5;21;01mutil\u001b[39;00m\u001b[38;5;21;01m.\u001b[39;00m\u001b[38;5;21;01mdecorators\u001b[39;00m \u001b[38;5;28;01mimport\u001b[39;00m \u001b[38;5;241m*\u001b[39m\n\u001b[0;32m---> 13\u001b[0m \u001b[38;5;28;01mfrom\u001b[39;00m \u001b[38;5;21;01mesmpy\u001b[39;00m\u001b[38;5;21;01m.\u001b[39;00m\u001b[38;5;21;01minterface\u001b[39;00m\u001b[38;5;21;01m.\u001b[39;00m\u001b[38;5;21;01mloadESMF\u001b[39;00m \u001b[38;5;28;01mimport\u001b[39;00m _ESMF\n\u001b[1;32m     16\u001b[0m \u001b[38;5;28;01mdef\u001b[39;00m \u001b[38;5;21mcopy_struct\u001b[39m(src):\n\u001b[1;32m     17\u001b[0m     dst \u001b[38;5;241m=\u001b[39m \u001b[38;5;28mtype\u001b[39m(src)()\n",
      "File \u001b[0;32m/glade/work/eromashkova/miniconda3/envs/ocean-bgc-cookbook-dev/lib/python3.11/site-packages/esmpy/interface/loadESMF.py:28\u001b[0m\n\u001b[1;32m     26\u001b[0m     esmfmk \u001b[38;5;241m=\u001b[39m os\u001b[38;5;241m.\u001b[39menviron[\u001b[38;5;124m\"\u001b[39m\u001b[38;5;124mESMFMKFILE\u001b[39m\u001b[38;5;124m\"\u001b[39m]\n\u001b[1;32m     27\u001b[0m \u001b[38;5;28;01mexcept\u001b[39;00m:\n\u001b[0;32m---> 28\u001b[0m     \u001b[38;5;28;01mraise\u001b[39;00m \u001b[38;5;167;01mImportError\u001b[39;00m(\u001b[38;5;124m'\u001b[39m\u001b[38;5;124mThe ESMFMKFILE environment variable is not available.\u001b[39m\u001b[38;5;124m'\u001b[39m)\n\u001b[1;32m     30\u001b[0m \u001b[38;5;66;03m#### INVESTIGATE esmf.mk ######################################################\u001b[39;00m\n\u001b[1;32m     31\u001b[0m \n\u001b[1;32m     32\u001b[0m \u001b[38;5;66;03m# TODO: look for various dependecies in the ESMF build log\u001b[39;00m\n\u001b[0;32m   (...)\u001b[0m\n\u001b[1;32m     37\u001b[0m \u001b[38;5;66;03m#       use this information to set variables that can be checked at beginning\u001b[39;00m\n\u001b[1;32m     38\u001b[0m \u001b[38;5;66;03m#       of the routines that require an ESMF build with these dependencies\u001b[39;00m\n\u001b[1;32m     40\u001b[0m \u001b[38;5;28;01mwith\u001b[39;00m \u001b[38;5;28mopen\u001b[39m(esmfmk, \u001b[38;5;124m'\u001b[39m\u001b[38;5;124mr\u001b[39m\u001b[38;5;124m'\u001b[39m) \u001b[38;5;28;01mas\u001b[39;00m MKFILE:\n\u001b[1;32m     41\u001b[0m     \n\u001b[1;32m     42\u001b[0m     \u001b[38;5;66;03m# investigate esmf.mk\u001b[39;00m\n",
      "\u001b[0;31mImportError\u001b[0m: The ESMFMKFILE environment variable is not available."
     ]
    }
   ],
   "source": [
    "import esmpy\n",
    "import xesmf as xe\n",
    "import xarray as xr\n",
    "import glob\n",
    "import numpy as np\n",
    "import matplotlib.pyplot as plt\n",
    "import cartopy\n",
    "import cartopy.crs as ccrs\n",
    "import pop_tools\n",
    "from dask.distributed import LocalCluster\n",
    "import matplotlib.pyplot as plt\n",
    "import cartopy\n",
    "import cartopy.crs as ccrs\n",
    "import pop_tools\n",
    "import pandas as pd\n",
    "\n",
    "#import util\n",
    "#import matt_utils\n",
    "#import tools\n",
    "\n"
   ]
  },
  {
   "cell_type": "markdown",
   "id": "42a65463-71d0-459a-8c63-ab099821cf5a",
   "metadata": {},
   "source": [
    "## General setup (see intro notebooks for explanations)"
   ]
  },
  {
   "cell_type": "markdown",
   "id": "e32e1025-287e-47dd-a41d-c04b6f0c7cab",
   "metadata": {},
   "source": [
    "### Connect to cluster"
   ]
  },
  {
   "cell_type": "code",
   "execution_count": null,
   "id": "f78f2e20-0b51-4cde-b38d-277a89380426",
   "metadata": {},
   "outputs": [],
   "source": [
    "from dask.distributed import LocalCluster\n",
    "cluster = LocalCluster()\n",
    "client = cluster.get_client()"
   ]
  },
  {
   "cell_type": "markdown",
   "id": "d29bc953-5c0a-498c-a392-cd4c24537c7b",
   "metadata": {},
   "source": [
    "### Bring in POP grid utilities"
   ]
  },
  {
   "cell_type": "code",
   "execution_count": null,
   "id": "3be7b8d9-7ac3-4a13-bc86-a5dc9b770969",
   "metadata": {},
   "outputs": [],
   "source": [
    "ds_grid = pop_tools.get_grid('POP_gx1v7')\n",
    "lons = ds_grid.TLONG\n",
    "lats = ds_grid.TLAT\n",
    "depths = ds_grid.z_t * 0.01"
   ]
  },
  {
   "cell_type": "code",
   "execution_count": null,
   "id": "78660a8f-98bd-4f6a-b8f1-448d06787854",
   "metadata": {},
   "outputs": [],
   "source": [
    "def adjust_pop_grid(tlon,tlat,field):\n",
    "    nj = tlon.shape[0]\n",
    "    ni = tlon.shape[1]\n",
    "    xL = int(ni/2 - 1)\n",
    "    xR = int(xL + ni)\n",
    "\n",
    "    tlon = np.where(np.greater_equal(tlon,min(tlon[:,0])),tlon-360.,tlon)\n",
    "    lon  = np.concatenate((tlon,tlon+360.),1)\n",
    "    lon = lon[:,xL:xR]\n",
    "\n",
    "    if ni == 320:\n",
    "        lon[367:-3,0] = lon[367:-3,0]+360.\n",
    "    lon = lon - 360.\n",
    "    lon = np.hstack((lon,lon[:,0:1]+360.))\n",
    "    if ni == 320:\n",
    "        lon[367:,-1] = lon[367:,-1] - 360.\n",
    "\n",
    "    # Trick cartopy into doing the right thing:\n",
    "    # it gets confused when the cyclic coords are identical\n",
    "    lon[:,0] = lon[:,0]-1e-8\n",
    "    \n",
    "    # Periodicity\n",
    "    lat  = np.concatenate((tlat,tlat),1)\n",
    "    lat = lat[:,xL:xR]\n",
    "    lat = np.hstack((lat,lat[:,0:1]))\n",
    "\n",
    "    field = np.ma.concatenate((field,field),1)\n",
    "    field = field[:,xL:xR]\n",
    "    field = np.ma.hstack((field,field[:,0:1]))\n",
    "    return lon,lat,field"
   ]
  },
  {
   "cell_type": "markdown",
   "id": "3630bab7-a9ea-4433-9eb8-f8555cab07bd",
   "metadata": {},
   "source": [
    "### Load the data"
   ]
  },
  {
   "cell_type": "code",
   "execution_count": null,
   "id": "13316898-5c1b-4e93-aaa6-59fa3ef0aa6e",
   "metadata": {},
   "outputs": [],
   "source": [
    "case = 'g.e22.GOMIPECOIAF_JRA-1p4-2018.TL319_g17.4p2z.002branch'\n",
    "path = '/glade/campaign/cesm/development/bgcwg/projects/CESM2-OMIP2-like-4p2z-run/'+case+'/ocn/proc/tseries/month_1'\n",
    "coords = {'x':'TLONG','y':'TLAT'}\n",
    "path"
   ]
  },
  {
   "cell_type": "code",
   "execution_count": null,
   "id": "bd34d3e4-a635-4905-b359-6da859ff3a4a",
   "metadata": {
    "scrolled": true
   },
   "outputs": [],
   "source": [
    "files = glob.glob(f'{path}/{case}.pop.h.*.195801-202112.nc')\n",
    "ds=xr.open_mfdataset(files, data_vars=\"minimal\", coords='minimal', compat=\"override\", parallel=True,\n",
    "                       drop_variables=[\"transport_components\", \"transport_regions\", 'moc_components'], decode_times=True)\n",
    "ds"
   ]
  },
  {
   "cell_type": "code",
   "execution_count": null,
   "id": "ea5e9150-4e80-45a2-a5b6-a8b6a474cf72",
   "metadata": {},
   "outputs": [],
   "source": [
    "variables =['Fe']"
   ]
  },
  {
   "cell_type": "code",
   "execution_count": null,
   "id": "a63a74ea-ac56-4034-aeaa-f648909fe59a",
   "metadata": {},
   "outputs": [],
   "source": [
    "keep_vars=['z_t','z_t_150m','dz','time_bound','TAREA','TLAT','TLONG'] + variables\n",
    "ds = ds.drop_vars([v for v in ds.variables if v not in keep_vars])"
   ]
  },
  {
   "cell_type": "code",
   "execution_count": null,
   "id": "4321e1ec-03e1-45d6-bb0b-16fdcaa17ca3",
   "metadata": {},
   "outputs": [],
   "source": [
    "ds.Fe.isel(time=0,z_t=0).plot()"
   ]
  },
  {
   "cell_type": "code",
   "execution_count": null,
   "id": "7abc7911-cfb2-40d7-bf8e-5b909bc8319d",
   "metadata": {},
   "outputs": [],
   "source": [
    "dt_wgt = ds.time_bound.diff('d2').squeeze()\n",
    "dt_wgt /= dt_wgt.sum()\n",
    "#dt_wgt"
   ]
  },
  {
   "cell_type": "code",
   "execution_count": null,
   "id": "bb40f367-0a19-4719-a091-e8f7fd0abaaf",
   "metadata": {},
   "outputs": [],
   "source": [
    "ds = ds.weighted(dt_wgt).mean('time')"
   ]
  },
  {
   "cell_type": "code",
   "execution_count": null,
   "id": "044ce3e1-394d-471a-a8e6-5e99ce72f087",
   "metadata": {},
   "outputs": [],
   "source": [
    "nmolcm3_to_nM = 1.e3\n",
    "ds['Fe'] = ds['Fe'] * nmolcm3_to_nM\n",
    "ds['Fe'].attrs['units'] = 'nM'"
   ]
  },
  {
   "cell_type": "markdown",
   "id": "b741fef7-406c-4186-bf26-479c03ca8fae",
   "metadata": {},
   "source": [
    "### Compare to observational Fe database\n",
    "\n",
    "(need ref)"
   ]
  },
  {
   "cell_type": "code",
   "execution_count": null,
   "id": "f7d11915-3fe0-4037-8cba-cce3929cb7c9",
   "metadata": {},
   "outputs": [],
   "source": [
    "dFe_obs_file = '/glade/u/home/kristenk/cesm2-marbl/notebooks/discrete_obs/dFe-database-2021-05-20.csv'\n",
    "df = pd.read_csv(dFe_obs_file, na_values=-999.).dropna(axis=0, how='all')\n",
    "\n",
    "df"
   ]
  },
  {
   "cell_type": "code",
   "execution_count": null,
   "id": "36254386-83a7-4e53-a221-9316b54e762c",
   "metadata": {},
   "outputs": [],
   "source": [
    "%%time\n",
    "df.obs_stream.add_model_field(ds.Fe)\n",
    "df"
   ]
  },
  {
   "cell_type": "code",
   "execution_count": null,
   "id": "a7d1051a-c2be-4e42-835b-b3634e7bf10e",
   "metadata": {},
   "outputs": [],
   "source": [
    "plt.plot(df.dFe_obs, df.Fe, '.')\n",
    "plt.xlabel('CESM2 dFe [nM]')\n",
    "plt.ylabel('Obs dFe [nM]')\n",
    "plt.plot([0, 5], [0, 5], 'r-')"
   ]
  },
  {
   "cell_type": "code",
   "execution_count": null,
   "id": "3fb98857-38fb-4a95-bfd6-8dffb8121ded",
   "metadata": {},
   "outputs": [],
   "source": [
    "fig, axs = plot.canvas(3, 1, figsize=(6, 2.5), use_gridspec=True, hspace=0.06)\n",
    "\n",
    "dx = 0.05\n",
    "bin_edges = np.arange(0., 1.5+dx, dx)\n",
    "bins = np.vstack((bin_edges[:-1], bin_edges[1:])).mean(axis=0)\n",
    "\n",
    "depth_ranges = {\n",
    "    '–100m < z': (0., 100.),\n",
    "    '-500m < z < -100 m': (100., 500.),\n",
    "    '   z < -500m': (500., 1e36),\n",
    "}\n",
    "\n",
    "for n, (key, depth_range) in enumerate(depth_ranges.items()):\n",
    "    ax = axs[n, 0]\n",
    "    df_sub = df.loc[(depth_range[0] <= df.depth) & (df.depth <= depth_range[1])]\n",
    "    \n",
    "    hist, _ = np.histogram(df_sub.dFe_obs.values, bin_edges)\n",
    "    ax.bar(bins, hist, width=dx, alpha=0.7, label='Obs')\n",
    "    \n",
    "    hist, _ = np.histogram(df_sub.Fe.values, bin_edges)\n",
    "    ax.bar(bins, hist, width=dx, alpha=0.6, label='CESM2-MARBL')\n",
    "    \n",
    "    if n == 0:\n",
    "        ax.legend(loc='upper right', frameon=False)\n",
    "    if n < 2:\n",
    "        ax.set_xticklabels([])\n",
    "    ylm = ax.get_ylim()\n",
    "    ax.text(0.75, ylm[1] - 0.12 * np.diff(ylm), key, \n",
    "            fontweight='bold',\n",
    "            fontsize=12,\n",
    "            ha='center',\n",
    "           )\n",
    "    if n == 1:\n",
    "        ax.set_ylabel('Number of samples')\n",
    "    if n == 2:\n",
    "        ax.set_xlabel('Dissolved iron concentration [nM]')\n",
    "        \n",
    "matt_utils.label_plots(fig, [ax for ax in axs.ravel()], xoff=-0.05, yoff=-0.02)"
   ]
  },
  {
   "cell_type": "code",
   "execution_count": null,
   "id": "67dcdd6c-e3c0-4101-bc21-50f3e5c5bebc",
   "metadata": {},
   "outputs": [],
   "source": [
    "dsp = matt_utils.pop_add_cyclic(ds)"
   ]
  },
  {
   "cell_type": "code",
   "execution_count": null,
   "id": "69c80aff-2e77-4566-a570-fc4034411e96",
   "metadata": {},
   "outputs": [],
   "source": [
    "field = 'Fe'\n",
    "levels = {'Fe': [0., 0.05, 0.1, 0.2, 0.25, 0.3, 0.35, 0.4, 0.45, 0.5, 0.6, 0.8, 1., 2.5, 5.0]}\n",
    "\n",
    "fig = plt.figure(figsize=(10, 8))\n",
    "prj = ccrs.Robinson(central_longitude=305.0)\n",
    "\n",
    "nrow, ncol = 3, 2 \n",
    "gs = gridspec.GridSpec(\n",
    "    nrows=nrow, ncols=ncol+1, \n",
    "    width_ratios=(1, 1, 0.03),\n",
    "    wspace=0.05, \n",
    "    hspace=0.2,\n",
    ")\n",
    "\n",
    "axs = np.empty((nrow, ncol)).astype(object)\n",
    "caxs= np.empty((nrow, ncol)).astype(object)\n",
    "for i, j in product(range(nrow), range(ncol)):    \n",
    "    axs[i, j] = plt.subplot(gs[i, j], projection=prj)\n",
    "cax = plt.subplot(gs[:, -1])\n",
    "\n",
    "cmap_field = cmocean.cm.dense\n",
    "\n",
    "\n",
    "for i, (key, depth_range) in enumerate(depth_ranges.items()):\n",
    "    for j in range(2):\n",
    "        ax = axs[i, j]\n",
    "        if j == 0:\n",
    "            zslice = slice(depth_range[0]*100., depth_range[1]*100.)\n",
    "\n",
    "            cf = ax.contourf(\n",
    "                dsp.TLONG,dsp.TLAT, dsp[field].sel(z_t=zslice).mean('z_t'),\n",
    "                levels=levels[field],\n",
    "                extend='max',\n",
    "                cmap=cmap_field,\n",
    "                norm=colors.BoundaryNorm(levels[field], ncolors=cmap_field.N),\n",
    "                transform=ccrs.PlateCarree(),\n",
    "            )\n",
    "        else:\n",
    "            df_sub = df.loc[(depth_range[0] <= df.depth) & (df.depth <= depth_range[1])]\n",
    "            sc = ax.scatter(\n",
    "                df_sub.lon, df_sub.lat, c=df_sub.dFe_obs.values,\n",
    "                cmap=cmap_field,\n",
    "                norm=colors.BoundaryNorm(levels[field], ncolors=cmap_field.N),\n",
    "                s=6,\n",
    "                transform=ccrs.PlateCarree(),\n",
    "            )\n",
    "\n",
    "        land = ax.add_feature(\n",
    "            cartopy.feature.NaturalEarthFeature(\n",
    "                'physical','land','110m',\n",
    "                edgecolor='face',\n",
    "                facecolor='gray'\n",
    "            )\n",
    "        )  \n",
    "\n",
    "cb = plt.colorbar(cf, cax=cax, ticks=levels['Fe'])\n",
    "if 'units' in dsp[field].attrs:\n",
    "    cb.ax.set_title(dsp[field].attrs['units'])\n",
    "    cb.ax.set_yticklabels([f'{f:g}' for f in levels['Fe']])\n",
    "\n",
    "matt_utils.subplot_col_labels(axs[0, :], ['CESM2', 'Observations'])    \n",
    "matt_utils.subplot_row_labels(axs[:, 0], depth_ranges.keys(), xoff=60)\n",
    "    \n",
    "matt_utils.label_plots(fig, [ax for ax in axs.ravel()], xoff=0.02, yoff=0) "
   ]
  }
 ],
 "metadata": {
  "kernelspec": {
   "display_name": "ocean-bgc-cookbook-dev",
   "language": "python",
   "name": "ocean-bgc-cookbook-dev"
  },
  "language_info": {
   "codemirror_mode": {
    "name": "ipython",
    "version": 3
   },
   "file_extension": ".py",
   "mimetype": "text/x-python",
   "name": "python",
   "nbconvert_exporter": "python",
   "pygments_lexer": "ipython3",
   "version": "3.11.7"
  }
 },
 "nbformat": 4,
 "nbformat_minor": 5
}
