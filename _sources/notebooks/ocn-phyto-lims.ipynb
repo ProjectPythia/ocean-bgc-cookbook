{
 "cells": [
  {
   "cell_type": "markdown",
   "id": "b32e55d3-d037-40b9-96ac-b2ff03536e23",
   "metadata": {},
   "source": [
    "# Phytoplankton nutrient limitation"
   ]
  },
  {
   "cell_type": "code",
   "execution_count": 1,
   "id": "5d79c98c-73d9-4988-8234-6c1b68261240",
   "metadata": {},
   "outputs": [
    {
     "name": "stderr",
     "output_type": "stream",
     "text": [
      "\n",
      "KeyboardInterrupt\n",
      "\n"
     ]
    }
   ],
   "source": [
    "import xarray as xr\n",
    "import glob\n",
    "import numpy as np\n",
    "import matplotlib.pyplot as plt\n",
    "import cartopy\n",
    "import cartopy.crs as ccrs\n",
    "import pop_tools\n",
    "from dask.distributed import LocalCluster"
   ]
  },
  {
   "cell_type": "markdown",
   "id": "e4f541ea-5733-4b41-ae46-e2aafb217515",
   "metadata": {
    "jp-MarkdownHeadingCollapsed": true
   },
   "source": [
    "## General setup (see intro notebooks for explanations)"
   ]
  },
  {
   "cell_type": "markdown",
   "id": "053e7fff-3220-4661-8f66-d6d76f0998e1",
   "metadata": {},
   "source": [
    "### Connect to cluster"
   ]
  },
  {
   "cell_type": "code",
   "execution_count": null,
   "id": "af221088-8452-4c15-b4ef-3a1ca956d92e",
   "metadata": {},
   "outputs": [],
   "source": [
    "from dask.distributed import LocalCluster\n",
    "cluster = LocalCluster()\n",
    "client = cluster.get_client()"
   ]
  },
  {
   "cell_type": "markdown",
   "id": "6ffbdf86-3341-4cd5-a6ea-ed9c1ed0556f",
   "metadata": {},
   "source": [
    "### Bring in POP grid utilities"
   ]
  },
  {
   "cell_type": "code",
   "execution_count": null,
   "id": "94cd74f0-8da4-40a6-9b57-d0c73f1562f2",
   "metadata": {},
   "outputs": [],
   "source": [
    "ds_grid = pop_tools.get_grid('POP_gx1v7')\n",
    "lons = ds_grid.TLONG\n",
    "lats = ds_grid.TLAT\n",
    "depths = ds_grid.z_t * 0.01"
   ]
  },
  {
   "cell_type": "code",
   "execution_count": null,
   "id": "0b73860c-5a37-42b7-bd8c-7c841937e0b6",
   "metadata": {},
   "outputs": [],
   "source": [
    "def adjust_pop_grid(tlon,tlat,field):\n",
    "    nj = tlon.shape[0]\n",
    "    ni = tlon.shape[1]\n",
    "    xL = int(ni/2 - 1)\n",
    "    xR = int(xL + ni)\n",
    "\n",
    "    tlon = np.where(np.greater_equal(tlon,min(tlon[:,0])),tlon-360.,tlon)\n",
    "    lon  = np.concatenate((tlon,tlon+360.),1)\n",
    "    lon = lon[:,xL:xR]\n",
    "\n",
    "    if ni == 320:\n",
    "        lon[367:-3,0] = lon[367:-3,0]+360.\n",
    "    lon = lon - 360.\n",
    "    lon = np.hstack((lon,lon[:,0:1]+360.))\n",
    "    if ni == 320:\n",
    "        lon[367:,-1] = lon[367:,-1] - 360.\n",
    "\n",
    "    # Trick cartopy into doing the right thing:\n",
    "    # it gets confused when the cyclic coords are identical\n",
    "    lon[:,0] = lon[:,0]-1e-8\n",
    "    \n",
    "    # Periodicity\n",
    "    lat  = np.concatenate((tlat,tlat),1)\n",
    "    lat = lat[:,xL:xR]\n",
    "    lat = np.hstack((lat,lat[:,0:1]))\n",
    "\n",
    "    field = np.ma.concatenate((field,field),1)\n",
    "    field = field[:,xL:xR]\n",
    "    field = np.ma.hstack((field,field[:,0:1]))\n",
    "    return lon,lat,field"
   ]
  },
  {
   "cell_type": "markdown",
   "id": "652bc60d-d17e-4bbb-bfce-2b323281f444",
   "metadata": {},
   "source": [
    "### Load the data"
   ]
  },
  {
   "cell_type": "code",
   "execution_count": null,
   "id": "b129308a-a076-484f-84de-4dbf195c7ed6",
   "metadata": {},
   "outputs": [],
   "source": [
    "case = 'g.e22.GOMIPECOIAF_JRA-1p4-2018.TL319_g17.4p2z.002branch'\n",
    "path = '/glade/campaign/cesm/development/bgcwg/projects/CESM2-OMIP2-like-4p2z-run/'+case+'/ocn/proc/tseries/month_1'\n",
    "coords = {'x':'TLONG','y':'TLAT'}\n",
    "path"
   ]
  },
  {
   "cell_type": "code",
   "execution_count": null,
   "id": "cdba0fd2-62bc-4f74-a44d-1ec8556737a2",
   "metadata": {
    "scrolled": true
   },
   "outputs": [],
   "source": [
    "files = glob.glob(f'{path}/{case}.pop.h.*.195801-202112.nc')\n",
    "ds=xr.open_mfdataset(files, data_vars=\"minimal\", coords='minimal', compat=\"override\", parallel=True,\n",
    "                       drop_variables=[\"transport_components\", \"transport_regions\", 'moc_components'], decode_times=True)\n",
    "ds"
   ]
  },
  {
   "cell_type": "markdown",
   "id": "0b83b767-ff4e-4509-90c4-da96c31257f6",
   "metadata": {},
   "source": [
    "## Subsetting"
   ]
  },
  {
   "cell_type": "code",
   "execution_count": null,
   "id": "df24f626-ec70-428e-b44f-17597a60cc69",
   "metadata": {},
   "outputs": [],
   "source": [
    "variables =['sp_Fe_lim_Cweight_avg_100m','sp_P_lim_Cweight_avg_100m','sp_N_lim_Cweight_avg_100m',\n",
    "             'diat_Fe_lim_Cweight_avg_100m', 'diat_P_lim_Cweight_avg_100m','diat_N_lim_Cweight_avg_100m',\n",
    "             'diat_SiO3_lim_Cweight_avg_100m','diaz_P_lim_Cweight_avg_100m',\n",
    "             'diaz_Fe_lim_Cweight_avg_100m','cocco_Fe_lim_Cweight_avg_100m','cocco_C_lim_Cweight_avg_100m','cocco_N_lim_Cweight_avg_100m',\n",
    "             'cocco_P_lim_Cweight_avg_100m','sp_Fe_lim_surf','sp_P_lim_surf','sp_N_lim_surf',\n",
    "             'diat_Fe_lim_surf', 'diat_P_lim_surf','diat_N_lim_surf','diat_SiO3_lim_surf',\n",
    "             'diaz_P_lim_surf','cocco_Fe_lim_surf','cocco_C_lim_surf','cocco_N_lim_surf',\n",
    "             'cocco_P_lim_surf','diaz_Fe_lim_surf']\n",
    "keep_vars=['z_t','z_t_150m','dz','time_bound', 'time', 'TAREA','TLAT','TLONG'] + variables\n",
    "ds = ds.drop_vars([v for v in ds.variables if v not in keep_vars])"
   ]
  },
  {
   "cell_type": "markdown",
   "id": "1ab5692f-1739-4093-ba41-fd13334bd07f",
   "metadata": {},
   "source": [
    "## Processing\n",
    "### Make a monthly climatology dataset"
   ]
  },
  {
   "cell_type": "code",
   "execution_count": null,
   "id": "14c52a48-49d3-4395-bc8b-56b7c3a41e78",
   "metadata": {},
   "outputs": [],
   "source": [
    "time = pd.date_range(start=\"2009-01-01\", end=\"2019-01-01\",freq=\"M\")"
   ]
  },
  {
   "cell_type": "code",
   "execution_count": null,
   "id": "1c6bae3c-94b8-4b7b-844f-624949d28d28",
   "metadata": {},
   "outputs": [],
   "source": [
    "mon_ds = ds.copy()\n",
    "mon_ds['time'] = time\n",
    "mon_ds = ds.groupby('time.month').mean('time')"
   ]
  },
  {
   "cell_type": "markdown",
   "id": "d0839bf0-81e4-4ad4-84e4-dcbd7357ffb8",
   "metadata": {},
   "source": [
    "### Global mean in time"
   ]
  },
  {
   "cell_type": "markdown",
   "id": "0a6077af-aa1b-4a2a-b800-efd718206ab3",
   "metadata": {},
   "source": [
    "Pull in the functions we defined in the nutrients notebook..."
   ]
  },
  {
   "cell_type": "code",
   "execution_count": 10,
   "id": "c2783e12-46a7-4e03-986e-739ac384f782",
   "metadata": {},
   "outputs": [],
   "source": [
    "def year_mean(ds):\n",
    "    \"\"\"\n",
    "    Add a docstring\n",
    "    Source: https://ncar.github.io/esds/posts/2021/yearly-averages-xarray/\n",
    "    \"\"\"\n",
    "    \n",
    "    # Make a DataArray with the number of days in each month, size = len(time)\n",
    "    month_length = ds.time.dt.days_in_month\n",
    "\n",
    "    # Calculate the weights by grouping by 'time.season'\n",
    "    weights = (\n",
    "        month_length.groupby(\"time.year\") / month_length.groupby(\"time.year\").sum()\n",
    "    )\n",
    "\n",
    "    # Test that the sum of the weights for each season is 1.0\n",
    "    np.testing.assert_allclose(weights.groupby(\"time.year\").sum().values, np.ones((len(ds.groupby(\"time.year\")), )))\n",
    "\n",
    "    # Calculate the weighted average\n",
    "    return (ds * weights).groupby(\"time.year\").sum(dim=\"time\")"
   ]
  },
  {
   "cell_type": "code",
   "execution_count": 11,
   "id": "bcf0b7c0-0768-4d13-b3e0-b210b9e659e4",
   "metadata": {},
   "outputs": [],
   "source": [
    "# Take the long-term mean of our data set, processing years and months separately (improve this comment)\n",
    "\n",
    "ds = year_mean(ds).mean(\"year\")"
   ]
  },
  {
   "cell_type": "markdown",
   "id": "a9e75c73-8bcf-459f-b017-736de91d88b3",
   "metadata": {},
   "source": [
    "### Phytoplankton limitations at the surface"
   ]
  },
  {
   "cell_type": "code",
   "execution_count": null,
   "id": "7e26a30a-f13f-430e-8a3d-6de0767eb99f",
   "metadata": {},
   "outputs": [],
   "source": [
    "#most limiting nutrient - concatenate the limitation terms so that nutrient limitation terms are each along the 'nutrient' dimension\n",
    "# 0 = PO4\n",
    "# 1 = Fe\n",
    "# 2 = NO3 (only for sp and diat)\n",
    "# 3 = Si (only for diat)\n",
    "# 3 = C (only for cocco)\n",
    "\n",
    "limarray_sp=xr.concat((ds.sp_P_lim_surf, ds.sp_Fe_lim_surf,ds.sp_N_lim_surf),dim='nutrient')\n",
    "limarray_diat=xr.concat((ds.diat_P_lim_surf, ds.diat_Fe_lim_surf, ds.diat_N_lim_surf, ds.diat_SiO3_lim_surf),dim='nutrient')\n",
    "limarray_diaz=xr.concat((ds.diaz_P_lim_surf, ds.diaz_Fe_lim_surf),dim='nutrient')\n",
    "limarray_cocco=xr.concat((ds.cocco_P_lim_surf, ds.cocco_Fe_lim_surf, ds.cocco_N_lim_surf, ds.cocco_C_lim_surf),dim='nutrient')\n",
    "                          \n",
    "most_lim_sp=limarray_sp.argmin(dim='nutrient', skipna=False).squeeze()\n",
    "most_lim_diat=limarray_diat.argmin(dim='nutrient', skipna=False).squeeze()\n",
    "most_lim_diaz=limarray_diaz.argmin(dim='nutrient', skipna=False).squeeze()\n",
    "most_lim_cocco=limarray_cocco.argmin(dim='nutrient', skipna=False).squeeze()\n",
    "mask = np.isnan(ds.sp_N_lim_surf.squeeze())"
   ]
  },
  {
   "cell_type": "code",
   "execution_count": null,
   "id": "bff8e04c-c929-4159-8c04-208cad7285d6",
   "metadata": {},
   "outputs": [],
   "source": [
    "fig = plt.figure(figsize=(8,13))\n",
    "colorbar_specs = {'ticks' : np.arange(0,4,1)}\n",
    "\n",
    "ax = fig.add_subplot(4,1,2, projection=ccrs.Robinson(central_longitude=305.0))\n",
    "ax.set_title('Diat surface nut lim', fontsize=12)\n",
    "lon, lat, field = utils.adjust_pop_grid(lons, lats,  most_lim_diat.where(~mask))\n",
    "pc=ax.pcolormesh(lon, lat, field, cmap=plt.cm.get_cmap('Dark2_r',4),vmin=-0.5,vmax=3.5,transform=ccrs.PlateCarree())\n",
    "\n",
    "ax = fig.add_subplot(4,1,1, projection=ccrs.Robinson(central_longitude=305.0))\n",
    "ax.set_title('SP surface nut lim', fontsize=12)\n",
    "lon, lat, field = utils.adjust_pop_grid(lons, lats,  most_lim_sp.where(~mask))\n",
    "pc=ax.pcolormesh(lon, lat, field, cmap=plt.cm.get_cmap('Dark2_r',4),vmin=-0.5,vmax=3.5,transform=ccrs.PlateCarree())\n",
    "\n",
    "ax = fig.add_subplot(4,1,3, projection=ccrs.Robinson(central_longitude=305.0))\n",
    "ax.set_title('Cocco surface nut lim', fontsize=12)\n",
    "lon, lat, field = utils.adjust_pop_grid(lons, lats,  most_lim_cocco.where(~mask))\n",
    "pc=ax.pcolormesh(lon, lat, field, cmap=plt.cm.get_cmap('Dark2_r',4),vmin=-0.5,vmax=3.5,transform=ccrs.PlateCarree())\n",
    "\n",
    "ax = fig.add_subplot(4,1,4, projection=ccrs.Robinson(central_longitude=305.0))\n",
    "ax.set_title('Diaz surface nut lim', fontsize=12)\n",
    "lon, lat, field = utils.adjust_pop_grid(lons, lats,  most_lim_diaz.where(~mask))\n",
    "pc=ax.pcolormesh(lon, lat, field, cmap=plt.cm.get_cmap('Dark2_r',4),vmin=-0.5,vmax=3.5,transform=ccrs.PlateCarree())\n",
    "\n",
    "fig.subplots_adjust(right=0.8)\n",
    "cbar_ax = fig.add_axes([0.85, 0.15, 0.05, 0.7])\n",
    "cbar = fig.colorbar(pc, cax=cbar_ax,**colorbar_specs)\n",
    "cbar.ax.set_yticklabels(['P lim', 'Fe lim', 'N lim','SiO3/C lim']);"
   ]
  },
  {
   "cell_type": "markdown",
   "id": "360fe6d4-d367-4dae-8e0b-20e06b5df51c",
   "metadata": {},
   "source": [
    "### Biomass weighted phytoplankton limitations in the top 100m"
   ]
  },
  {
   "cell_type": "code",
   "execution_count": null,
   "id": "ea5a90a1-d198-4d57-9708-6947baeceec1",
   "metadata": {},
   "outputs": [],
   "source": [
    "#most limiting nutrient - concatenate the limitation terms so that nutrient limitation terms are each along the 'nutrient' dimension\n",
    "# 0 = PO4\n",
    "# 1 = Fe\n",
    "# 2 = NO3 (only for sp and diat)\n",
    "# 3 = Si (only for diat)\n",
    "# 3 = C (only for cocco)\n",
    "\n",
    "limarray_sp=xr.concat((ds.sp_P_lim_Cweight_avg_100m, ds.sp_Fe_lim_Cweight_avg_100m,ds.sp_N_lim_Cweight_avg_100m),dim='nutrient')\n",
    "limarray_diat=xr.concat((ds.diat_P_lim_Cweight_avg_100m, ds.diat_Fe_lim_Cweight_avg_100m, ds.diat_N_lim_Cweight_avg_100m, ds.diat_SiO3_lim_Cweight_avg_100m),dim='nutrient')\n",
    "limarray_diaz=xr.concat((ds.diaz_P_lim_Cweight_avg_100m, ds.diaz_Fe_lim_Cweight_avg_100m),dim='nutrient')\n",
    "limarray_cocco=xr.concat((ds.cocco_P_lim_Cweight_avg_100m, ds.cocco_Fe_lim_Cweight_avg_100m, ds.cocco_N_lim_Cweight_avg_100m, ds.cocco_C_lim_Cweight_avg_100m),dim='nutrient')\n",
    "                          \n",
    "most_lim_sp=limarray_sp.argmin(dim='nutrient', skipna=False).squeeze()\n",
    "most_lim_diat=limarray_diat.argmin(dim='nutrient', skipna=False).squeeze()\n",
    "most_lim_diaz=limarray_diaz.argmin(dim='nutrient', skipna=False).squeeze()\n",
    "most_lim_cocco=limarray_cocco.argmin(dim='nutrient', skipna=False).squeeze()\n",
    "mask = np.isnan(ds.sp_N_lim_surf.squeeze())"
   ]
  },
  {
   "cell_type": "code",
   "execution_count": null,
   "id": "b53c2678-afcf-4b42-b4bc-08f63163194c",
   "metadata": {},
   "outputs": [],
   "source": [
    "fig = plt.figure(figsize=(8,13))\n",
    "colorbar_specs = {'ticks' : np.arange(0,4,1)}\n",
    "\n",
    "ax = fig.add_subplot(4,1,2, projection=ccrs.Robinson(central_longitude=305.0))\n",
    "ax.set_title('Diat biomass-weighted nut lim', fontsize=12)\n",
    "lon, lat, field = utils.adjust_pop_grid(lons, lats,  most_lim_diat.where(~mask))\n",
    "pc=ax.pcolormesh(lon, lat, field, cmap=plt.cm.get_cmap('Dark2_r',4),vmin=-0.5,vmax=3.5,transform=ccrs.PlateCarree())\n",
    "\n",
    "ax = fig.add_subplot(4,1,1, projection=ccrs.Robinson(central_longitude=305.0))\n",
    "ax.set_title('SP biomass-weighted nut lim', fontsize=12)\n",
    "lon, lat, field = utils.adjust_pop_grid(lons, lats,  most_lim_sp.where(~mask))\n",
    "pc=ax.pcolormesh(lon, lat, field, cmap=plt.cm.get_cmap('Dark2_r',4),vmin=-0.5,vmax=3.5,transform=ccrs.PlateCarree())\n",
    "\n",
    "ax = fig.add_subplot(4,1,3, projection=ccrs.Robinson(central_longitude=305.0))\n",
    "ax.set_title('Cocco biomass-weighted nut lim', fontsize=12)\n",
    "lon, lat, field = utils.adjust_pop_grid(lons, lats,  most_lim_cocco.where(~mask))\n",
    "pc=ax.pcolormesh(lon, lat, field, cmap=plt.cm.get_cmap('Dark2_r',4),vmin=-0.5,vmax=3.5,transform=ccrs.PlateCarree())\n",
    "\n",
    "ax = fig.add_subplot(4,1,4, projection=ccrs.Robinson(central_longitude=305.0))\n",
    "ax.set_title('Diaz biomass-weighted nut lim', fontsize=12)\n",
    "lon, lat, field = utils.adjust_pop_grid(lons, lats,  most_lim_diaz.where(~mask))\n",
    "pc=ax.pcolormesh(lon, lat, field, cmap=plt.cm.get_cmap('Dark2_r',4),vmin=-0.5,vmax=3.5,transform=ccrs.PlateCarree())\n",
    "\n",
    "fig.subplots_adjust(right=0.8)\n",
    "cbar_ax = fig.add_axes([0.85, 0.15, 0.05, 0.7])\n",
    "cbar = fig.colorbar(pc, cax=cbar_ax,**colorbar_specs)\n",
    "cbar.ax.set_yticklabels(['P lim', 'Fe lim', 'N lim','SiO3/C lim']);"
   ]
  },
  {
   "cell_type": "markdown",
   "id": "85ba9b34-f432-4739-a369-57cee335c771",
   "metadata": {},
   "source": [
    "### Monthly climatology of surface phytoplankton limitations"
   ]
  },
  {
   "cell_type": "code",
   "execution_count": null,
   "id": "c092bad4-46da-4273-8a05-8b9d2d3712af",
   "metadata": {},
   "outputs": [],
   "source": [
    "#most limiting nutrient - concatenate the limitation terms so that nutrient limitation terms are each along the 'nutrient' dimension\n",
    "# 0 = PO4\n",
    "# 1 = Fe\n",
    "# 2 = NO3 (only for sp and diat)\n",
    "# 3 = Si (only for diat)\n",
    "# 3 = C (only for cocco)\n",
    "\n",
    "limarray_sp=xr.concat((mon_ds.sp_P_lim_surf, mon_ds.sp_Fe_lim_surf,mon_ds.sp_N_lim_surf),dim='nutrient')\n",
    "limarray_diat=xr.concat((mon_ds.diat_P_lim_surf, mon_ds.diat_Fe_lim_surf, mon_ds.diat_N_lim_surf, mon_ds.diat_SiO3_lim_surf),dim='nutrient')\n",
    "limarray_diaz=xr.concat((mon_ds.diaz_P_lim_surf, mon_ds.diaz_Fe_lim_surf),dim='nutrient')\n",
    "limarray_cocco=xr.concat((mon_ds.cocco_P_lim_surf, mon_ds.cocco_Fe_lim_surf, mon_ds.cocco_N_lim_surf, mon_ds.cocco_C_lim_surf),dim='nutrient')\n",
    "\n",
    "most_lim_sp=limarray_sp.argmin(dim='nutrient', skipna=False)\n",
    "most_lim_diat=limarray_diat.argmin(dim='nutrient', skipna=False)\n",
    "most_lim_diaz=limarray_diaz.argmin(dim='nutrient', skipna=False)\n",
    "most_lim_cocco=limarray_cocco.argmin(dim='nutrient', skipna=False)\n",
    "mask = np.isnan(ds.sp_N_lim_surf.squeeze())"
   ]
  },
  {
   "cell_type": "code",
   "execution_count": null,
   "id": "a9285446-29f2-4d64-8b45-f7c5bf20a3bf",
   "metadata": {},
   "outputs": [],
   "source": [
    "fig = plt.figure(figsize=(12,23))\n",
    "\n",
    "for row in np.arange(1,13):\n",
    "    ts=row-1\n",
    "    \n",
    "    plot = row*3 - 2\n",
    "    \n",
    "    #row 1 Jan\n",
    "    ax = fig.add_subplot(12,3,plot, projection=ccrs.Robinson(central_longitude=305.0))\n",
    "    ax.set_title('Diat surface nut lim', fontsize=12)\n",
    "    lon, lat, field = utils.adjust_pop_grid(lons, lats,  most_lim_diat.isel(month=ts).where(~mask))\n",
    "    pc=ax.pcolormesh(lon, lat, field, cmap=plt.cm.get_cmap('Dark2_r',4),vmin=-0.5,vmax=3.5,transform=ccrs.PlateCarree())\n",
    "    colorbar_specs = {'ticks' : np.arange(0,4,1)}\n",
    "    \n",
    "    plot = row*3 - 1\n",
    "    ax = fig.add_subplot(12,3,plot, projection=ccrs.Robinson(central_longitude=305.0))\n",
    "    ax.set_title('SP surface nut lim', fontsize=12)\n",
    "    lon, lat, field = utils.adjust_pop_grid(lons, lats,  most_lim_sp.isel(month=ts).where(~mask))\n",
    "    pc=ax.pcolormesh(lon, lat, field, cmap=plt.cm.get_cmap('Dark2_r',4),vmin=-0.5,vmax=3.5,transform=ccrs.PlateCarree())\n",
    "    colorbar_specs = {'ticks' : np.arange(0,4,1)}\n",
    "    \n",
    "    plot = row*3\n",
    "    ax = fig.add_subplot(12,3,plot, projection=ccrs.Robinson(central_longitude=305.0))\n",
    "    ax.set_title('Cocco surface nut lim', fontsize=12)\n",
    "    lon, lat, field = utils.adjust_pop_grid(lons, lats,  most_lim_cocco.isel(month=ts).where(~mask))\n",
    "    pc=ax.pcolormesh(lon, lat, field, cmap=plt.cm.get_cmap('Dark2_r',4),vmin=-0.5,vmax=3.5,transform=ccrs.PlateCarree())\n",
    "    colorbar_specs = {'ticks' : np.arange(0,4,1)}\n",
    "\n",
    "fig.subplots_adjust(right=0.8)\n",
    "cbar_ax = fig.add_axes([0.85, 0.15, 0.05, 0.7])\n",
    "cbar = fig.colorbar(pc, cax=cbar_ax,**colorbar_specs)\n",
    "cbar.ax.set_yticklabels(['P lim', 'Fe lim', 'N lim','SiO3/C lim']);"
   ]
  },
  {
   "cell_type": "markdown",
   "id": "280263ea-7d13-49ea-9188-e2416c1a3112",
   "metadata": {},
   "source": [
    "#### Monthly climatology of biomass-weighted phytoplankton nutrient limitation terms over the top 100m"
   ]
  },
  {
   "cell_type": "code",
   "execution_count": null,
   "id": "fe3d10c5-4448-4b33-ad74-d1efabfb98b2",
   "metadata": {},
   "outputs": [],
   "source": [
    "#most limiting nutrient - concatenate the limitation terms so that nutrient limitation terms are each along the 'nutrient' dimension\n",
    "# 0 = PO4\n",
    "# 1 = Fe\n",
    "# 2 = NO3 (only for sp and diat)\n",
    "# 3 = Si (only for diat)\n",
    "# 3 = C (only for cocco)\n",
    "\n",
    "limarray_sp=xr.concat((mon_ds.sp_P_lim_Cweight_avg_100m, mon_ds.sp_Fe_lim_Cweight_avg_100m,mon_ds.sp_N_lim_Cweight_avg_100m),dim='nutrient')\n",
    "limarray_diat=xr.concat((mon_ds.diat_P_lim_Cweight_avg_100m, mon_ds.diat_Fe_lim_Cweight_avg_100m, mon_ds.diat_N_lim_Cweight_avg_100m, mon_ds.diat_SiO3_lim_Cweight_avg_100m),dim='nutrient')\n",
    "limarray_diaz=xr.concat((mon_ds.diaz_P_lim_Cweight_avg_100m, mon_ds.diaz_Fe_lim_Cweight_avg_100m),dim='nutrient')\n",
    "limarray_cocco=xr.concat((mon_ds.cocco_P_lim_Cweight_avg_100m, mon_ds.cocco_Fe_lim_Cweight_avg_100m, mon_ds.cocco_N_lim_Cweight_avg_100m, mon_ds.cocco_C_lim_Cweight_avg_100m),dim='nutrient')\n",
    "\n",
    "most_lim_sp=limarray_sp.argmin(dim='nutrient', skipna=False)\n",
    "most_lim_diat=limarray_diat.argmin(dim='nutrient', skipna=False)\n",
    "most_lim_diaz=limarray_diaz.argmin(dim='nutrient', skipna=False)\n",
    "most_lim_cocco=limarray_cocco.argmin(dim='nutrient', skipna=False)\n",
    "mask = np.isnan(ds.sp_N_lim_surf.squeeze())"
   ]
  },
  {
   "cell_type": "code",
   "execution_count": null,
   "id": "3df7b6e6-e164-4669-b6c5-df22b14df55b",
   "metadata": {},
   "outputs": [],
   "source": [
    "fig = plt.figure(figsize=(12,23))\n",
    "\n",
    "for row in np.arange(1,13):\n",
    "    ts=row-1\n",
    "    \n",
    "    plot = row*3 - 2\n",
    "    \n",
    "    #row 1 Jan\n",
    "    ax = fig.add_subplot(12,3,plot, projection=ccrs.Robinson(central_longitude=305.0))\n",
    "    ax.set_title('Diat biomass-weighted nut lim', fontsize=12)\n",
    "    lon, lat, field = utils.adjust_pop_grid(lons, lats,  most_lim_diat.isel(month=ts).where(~mask))\n",
    "    pc=ax.pcolormesh(lon, lat, field, cmap=plt.cm.get_cmap('Dark2_r',4),vmin=-0.5,vmax=3.5,transform=ccrs.PlateCarree())\n",
    "    colorbar_specs = {'ticks' : np.arange(0,4,1)}\n",
    "    \n",
    "    plot = row*3 - 1\n",
    "    ax = fig.add_subplot(12,3,plot, projection=ccrs.Robinson(central_longitude=305.0))\n",
    "    ax.set_title('SP biomass-weighted nut lim', fontsize=12)\n",
    "    lon, lat, field = utils.adjust_pop_grid(lons, lats,  most_lim_sp.isel(month=ts).where(~mask))\n",
    "    pc=ax.pcolormesh(lon, lat, field, cmap=plt.cm.get_cmap('Dark2_r',4),vmin=-0.5,vmax=3.5,transform=ccrs.PlateCarree())\n",
    "    colorbar_specs = {'ticks' : np.arange(0,4,1)}\n",
    "    \n",
    "    plot = row*3\n",
    "    ax = fig.add_subplot(12,3,plot, projection=ccrs.Robinson(central_longitude=305.0))\n",
    "    ax.set_title('Cocco biomass-weighted nut lim', fontsize=12)\n",
    "    lon, lat, field = utils.adjust_pop_grid(lons, lats,  most_lim_cocco.isel(month=ts).where(~mask))\n",
    "    pc=ax.pcolormesh(lon, lat, field, cmap=plt.cm.get_cmap('Dark2_r',4),vmin=-0.5,vmax=3.5,transform=ccrs.PlateCarree())\n",
    "    colorbar_specs = {'ticks' : np.arange(0,4,1)}\n",
    "\n",
    "fig.subplots_adjust(right=0.8)\n",
    "cbar_ax = fig.add_axes([0.85, 0.15, 0.05, 0.7])\n",
    "cbar = fig.colorbar(pc, cax=cbar_ax,**colorbar_specs)\n",
    "cbar.ax.set_yticklabels(['P lim', 'Fe lim', 'N lim','SiO3/C lim']);"
   ]
  },
  {
   "cell_type": "code",
   "execution_count": null,
   "id": "2154a07e-5c26-4a50-aaf1-4f1113059d74",
   "metadata": {},
   "outputs": [],
   "source": []
  }
 ],
 "metadata": {
  "kernelspec": {
   "display_name": "ocean-bgc-cookbook-dev",
   "language": "python",
   "name": "ocean-bgc-cookbook-dev"
  },
  "language_info": {
   "codemirror_mode": {
    "name": "ipython",
    "version": 3
   },
   "file_extension": ".py",
   "mimetype": "text/x-python",
   "name": "python",
   "nbconvert_exporter": "python",
   "pygments_lexer": "ipython3",
   "version": "3.11.7"
  }
 },
 "nbformat": 4,
 "nbformat_minor": 5
}
