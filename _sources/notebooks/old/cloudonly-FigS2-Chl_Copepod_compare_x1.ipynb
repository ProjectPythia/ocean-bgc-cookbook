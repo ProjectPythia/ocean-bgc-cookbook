{
 "cells": [
  {
   "cell_type": "code",
   "execution_count": null,
   "metadata": {
    "editable": true,
    "slideshow": {
     "slide_type": ""
    },
    "tags": []
   },
   "outputs": [],
   "source": [
    "import numpy as np\n",
    "import math\n",
    "import xarray as xr\n",
    "import matplotlib\n",
    "import matplotlib.pyplot as plt\n",
    "%matplotlib inline\n",
    "from glob import glob\n",
    "import cartopy\n",
    "import cartopy.crs as ccrs\n",
    "import metpy.calc as mpcalc\n",
    "import warnings\n",
    "warnings.filterwarnings('ignore')\n",
    "from scipy import stats\n",
    "import pop_tools \n",
    "import matplotlib.path as mpath\n",
    "import dask\n",
    "import pandas as pd\n",
    "import copernicus_marine_client as copernicus_marine\n",
    "import os\n",
    "import urllib\n",
    "import subprocess\n",
    "\n",
    "import matplotlib.gridspec as gridspec\n",
    "import matplotlib.colors as colors"
   ]
  },
  {
   "cell_type": "markdown",
   "metadata": {},
   "source": [
    "# Cloud data only"
   ]
  },
  {
   "cell_type": "markdown",
   "metadata": {},
   "source": [
    "## To dos:\n",
    "- Pick a smaller timespan to subset on\n",
    "- Figure out cloud storage locations for CESM dataset and COPEPOD dataset, if unable to access another way\n",
    "- Add much more text describing motivation, some of the science"
   ]
  },
  {
   "cell_type": "markdown",
   "metadata": {
    "tags": []
   },
   "source": [
    "# Getting GlobColour chlorophyll concentration satellite data"
   ]
  },
  {
   "cell_type": "code",
   "execution_count": null,
   "metadata": {},
   "outputs": [],
   "source": [
    "### need to get a generic set of login credentials and provide a file to input those\n",
    "\n",
    "ds_sat = copernicus_marine.open_dataset( \n",
    "    dataset_id = 'c3s_obs-oc_glo_bgc-plankton_my_l3-multi-4km_P1D',\n",
    "    variables= ['CHL'],\n",
    "    start_datetime = \"2012-01-01\",\n",
    "    end_datetime = \"2012-12-31\",\n",
    ")\n",
    "ds_sat"
   ]
  },
  {
   "cell_type": "code",
   "execution_count": null,
   "metadata": {},
   "outputs": [],
   "source": [
    "ds_sat = ds_sat.mean(dim='time')"
   ]
  },
  {
   "cell_type": "markdown",
   "metadata": {},
   "source": [
    "# Getting COPEPOD data"
   ]
  },
  {
   "cell_type": "code",
   "execution_count": null,
   "metadata": {},
   "outputs": [],
   "source": [
    "url = 'https://www.st.nmfs.noaa.gov/copepod/biomass/copepod-2012__biomass-fields.zip'\n",
    "\n",
    "local_file = 'data/orig/copepod-2012__biomass-fields.zip'\n",
    "os.makedirs(os.path.dirname(local_file), exist_ok=True)\n",
    "if not os.path.exists('data/orig/copepod-2012__biomass-fields'):\n",
    "    urllib.request.urlretrieve(url, local_file)\n",
    "    subprocess.run(['unzip', '-d', 'data/orig', local_file])"
   ]
  },
  {
   "cell_type": "code",
   "execution_count": null,
   "metadata": {},
   "outputs": [],
   "source": [
    "def csv2nc(f):\n",
    "    \"\"\"Convert csv file to Xarray dataset\"\"\"\n",
    "    lon = xr.DataArray(np.arange(-180 + 0.125, 180., 0.25), dims=('lon'), name='lon')\n",
    "    lat = xr.DataArray(np.arange(-90 + 0.125, 90., 0.25), dims=('lat'), name='lat')\n",
    "\n",
    "    rename_dict = {\n",
    "        'Longitude': 'lon', \n",
    "        'Latitude': 'lat', \n",
    "        'Total Carbon Mass (mg-C/m3)': 'copepod_C',\n",
    "        'n': 'n_obs',\n",
    "    }\n",
    "    attrs = dict(\n",
    "        copepod_C=dict(\n",
    "            units='mg-C m$^{-3}$',\n",
    "            long_name='Total Carbon Mass',\n",
    "        )\n",
    "    )\n",
    "    \n",
    "    keep_vars = list(rename_dict.values())\n",
    "    \n",
    "    df = pd.read_csv(f).rename(rename_dict, axis=1)[keep_vars].set_index(['lon', 'lat'])\n",
    "    _, ds = xr.align(xr.Dataset(dict(lon=lon, lat=lat)), df.to_xarray(), join='outer')\n",
    "    \n",
    "    for v in attrs:\n",
    "        ds[v].attrs = attrs[v]    \n",
    "    \n",
    "    ds.attrs['file_in'] = f\n",
    "    return ds.transpose('lat', 'lon')\n",
    "\n",
    "dirout = 'data/0_25x0_25'\n",
    "os.makedirs(dirout, exist_ok=True)\n",
    "\n",
    "clobber = True\n",
    "\n",
    "files_csv = sorted(glob('data/orig/copepod-2012__biomass-fields/data/copepod-2012__cmass-m??-qtr.csv'))\n",
    "files_jpg = sorted(glob('data/orig/copepod-2012__biomass-fields/images/copepod-2012__cmass-m??.jpg'))\n",
    "\n",
    "for file_csv in files_csv:\n",
    "    file_zarr = f\"{dirout}/{os.path.basename(file_csv).replace('csv', 'zarr')}\"\n",
    "\n",
    "    ds = csv2nc(file_csv)\n",
    "    if not os.path.exists(file_zarr) or clobber:        \n",
    "        ds.to_zarr(file_zarr, mode='w')"
   ]
  },
  {
   "cell_type": "code",
   "execution_count": null,
   "metadata": {},
   "outputs": [],
   "source": [
    "#file = '/glade/u/home/kristenk/work/copepod-biomass/data/POP_gx1v7/copepod-2012__cmass-m00-qtr.zarr'\n",
    "file = 'data/0_25x0_25/copepod-2012__cmass-m00-qtr.zarr'\n",
    "ds_copepod = xr.open_dataset(file, engine=\"zarr\")\n",
    "\n",
    "### explain this unit conversion - assuming grams to moles?\n",
    "ds_copepod['copepod_C']=ds_copepod.copepod_C/12.011"
   ]
  },
  {
   "cell_type": "code",
   "execution_count": null,
   "metadata": {},
   "outputs": [],
   "source": [
    "ds_copepod"
   ]
  },
  {
   "cell_type": "code",
   "execution_count": null,
   "metadata": {},
   "outputs": [],
   "source": [
    "### add some more labels to this plot, or another version of it to show both quick and detailed\n",
    "\n",
    "#ds_copepod['copepod_C'].plot()\n",
    "\n",
    "plt.pcolormesh(ds_copepod.lon, ds_copepod.lat, ds_copepod.copepod_C, cmap='Reds', vmin=0, vmax=2)"
   ]
  },
  {
   "cell_type": "markdown",
   "metadata": {},
   "source": [
    "# Make the chlorophyll and copepod maps"
   ]
  },
  {
   "cell_type": "code",
   "execution_count": null,
   "metadata": {},
   "outputs": [],
   "source": [
    "ds_grid_x1 = pop_tools.get_grid('POP_gx1v7')\n",
    "lons_x1=ds_grid_x1.TLONG\n",
    "lats_x1=ds_grid_x1.TLAT"
   ]
  },
  {
   "cell_type": "code",
   "execution_count": null,
   "metadata": {},
   "outputs": [],
   "source": [
    "fig = plt.figure(figsize=(10, 8))\n",
    "gs = gridspec.GridSpec(nrows=2, ncols=2, width_ratios=(1, 0.04))\n",
    "\n",
    "prj = ccrs.Robinson(central_longitude=305.0)\n",
    "\n",
    "ax_chl_sat = plt.subplot(gs[0, 0], projection=prj)\n",
    "ax_meso_cope = plt.subplot(gs[1, 0], projection=prj)\n",
    "\n",
    "ax_chl_sat.set_title('a) GlobColour chlorophyll', fontsize=12)\n",
    "pc_chl_sat=ax_chl_sat.pcolormesh(ds_sat.longitude, ds_sat.latitude, ds_sat.CHL, \n",
    "                     cmap='Greens',norm=colors.LogNorm(vmin=0.1, vmax=3),\n",
    "                     transform=ccrs.PlateCarree())\n",
    "ax_chl_sat.coastlines('110m',linewidth=0.75)\n",
    "\n",
    "\n",
    "ax_meso_cope.set_title('b) COPEPOD dataset', fontsize=12)\n",
    "pc_meso_cope=ax_meso_cope.pcolormesh(ds_copepod.lon, ds_copepod.lat, ds_copepod.copepod_C, cmap='Reds',vmin=0,vmax=2,transform=ccrs.PlateCarree())\n",
    "ax_meso_cope.coastlines('110m',linewidth=0.5)\n",
    "\n",
    "\n",
    "cax_chl = plt.subplot(gs[0, 1])\n",
    "cax_meso = plt.subplot(gs[1, 1])\n",
    "\n",
    "cb_chl = plt.colorbar(pc_chl_sat, cax=cax_chl,extend='max', \n",
    "                      label='Chlorophyll at surface (mg m$^{-3}$)')\n",
    "cb_meso = plt.colorbar(pc_meso_cope, cax=cax_meso,extend='max', label='top 150m/200m mean (mmol m$^{-3}$)')\n",
    "\n",
    "\n",
    "### why is land getting a nonzero value? fix through mask or otherwise\n",
    "\n",
    "#fig.savefig('/glade/work/kristenk/figs/chl_copepod_comparison_x1.png', bbox_inches='tight', dpi=300, format='png');"
   ]
  }
 ],
 "metadata": {
  "kernelspec": {
   "display_name": "",
   "name": ""
  },
  "language_info": {
   "name": "python"
  }
 },
 "nbformat": 4,
 "nbformat_minor": 4
}
